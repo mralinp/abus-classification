{
 "cells": [
  {
   "cell_type": "code",
   "execution_count": 26,
   "id": "40e8f8c3-d38f-4598-b9d0-1cd1a0b67a19",
   "metadata": {},
   "outputs": [
    {
     "ename": "ModuleNotFoundError",
     "evalue": "No module named 'dataset'",
     "output_type": "error",
     "traceback": [
      "\u001b[0;31m---------------------------------------------------------------------------\u001b[0m",
      "\u001b[0;31mModuleNotFoundError\u001b[0m                       Traceback (most recent call last)",
      "Cell \u001b[0;32mIn[26], line 1\u001b[0m\n\u001b[0;32m----> 1\u001b[0m \u001b[39mfrom\u001b[39;00m \u001b[39mdataset\u001b[39;00m \u001b[39mimport\u001b[39;00m tdsc\n",
      "\u001b[0;31mModuleNotFoundError\u001b[0m: No module named 'dataset'"
     ]
    }
   ],
   "source": [
    "from dataset import tdsc"
   ]
  },
  {
   "cell_type": "code",
   "execution_count": 14,
   "id": "6465bbee",
   "metadata": {},
   "outputs": [
    {
     "data": {
      "text/html": [
       "<div>\n",
       "<style scoped>\n",
       "    .dataframe tbody tr th:only-of-type {\n",
       "        vertical-align: middle;\n",
       "    }\n",
       "\n",
       "    .dataframe tbody tr th {\n",
       "        vertical-align: top;\n",
       "    }\n",
       "\n",
       "    .dataframe thead th {\n",
       "        text-align: right;\n",
       "    }\n",
       "</style>\n",
       "<table border=\"1\" class=\"dataframe\">\n",
       "  <thead>\n",
       "    <tr style=\"text-align: right;\">\n",
       "      <th></th>\n",
       "      <th>label</th>\n",
       "      <th>data_path</th>\n",
       "      <th>mask_path</th>\n",
       "    </tr>\n",
       "    <tr>\n",
       "      <th>case_id</th>\n",
       "      <th></th>\n",
       "      <th></th>\n",
       "      <th></th>\n",
       "    </tr>\n",
       "  </thead>\n",
       "  <tbody>\n",
       "    <tr>\n",
       "      <th>0</th>\n",
       "      <td>M</td>\n",
       "      <td>DATA\\DATA_000.nrrd</td>\n",
       "      <td>MASK\\MASK_000.nrrd</td>\n",
       "    </tr>\n",
       "    <tr>\n",
       "      <th>1</th>\n",
       "      <td>B</td>\n",
       "      <td>DATA\\DATA_001.nrrd</td>\n",
       "      <td>MASK\\MASK_001.nrrd</td>\n",
       "    </tr>\n",
       "    <tr>\n",
       "      <th>2</th>\n",
       "      <td>M</td>\n",
       "      <td>DATA\\DATA_002.nrrd</td>\n",
       "      <td>MASK\\MASK_002.nrrd</td>\n",
       "    </tr>\n",
       "    <tr>\n",
       "      <th>3</th>\n",
       "      <td>M</td>\n",
       "      <td>DATA\\DATA_003.nrrd</td>\n",
       "      <td>MASK\\MASK_003.nrrd</td>\n",
       "    </tr>\n",
       "    <tr>\n",
       "      <th>4</th>\n",
       "      <td>B</td>\n",
       "      <td>DATA\\DATA_004.nrrd</td>\n",
       "      <td>MASK\\MASK_004.nrrd</td>\n",
       "    </tr>\n",
       "  </tbody>\n",
       "</table>\n",
       "</div>"
      ],
      "text/plain": [
       "        label           data_path           mask_path\n",
       "case_id                                              \n",
       "0           M  DATA\\DATA_000.nrrd  MASK\\MASK_000.nrrd\n",
       "1           B  DATA\\DATA_001.nrrd  MASK\\MASK_001.nrrd\n",
       "2           M  DATA\\DATA_002.nrrd  MASK\\MASK_002.nrrd\n",
       "3           M  DATA\\DATA_003.nrrd  MASK\\MASK_003.nrrd\n",
       "4           B  DATA\\DATA_004.nrrd  MASK\\MASK_004.nrrd"
      ]
     },
     "execution_count": 14,
     "metadata": {},
     "output_type": "execute_result"
    }
   ],
   "source": [
    "dataset = TDSC()"
   ]
  },
  {
   "cell_type": "code",
   "execution_count": 22,
   "id": "aeebfa15",
   "metadata": {},
   "outputs": [
    {
     "name": "stdout",
     "output_type": "stream",
     "text": [
      "MASK\\MASK_000.nrrd\n"
     ]
    }
   ],
   "source": [
    "x = meta.iloc[0]\n",
    "print(x.mask_path)"
   ]
  },
  {
   "cell_type": "code",
   "execution_count": 23,
   "id": "1304ac59",
   "metadata": {},
   "outputs": [
    {
     "name": "stdout",
     "output_type": "stream",
     "text": [
      "100\n"
     ]
    }
   ],
   "source": [
    "print (len(meta))"
   ]
  },
  {
   "cell_type": "code",
   "execution_count": 25,
   "id": "7606968e",
   "metadata": {},
   "outputs": [
    {
     "name": "stdout",
     "output_type": "stream",
     "text": [
      "ali/hassan\n"
     ]
    }
   ],
   "source": [
    "a = \"ali\\\\hassan\"\n",
    "a = a.replace('\\\\', '/')\n",
    "print(a)"
   ]
  }
 ],
 "metadata": {
  "kernelspec": {
   "display_name": "Python 3 (ipykernel)",
   "language": "python",
   "name": "python3"
  },
  "language_info": {
   "codemirror_mode": {
    "name": "ipython",
    "version": 3
   },
   "file_extension": ".py",
   "mimetype": "text/x-python",
   "name": "python",
   "nbconvert_exporter": "python",
   "pygments_lexer": "ipython3",
   "version": "3.9.16"
  },
  "vscode": {
   "interpreter": {
    "hash": "02ecc31a93c92236bcb8a960226e7aeddb561ea97de1a7f613a0ebdcb11271c7"
   }
  }
 },
 "nbformat": 4,
 "nbformat_minor": 5
}
