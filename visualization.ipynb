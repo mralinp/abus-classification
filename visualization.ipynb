{
 "cells": [
  {
   "cell_type": "code",
   "execution_count": 2,
   "id": "40e8f8c3-d38f-4598-b9d0-1cd1a0b67a19",
   "metadata": {},
   "outputs": [],
   "source": [
    "import pandas as pd\n",
    "import numpy as np\n",
    "import shutil\n",
    "import os"
   ]
  },
  {
   "cell_type": "code",
   "execution_count": 4,
   "metadata": {},
   "outputs": [],
   "source": [
    "dataset = pd.read_csv(f\"./data/tdsc/train/labels.csv\", dtype={'Case_id': int, 'Label': str, 'Data_path': str, 'Mask_path': str}).set_index('case_id')"
   ]
  },
  {
   "cell_type": "code",
   "execution_count": 6,
   "metadata": {},
   "outputs": [
    {
     "name": "stdout",
     "output_type": "stream",
     "text": [
      "        label           data_path           mask_path\n",
      "case_id                                              \n",
      "0           M  DATA\\DATA_000.nrrd  MASK\\MASK_000.nrrd\n",
      "1           B  DATA\\DATA_001.nrrd  MASK\\MASK_001.nrrd\n",
      "2           M  DATA\\DATA_002.nrrd  MASK\\MASK_002.nrrd\n",
      "3           M  DATA\\DATA_003.nrrd  MASK\\MASK_003.nrrd\n",
      "4           B  DATA\\DATA_004.nrrd  MASK\\MASK_004.nrrd\n"
     ]
    }
   ],
   "source": [
    "print(dataset.head())"
   ]
  },
  {
   "cell_type": "code",
   "execution_count": 9,
   "metadata": {},
   "outputs": [
    {
     "name": "stdout",
     "output_type": "stream",
     "text": [
      "        label           data_path           mask_path\n",
      "case_id                                              \n",
      "0           M  DATA\\DATA_000.nrrd  MASK\\MASK_000.nrrd\n",
      "2           M  DATA\\DATA_002.nrrd  MASK\\MASK_002.nrrd\n",
      "3           M  DATA\\DATA_003.nrrd  MASK\\MASK_003.nrrd\n",
      "6           M  DATA\\DATA_006.nrrd  MASK\\MASK_006.nrrd\n",
      "8           M  DATA\\DATA_008.nrrd  MASK\\MASK_008.nrrd\n",
      "        label           data_path           mask_path\n",
      "case_id                                              \n",
      "1           B  DATA\\DATA_001.nrrd  MASK\\MASK_001.nrrd\n",
      "4           B  DATA\\DATA_004.nrrd  MASK\\MASK_004.nrrd\n",
      "5           B  DATA\\DATA_005.nrrd  MASK\\MASK_005.nrrd\n",
      "7           B  DATA\\DATA_007.nrrd  MASK\\MASK_007.nrrd\n",
      "11          B  DATA\\DATA_011.nrrd  MASK\\MASK_011.nrrd\n"
     ]
    }
   ],
   "source": [
    "malignants = dataset[(dataset == 'M').any(axis=1)]\n",
    "benigns = dataset[(dataset == 'B').any(axis=1)]\n",
    "print(malignants.head())\n",
    "print(benigns.head())"
   ]
  },
  {
   "cell_type": "code",
   "execution_count": 10,
   "metadata": {},
   "outputs": [
    {
     "name": "stdout",
     "output_type": "stream",
     "text": [
      "58 42\n"
     ]
    }
   ],
   "source": [
    "print(len(malignants), len(benigns))"
   ]
  },
  {
   "cell_type": "code",
   "execution_count": 28,
   "metadata": {},
   "outputs": [
    {
     "name": "stdout",
     "output_type": "stream",
     "text": [
      "[24  8 34  2 36 35  0 25 18 48 50 51]\n",
      "[16  2 35 11  0  7 18 32]\n"
     ]
    }
   ],
   "source": [
    "validation_mal = np.random.randint(0,58,12)\n",
    "validation_beg = np.random.randint(0,42,8)\n",
    "\n",
    "print(validation_mal)\n",
    "print(validation_beg)"
   ]
  },
  {
   "cell_type": "code",
   "execution_count": 33,
   "metadata": {},
   "outputs": [],
   "source": [
    "for i, data in enumerate(malignants.iterrows()):\n",
    "    idx, data = data\n",
    "    mask_path = data['mask_path'].replace('\\\\', '/')\n",
    "    data_path = data['data_path'].replace('\\\\', '/')\n",
    "    label = data['label']\n",
    "    if i in validation_mal:\n",
    "        shutil.copy(f\"./data/tdsc/train/{mask_path}\", f\"./data/tdsc/validation/mask/m/{idx}.nrrd\")\n",
    "        shutil.copy(f\"./data/tdsc/train/{data_path}\", f\"./data/tdsc/validation/data/m/{idx}.nrrd\")\n",
    "    else:\n",
    "        shutil.copy(f\"./data/tdsc/train/{mask_path}\", f\"./data/tdsc/train/mask/m/{idx}.nrrd\")\n",
    "        shutil.copy(f\"./data/tdsc/train/{data_path}\", f\"./data/tdsc/train/data/m/{idx}.nrrd\")\n",
    "        \n",
    "    \n",
    "for i, data in enumerate(benigns.iterrows()):\n",
    "    idx, data = data\n",
    "    mask_path = data['mask_path'].replace('\\\\', '/')\n",
    "    data_path = data['data_path'].replace('\\\\', '/')\n",
    "    label = data['label']\n",
    "    if i in validation_mal:\n",
    "        shutil.copy(f\"./data/tdsc/train/{mask_path}\", f\"./data/tdsc/validation/mask/b/{idx}.nrrd\")\n",
    "        shutil.copy(f\"./data/tdsc/train/{data_path}\", f\"./data/tdsc/validation/data/b/{idx}.nrrd\")\n",
    "    else:\n",
    "        shutil.copy(f\"./data/tdsc/train/{mask_path}\", f\"./data/tdsc/train/mask/b/{idx}.nrrd\")\n",
    "        shutil.copy(f\"./data/tdsc/train/{data_path}\", f\"./data/tdsc/train/data/b/{idx}.nrrd\")\n"
   ]
  }
 ],
 "metadata": {
  "kernelspec": {
   "display_name": "Python 3 (ipykernel)",
   "language": "python",
   "name": "python3"
  },
  "language_info": {
   "codemirror_mode": {
    "name": "ipython",
    "version": 3
   },
   "file_extension": ".py",
   "mimetype": "text/x-python",
   "name": "python",
   "nbconvert_exporter": "python",
   "pygments_lexer": "ipython3",
   "version": "3.9.16"
  },
  "vscode": {
   "interpreter": {
    "hash": "02ecc31a93c92236bcb8a960226e7aeddb561ea97de1a7f613a0ebdcb11271c7"
   }
  }
 },
 "nbformat": 4,
 "nbformat_minor": 5
}
