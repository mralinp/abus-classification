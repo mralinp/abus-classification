{
 "cells": [
  {
   "cell_type": "code",
   "execution_count": 27,
   "metadata": {},
   "outputs": [],
   "source": [
    "import numpy as np\n",
    "import itertools\n",
    "from tqdm.notebook import tqdm\n",
    "import matplotlib.pyplot as plt\n",
    "from sklearn.svm import SVC\n",
    "from sklearn.metrics import confusion_matrix, accuracy_score\n",
    "import sys\n",
    "\n",
    "sys.path.append(\"../\")\n",
    "\n",
    "import abus_classification"
   ]
  },
  {
   "cell_type": "code",
   "execution_count": 2,
   "metadata": {},
   "outputs": [],
   "source": [
    "dataset = abus_classification.datasets.TDSCTumors(path=\"../data/tdsc\")    "
   ]
  },
  {
   "cell_type": "code",
   "execution_count": 21,
   "metadata": {},
   "outputs": [
    {
     "data": {
      "application/vnd.jupyter.widget-view+json": {
       "model_id": "2f42e40fe5024781aac183c55d970271",
       "version_major": 2,
       "version_minor": 0
      },
      "text/plain": [
       "  0%|          | 0/100 [00:00<?, ?it/s]"
      ]
     },
     "metadata": {},
     "output_type": "display_data"
    }
   ],
   "source": [
    "signature_dataset = []\n",
    "\n",
    "for i in tqdm(range(len(dataset))):\n",
    "    _,x,y = dataset[i]\n",
    "    sig = abus_classification.utils.features.boundary_signature_3d(x, resolution=(5,5))\n",
    "    signature_dataset.append((sig.flatten(), y))"
   ]
  },
  {
   "cell_type": "code",
   "execution_count": 22,
   "metadata": {},
   "outputs": [],
   "source": [
    "X, Y = zip(*signature_dataset)\n",
    "X = list(X)\n",
    "Y = list(Y)"
   ]
  },
  {
   "cell_type": "code",
   "execution_count": 23,
   "metadata": {},
   "outputs": [],
   "source": [
    "def classify_with_svm(x, y):\n",
    "    \n",
    "    acc = 0\n",
    "    train_acc = 0\n",
    "    cfm = [[0,0],\n",
    "           [0,0]]\n",
    "\n",
    "    for i in range(100):\n",
    "        x_test, y_test = x[i], y[i]\n",
    "        X_train, Y_train = x[:i] + x[i+1:], y[:i] + y[i+1:]\n",
    "        clf = SVC()\n",
    "        clf.fit(X_train, Y_train)\n",
    "        P = clf.predict(X_train)\n",
    "        train_acc += accuracy_score(Y_train, P)\n",
    "        res = clf.predict([x_test])[0]\n",
    "        if res == y_test:\n",
    "            acc += 1\n",
    "            \n",
    "        cfm[y_test][res] += 1\n",
    "            \n",
    "    print(f\"Train accuracy: {train_acc/100}\")\n",
    "    print(f\"Accuracy: {acc/100}\")\n",
    "    print(f\"{cfm[0]}\\n{cfm[1]}\")"
   ]
  },
  {
   "cell_type": "code",
   "execution_count": 28,
   "metadata": {},
   "outputs": [
    {
     "name": "stdout",
     "output_type": "stream",
     "text": [
      "Train accuracy: 0.7259595959595961\n",
      "Accuracy: 0.68\n",
      "[44, 14]\n",
      "[18, 24]\n"
     ]
    }
   ],
   "source": [
    "classify_with_svm(X,Y)"
   ]
  },
  {
   "cell_type": "code",
   "execution_count": 29,
   "metadata": {},
   "outputs": [],
   "source": [
    "def normalize(x):\n",
    "    for i in range(100):\n",
    "        x[i] = abus_classification.utils.math.normalize(x[i])\n",
    "    return x\n",
    "X = normalize(X)\n"
   ]
  },
  {
   "cell_type": "code",
   "execution_count": null,
   "metadata": {},
   "outputs": [],
   "source": [
    "print(max(X[0]))"
   ]
  },
  {
   "cell_type": "code",
   "execution_count": 30,
   "metadata": {},
   "outputs": [
    {
     "name": "stdout",
     "output_type": "stream",
     "text": [
      "Train accuracy: 0.7259595959595961\n",
      "Accuracy: 0.68\n",
      "[44, 14]\n",
      "[18, 24]\n"
     ]
    }
   ],
   "source": [
    "classify_with_svm(X,Y)\n"
   ]
  },
  {
   "cell_type": "code",
   "execution_count": null,
   "metadata": {},
   "outputs": [],
   "source": [
    "signature_dataset = []\n",
    "\n",
    "for i in tqdm(range(len(dataset))):\n",
    "    _,x,y = dataset[i]\n",
    "    sig = abus_classification.utils.features.boundary_signature_3d(x, resolution=(5,5))\n",
    "    signature_dataset.append((sig.flatten(), y))\n",
    "    \n"
   ]
  }
 ],
 "metadata": {
  "kernelspec": {
   "display_name": "torch",
   "language": "python",
   "name": "python3"
  },
  "language_info": {
   "codemirror_mode": {
    "name": "ipython",
    "version": 3
   },
   "file_extension": ".py",
   "mimetype": "text/x-python",
   "name": "python",
   "nbconvert_exporter": "python",
   "pygments_lexer": "ipython3",
   "version": "3.9.16"
  }
 },
 "nbformat": 4,
 "nbformat_minor": 2
}
