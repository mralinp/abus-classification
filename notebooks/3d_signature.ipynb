{
 "cells": [
  {
   "cell_type": "code",
   "execution_count": 1,
   "metadata": {},
   "outputs": [],
   "source": [
    "import numpy as np\n",
    "import tqdm.notebook as tqdm\n",
    "import matplotlib.pyplot as plt\n",
    "import sys\n",
    "sys.path.append(\"../\")\n",
    "\n",
    "import abus_classification"
   ]
  },
  {
   "cell_type": "markdown",
   "metadata": {},
   "source": [
    "## Prof for work\n",
    "\n",
    "$$\\alpha : \\angle POQ \\ \\beta : \\angle QOX$$\n",
    "\n",
    "$$\\bar{OP} = R = \\sqrt{x_P^2+y_P^2+z_P^2}$$\n",
    "\n",
    "$$\\bar{OQ} = R^{\\prime} = R\\times COS(\\alpha)$$\n",
    "\n",
    "$$x_p = R^{\\prime} \\times COS(\\beta) = R \\times COS(\\alpha) \\times COS(\\beta)$$\n",
    "$$y_p = R \\times SIN(\\alpha)$$\n",
    "$$z_p = R^{\\prime} \\times SIN(\\beta) = R\\times COS(\\alpha) \\times SIN(\\beta)$$\n",
    "\n",
    "Then if we device the vector $\\vec{OP}$ by its length $R$ we will get the aigen vector of the line $\\vec{OP}$ as follows:"
   ]
  },
  {
   "cell_type": "code",
   "execution_count": null,
   "metadata": {},
   "outputs": [],
   "source": []
  }
 ],
 "metadata": {
  "kernelspec": {
   "display_name": "torch",
   "language": "python",
   "name": "python3"
  },
  "language_info": {
   "codemirror_mode": {
    "name": "ipython",
    "version": 3
   },
   "file_extension": ".py",
   "mimetype": "text/x-python",
   "name": "python",
   "nbconvert_exporter": "python",
   "pygments_lexer": "ipython3",
   "version": "3.9.16"
  }
 },
 "nbformat": 4,
 "nbformat_minor": 2
}
