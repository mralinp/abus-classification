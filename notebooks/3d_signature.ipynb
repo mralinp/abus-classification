{
 "cells": [
  {
   "cell_type": "code",
   "execution_count": 39,
   "metadata": {},
   "outputs": [],
   "source": [
    "import multiprocessing\n",
    "import time\n",
    "import numpy as np\n",
    "from tqdm.notebook import tqdm\n",
    "import matplotlib.pyplot as plt\n",
    "from sklearn.svm import SVC\n",
    "from sklearn.metrics import confusion_matrix, accuracy_score\n",
    "import sys\n",
    "sys.path.append(\"../\")\n",
    "import abus_classification"
   ]
  },
  {
   "cell_type": "code",
   "execution_count": 40,
   "metadata": {},
   "outputs": [],
   "source": [
    "dataset = abus_classification.datasets.TDSCTumors(path=\"../data/tdsc\")    "
   ]
  },
  {
   "cell_type": "code",
   "execution_count": 41,
   "metadata": {},
   "outputs": [],
   "source": [
    "def normalize_(x:np, interval=(0,1)):\n",
    "    x_std = (x - x.min())/x.max()-x.min()\n",
    "    mi, ma = interval\n",
    "    return x_std*(ma-mi) + mi\n",
    "\n",
    "def normalize(x):\n",
    "    for i in range(100):\n",
    "        x[i] = normalize_(x[i])\n",
    "    return x"
   ]
  },
  {
   "cell_type": "code",
   "execution_count": 42,
   "metadata": {},
   "outputs": [],
   "source": [
    "def classify_with_svm(x, y):\n",
    "    \n",
    "    acc = 0\n",
    "    train_acc = 0\n",
    "    cfm = [[0,0],\n",
    "           [0,0]]\n",
    "\n",
    "    for i in range(100):\n",
    "        x_test, y_test = x[i], y[i]\n",
    "        X_train, Y_train = x[:i] + x[i+1:], y[:i] + y[i+1:]\n",
    "        clf = SVC()\n",
    "        clf.fit(X_train, Y_train)\n",
    "        P = clf.predict(X_train)\n",
    "        train_acc += accuracy_score(Y_train, P)\n",
    "        res = clf.predict([x_test])[0]\n",
    "        if res == y_test:\n",
    "            acc += 1\n",
    "            \n",
    "        cfm[y_test][res] += 1\n",
    "            \n",
    "    print(f\"Train accuracy: {train_acc/100}\")\n",
    "    print(f\"Accuracy: {acc/100}\")\n",
    "    print(f\"{cfm[0]}\\n{cfm[1]}\")"
   ]
  },
  {
   "cell_type": "code",
   "execution_count": 43,
   "metadata": {},
   "outputs": [
    {
     "name": "stdout",
     "output_type": "stream",
     "text": [
      "1.710676908493042\n",
      "3.047036647796631\n"
     ]
    }
   ],
   "source": [
    "alpha = 1\n",
    "beta = 1\n",
    "\n",
    "def extract_signature(data):\n",
    "    x, y = data\n",
    "    sig = abus_classification.utils.features.boundary_signature_3d(x, resolution=(alpha,beta))\n",
    "    return sig, y\n",
    "\n",
    "s = time.time()\n",
    "_, x, y = dataset[0]\n",
    "print(time.time() - s)\n",
    "extract_signature((x, y))\n",
    "print(time.time()-s)"
   ]
  },
  {
   "cell_type": "code",
   "execution_count": 45,
   "metadata": {},
   "outputs": [
    {
     "data": {
      "application/vnd.jupyter.widget-view+json": {
       "model_id": "400a291d3c4c4a7b8f2408e0aa9c0fe3",
       "version_major": 2,
       "version_minor": 0
      },
      "text/plain": [
       "  0%|          | 0/10 [00:00<?, ?it/s]"
      ]
     },
     "metadata": {},
     "output_type": "display_data"
    },
    {
     "name": "stdout",
     "output_type": "stream",
     "text": [
      "Results with resolution (1, 16)\n",
      "Not normalized\n",
      "Train accuracy: 0.8040404040404038\n",
      "Accuracy: 0.66\n",
      "[44, 14]\n",
      "[20, 22]\n",
      "Normalized\n",
      "Train accuracy: 0.8675757575757573\n",
      "Accuracy: 0.61\n",
      "[50, 8]\n",
      "[31, 11]\n"
     ]
    },
    {
     "data": {
      "application/vnd.jupyter.widget-view+json": {
       "model_id": "90f80ebd9a044490aea71a6a162cdd54",
       "version_major": 2,
       "version_minor": 0
      },
      "text/plain": [
       "  0%|          | 0/10 [00:00<?, ?it/s]"
      ]
     },
     "metadata": {},
     "output_type": "display_data"
    }
   ],
   "source": [
    "num_processes = 10\n",
    "\n",
    "for a in range(0,20,5):\n",
    "    alpha = a+1\n",
    "    signature_dataset = []\n",
    "    for b in range(0,20,5):\n",
    "        beta = b+1\n",
    "    loop = tqdm(range(0, 100, num_processes))\n",
    "\n",
    "    for _ in loop:\n",
    "        loop.set_postfix(processing=f\"{i} to {i+num_processes}\")\n",
    "        data_chunk = []\n",
    "        for j in range(i, i+num_processes):\n",
    "            _, x, y = dataset[j]\n",
    "            data_chunk.append((x,y))\n",
    "        with multiprocessing.Pool(processes=num_processes) as pool:\n",
    "            signature_dataset.append(pool.map(extract_signature, data_chunk))\n",
    "    \n",
    "    ds = [signature_dataset[i][j] for j in range(10) for i in range(10)]\n",
    "    X, Y = zip(*ds)\n",
    "    X = list(X)\n",
    "    Y = list(Y)\n",
    "    X = [x.flatten() for x in X]\n",
    "    print(f\"Results with resolution ({alpha}, {beta})\")\n",
    "    print(\"Not normalized\")\n",
    "    classify_with_svm(X,Y)\n",
    "    print(\"Normalized\")\n",
    "    X = normalize(X)\n",
    "    classify_with_svm(X,Y)"
   ]
  },
  {
   "cell_type": "code",
   "execution_count": null,
   "metadata": {},
   "outputs": [
    {
     "name": "stdout",
     "output_type": "stream",
     "text": [
      "Train accuracy: 0.7139393939393939\n",
      "Accuracy: 0.69\n",
      "[45, 13]\n",
      "[18, 24]\n",
      "Train accuracy: 0.7110101010101009\n",
      "Accuracy: 0.68\n",
      "[54, 4]\n",
      "[28, 14]\n"
     ]
    }
   ],
   "source": [
    "classify_with_svm(X,Y)\n",
    "X = normalize(X)\n",
    "classify_with_svm(X,Y)"
   ]
  }
 ],
 "metadata": {
  "kernelspec": {
   "display_name": "torch",
   "language": "python",
   "name": "python3"
  },
  "language_info": {
   "codemirror_mode": {
    "name": "ipython",
    "version": 3
   },
   "file_extension": ".py",
   "mimetype": "text/x-python",
   "name": "python",
   "nbconvert_exporter": "python",
   "pygments_lexer": "ipython3",
   "version": "3.11.9"
  }
 },
 "nbformat": 4,
 "nbformat_minor": 2
}
