{
 "cells": [
  {
   "cell_type": "code",
   "execution_count": 1,
   "metadata": {},
   "outputs": [],
   "source": [
    "import numpy as np\n",
    "from tqdm.notebook import tqdm\n",
    "import matplotlib.pyplot as plt\n",
    "from sklearn.svm import SVC\n",
    "from sklearn.metrics import confusion_matrix, accuracy_score\n",
    "import sys\n",
    "\n",
    "sys.path.append(\"../\")\n",
    "\n",
    "import abus_classification"
   ]
  },
  {
   "cell_type": "code",
   "execution_count": 2,
   "metadata": {},
   "outputs": [],
   "source": [
    "dataset = abus_classification.datasets.TDSCTumors(path=\"../data/tdsc\")    "
   ]
  },
  {
   "cell_type": "code",
   "execution_count": 3,
   "metadata": {},
   "outputs": [
    {
     "ename": "",
     "evalue": "",
     "output_type": "error",
     "traceback": [
      "\u001b[1;31mThe Kernel crashed while executing code in the current cell or a previous cell. \n",
      "\u001b[1;31mPlease review the code in the cell(s) to identify a possible cause of the failure. \n",
      "\u001b[1;31mClick <a href='https://aka.ms/vscodeJupyterKernelCrash'>here</a> for more info. \n",
      "\u001b[1;31mView Jupyter <a href='command:jupyter.viewOutput'>log</a> for further details."
     ]
    }
   ],
   "source": [
    "import multiprocessing\n",
    "\n",
    "\n",
    "\n",
    "def extract_signature(dataset):\n",
    "    signatures = []\n",
    "    for i in range(len(dataset)):\n",
    "        _,x,y = dataset[i]\n",
    "        sig = abus_classification.utils.features.boundary_signature_3d(x, resolution=(5,5))\n",
    "        signatures.append((sig.flatten(), y))\n",
    "        \n",
    "    return signatures\n",
    "\n",
    "num_processes = multiprocessing.cpu_count() - 2\n",
    "chunk_size = len(dataset)//num_processes\n",
    "data_chunks = [[dataset[j] for j in range(i, i+chunk_size)] for i in range(0, len(dataset), chunk_size)]\n",
    "\n",
    "pool = multiprocessing.Pool(processes=num_processes)\n",
    "\n",
    "signature_dataset = pool.map(extract_signature, data_chunks)\n",
    "\n",
    "pool.close()\n",
    "pool.join()\n"
   ]
  },
  {
   "cell_type": "code",
   "execution_count": 46,
   "metadata": {},
   "outputs": [
    {
     "name": "stdout",
     "output_type": "stream",
     "text": [
      "12\n"
     ]
    }
   ],
   "source": [
    "num_processes = multiprocessing.cpu_count()\n",
    "print(num_processes)"
   ]
  },
  {
   "cell_type": "code",
   "execution_count": 22,
   "metadata": {},
   "outputs": [],
   "source": [
    "X, Y = zip(*signature_dataset)\n",
    "X = list(X)\n",
    "Y = list(Y)"
   ]
  },
  {
   "cell_type": "code",
   "execution_count": 23,
   "metadata": {},
   "outputs": [],
   "source": [
    "def classify_with_svm(x, y):\n",
    "    \n",
    "    acc = 0\n",
    "    train_acc = 0\n",
    "    cfm = [[0,0],\n",
    "           [0,0]]\n",
    "\n",
    "    for i in range(100):\n",
    "        x_test, y_test = x[i], y[i]\n",
    "        X_train, Y_train = x[:i] + x[i+1:], y[:i] + y[i+1:]\n",
    "        clf = SVC()\n",
    "        clf.fit(X_train, Y_train)\n",
    "        P = clf.predict(X_train)\n",
    "        train_acc += accuracy_score(Y_train, P)\n",
    "        res = clf.predict([x_test])[0]\n",
    "        if res == y_test:\n",
    "            acc += 1\n",
    "            \n",
    "        cfm[y_test][res] += 1\n",
    "            \n",
    "    print(f\"Train accuracy: {train_acc/100}\")\n",
    "    print(f\"Accuracy: {acc/100}\")\n",
    "    print(f\"{cfm[0]}\\n{cfm[1]}\")"
   ]
  },
  {
   "cell_type": "code",
   "execution_count": 28,
   "metadata": {},
   "outputs": [
    {
     "name": "stdout",
     "output_type": "stream",
     "text": [
      "Train accuracy: 0.7259595959595961\n",
      "Accuracy: 0.68\n",
      "[44, 14]\n",
      "[18, 24]\n"
     ]
    }
   ],
   "source": [
    "classify_with_svm(X,Y)"
   ]
  },
  {
   "cell_type": "code",
   "execution_count": 35,
   "metadata": {},
   "outputs": [],
   "source": [
    "def normalize_(x:np, interval=(0,1)):\n",
    "    x_std = (x - x.min())/x.max()-x.min()\n",
    "    mi, ma = interval\n",
    "    return x_std*(ma-mi) + mi"
   ]
  },
  {
   "cell_type": "code",
   "execution_count": 36,
   "metadata": {},
   "outputs": [],
   "source": [
    "def normalize(x):\n",
    "    for i in range(100):\n",
    "        x[i] = normalize_(x[i])\n",
    "    return x\n"
   ]
  },
  {
   "cell_type": "code",
   "execution_count": 39,
   "metadata": {},
   "outputs": [
    {
     "name": "stdout",
     "output_type": "stream",
     "text": [
      "Train accuracy: 0.726767676767677\n",
      "Accuracy: 0.65\n",
      "[50, 8]\n",
      "[27, 15]\n"
     ]
    }
   ],
   "source": [
    "X = normalize(X)\n",
    "classify_with_svm(X,Y)"
   ]
  },
  {
   "cell_type": "code",
   "execution_count": 42,
   "metadata": {},
   "outputs": [
    {
     "data": {
      "application/vnd.jupyter.widget-view+json": {
       "model_id": "39fc0938e0b84c44b54115725b11dd43",
       "version_major": 2,
       "version_minor": 0
      },
      "text/plain": [
       "  0%|          | 0/100 [00:00<?, ?it/s]"
      ]
     },
     "metadata": {},
     "output_type": "display_data"
    },
    {
     "ename": "KeyboardInterrupt",
     "evalue": "",
     "output_type": "error",
     "traceback": [
      "\u001b[0;31m---------------------------------------------------------------------------\u001b[0m",
      "\u001b[0;31mKeyboardInterrupt\u001b[0m                         Traceback (most recent call last)",
      "Cell \u001b[0;32mIn[42], line 5\u001b[0m\n\u001b[1;32m      3\u001b[0m \u001b[38;5;28;01mfor\u001b[39;00m i \u001b[38;5;129;01min\u001b[39;00m tqdm(\u001b[38;5;28mrange\u001b[39m(\u001b[38;5;28mlen\u001b[39m(dataset))):\n\u001b[1;32m      4\u001b[0m     _,x,y \u001b[38;5;241m=\u001b[39m dataset[i]\n\u001b[0;32m----> 5\u001b[0m     sig \u001b[38;5;241m=\u001b[39m \u001b[43mabus_classification\u001b[49m\u001b[38;5;241;43m.\u001b[39;49m\u001b[43mutils\u001b[49m\u001b[38;5;241;43m.\u001b[39;49m\u001b[43mfeatures\u001b[49m\u001b[38;5;241;43m.\u001b[39;49m\u001b[43mboundary_signature_3d\u001b[49m\u001b[43m(\u001b[49m\u001b[43mx\u001b[49m\u001b[43m,\u001b[49m\u001b[43m \u001b[49m\u001b[43mresolution\u001b[49m\u001b[38;5;241;43m=\u001b[39;49m\u001b[43m(\u001b[49m\u001b[38;5;241;43m20\u001b[39;49m\u001b[43m,\u001b[49m\u001b[38;5;241;43m20\u001b[39;49m\u001b[43m)\u001b[49m\u001b[43m)\u001b[49m\n\u001b[1;32m      6\u001b[0m     signature_dataset\u001b[38;5;241m.\u001b[39mappend((sig\u001b[38;5;241m.\u001b[39mflatten(), y))\n\u001b[1;32m      8\u001b[0m X, Y \u001b[38;5;241m=\u001b[39m \u001b[38;5;28mzip\u001b[39m(\u001b[38;5;241m*\u001b[39msignature_dataset)\n",
      "File \u001b[0;32m~/Source/abus-classification/notebooks/../abus_classification/utils/features/signature.py:55\u001b[0m, in \u001b[0;36mboundary_signature_3d\u001b[0;34m(binary_volume, resolution, dif_min)\u001b[0m\n\u001b[1;32m     52\u001b[0m \u001b[38;5;28;01mfor\u001b[39;00m point \u001b[38;5;129;01min\u001b[39;00m boundary_points:\n\u001b[1;32m     54\u001b[0m     point_with_center_orig \u001b[38;5;241m=\u001b[39m point \u001b[38;5;241m-\u001b[39m center\n\u001b[0;32m---> 55\u001b[0m     alpha \u001b[38;5;241m=\u001b[39m \u001b[43mnp\u001b[49m\u001b[38;5;241;43m.\u001b[39;49m\u001b[43marctan\u001b[49m\u001b[43m(\u001b[49m\u001b[43mpoint_with_center_orig\u001b[49m\u001b[43m[\u001b[49m\u001b[38;5;241;43m1\u001b[39;49m\u001b[43m]\u001b[49m\u001b[38;5;241;43m/\u001b[39;49m\u001b[43mpoint_with_center_orig\u001b[49m\u001b[43m[\u001b[49m\u001b[38;5;241;43m0\u001b[39;49m\u001b[43m]\u001b[49m\u001b[43m)\u001b[49m\n\u001b[1;32m     56\u001b[0m     beta \u001b[38;5;241m=\u001b[39m np\u001b[38;5;241m.\u001b[39marctan(point_with_center_orig[\u001b[38;5;241m2\u001b[39m]\u001b[38;5;241m/\u001b[39mpoint_with_center_orig[\u001b[38;5;241m0\u001b[39m])\n\u001b[1;32m     58\u001b[0m     alpha \u001b[38;5;241m=\u001b[39m np\u001b[38;5;241m.\u001b[39mdegrees(alpha)\n",
      "\u001b[0;31mKeyboardInterrupt\u001b[0m: "
     ]
    }
   ],
   "source": [
    "signature_dataset = []\n",
    "\n",
    "for i in tqdm(range(len(dataset))):\n",
    "    _,x,y = dataset[i]\n",
    "    sig = abus_classification.utils.features.boundary_signature_3d(x, resolution=(20,20))\n",
    "    signature_dataset.append((sig.flatten(), y))\n",
    "    \n",
    "X, Y = zip(*signature_dataset)\n",
    "X = list(X)\n",
    "Y = list(Y)"
   ]
  },
  {
   "cell_type": "code",
   "execution_count": null,
   "metadata": {},
   "outputs": [
    {
     "name": "stdout",
     "output_type": "stream",
     "text": [
      "Train accuracy: 0.7139393939393939\n",
      "Accuracy: 0.69\n",
      "[45, 13]\n",
      "[18, 24]\n",
      "Train accuracy: 0.7110101010101009\n",
      "Accuracy: 0.68\n",
      "[54, 4]\n",
      "[28, 14]\n"
     ]
    }
   ],
   "source": [
    "classify_with_svm(X,Y)\n",
    "X = normalize(X)\n",
    "classify_with_svm(X,Y)"
   ]
  },
  {
   "cell_type": "code",
   "execution_count": null,
   "metadata": {},
   "outputs": [],
   "source": [
    "import torch\n",
    "import torch.nn as nn\n",
    "\n",
    "class GRUClassifier(nn.Module):\n",
    "    def __init__(self, input_size, hidden_size, num_layers, num_classes):\n",
    "        super(GRUClassifier, self).__init__()\n",
    "        self.hidden_size = hidden_size\n",
    "        self.num_layers = num_layers\n",
    "        self.gru = nn.GRU(input_size, hidden_size, num_layers, batch_first=True)\n",
    "        self.fc = nn.Linear(hidden_size, num_classes)\n",
    "\n",
    "    def forward(self, x):\n",
    "        # Initialize hidden state with zeros\n",
    "        h0 = torch.zeros(self.num_layers, x.size(0), self.hidden_size).to(x.device)\n",
    "        \n",
    "        # Forward propagate GRU\n",
    "        out, _ = self.gru(x, h0)  # out: tensor of shape (batch_size, seq_length, hidden_size)\n",
    "        \n",
    "        # Decode the hidden state of the last time step\n",
    "        out = self.fc(out[:, -1, :])\n",
    "        return out\n",
    "\n",
    "# Example usage\n",
    "input_size = 1  # Assuming each element in the sequence is represented by a single feature\n",
    "hidden_size = 64\n",
    "num_layers = 1\n",
    "num_classes = 2  # Two classes for classification\n",
    "\n",
    "# Initialize the model\n",
    "model = GRUClassifier(input_size, hidden_size, num_layers, num_classes)\n",
    "\n",
    "# Define loss function and optimizer\n",
    "criterion = nn.CrossEntropyLoss()\n",
    "optimizer = torch.optim.Adam(model.parameters(), lr=0.001)\n",
    "\n",
    "# Assuming you have data loader `train_loader` containing training data\n",
    "# Assuming each batch of training data is of shape (batch_size, seq_length, input_size)\n",
    "# And `labels` containing corresponding labels\n",
    "\n",
    "# Training loop\n",
    "total_step = len(train_loader)\n",
    "for epoch in range(num_epochs):\n",
    "    for i, (sequences, labels) in enumerate(train_loader):\n",
    "        # Forward pass\n",
    "        outputs = model(sequences)\n",
    "        loss = criterion(outputs, labels)\n",
    "        \n",
    "        # Backward and optimize\n",
    "        optimizer.zero_grad()\n",
    "        loss.backward()\n",
    "        optimizer.step()\n",
    "        \n",
    "        if (i+1) % 100 == 0:\n",
    "            print ('Epoch [{}/{}], Step [{}/{}], Loss: {:.4f}' \n",
    "                   .format(epoch+1, num_epochs, i+1, total_step, loss.item()))\n",
    "\n",
    "# Once trained, you can use the model for predictions\n",
    "# For example, to predict on a single sequence:\n",
    "sequence_to_predict = torch.randn(1, 360, input_size)  # Example random sequence\n",
    "output = model(sequence_to_predict)\n",
    "predicted_class = torch.argmax(output, dim=1)\n",
    "print(\"Predicted class:\", predicted_class.item())\n"
   ]
  }
 ],
 "metadata": {
  "kernelspec": {
   "display_name": "torch",
   "language": "python",
   "name": "python3"
  },
  "language_info": {
   "codemirror_mode": {
    "name": "ipython",
    "version": 3
   },
   "file_extension": ".py",
   "mimetype": "text/x-python",
   "name": "python",
   "nbconvert_exporter": "python",
   "pygments_lexer": "ipython3",
   "version": "3.9.16"
  }
 },
 "nbformat": 4,
 "nbformat_minor": 2
}
