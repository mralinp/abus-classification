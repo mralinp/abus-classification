{
 "cells": [
  {
   "cell_type": "code",
   "execution_count": 39,
   "metadata": {},
   "outputs": [],
   "source": [
    "import multiprocessing\n",
    "import time\n",
    "import numpy as np\n",
    "from tqdm.notebook import tqdm\n",
    "import matplotlib.pyplot as plt\n",
    "from sklearn.svm import SVC\n",
    "from sklearn.metrics import confusion_matrix, accuracy_score\n",
    "import sys\n",
    "sys.path.append(\"../\")\n",
    "import abus_classification"
   ]
  },
  {
   "cell_type": "code",
   "execution_count": 40,
   "metadata": {},
   "outputs": [],
   "source": [
    "dataset = abus_classification.datasets.TDSCTumors(path=\"../data/tdsc\")    "
   ]
  },
  {
   "cell_type": "code",
   "execution_count": 41,
   "metadata": {},
   "outputs": [],
   "source": [
    "def normalize_(x:np, interval=(0,1)):\n",
    "    x_std = (x - x.min())/x.max()-x.min()\n",
    "    mi, ma = interval\n",
    "    return x_std*(ma-mi) + mi\n",
    "\n",
    "def normalize(x):\n",
    "    for i in range(100):``\n",
    "        x[i] = normalize_(x[i])\n",
    "    return x"
   ]
  },
  {
   "cell_type": "code",
   "execution_count": 42,
   "metadata": {},
   "outputs": [],
   "source": [
    "def classify_with_svm(x, y):\n",
    "    \n",
    "    acc = 0\n",
    "    train_acc = 0\n",
    "    cfm = [[0,0],\n",
    "           [0,0]]\n",
    "\n",
    "    for i in range(100):\n",
    "        x_test, y_test = x[i], y[i]\n",
    "        X_train, Y_train = x[:i] + x[i+1:], y[:i] + y[i+1:]\n",
    "        clf = SVC()\n",
    "        clf.fit(X_train, Y_train)\n",
    "        P = clf.predict(X_train)\n",
    "        train_acc += accuracy_score(Y_train, P)\n",
    "        res = clf.predict([x_test])[0]\n",
    "        if res == y_test:\n",
    "            acc += 1\n",
    "            \n",
    "        cfm[y_test][res] += 1\n",
    "            \n",
    "    print(f\"Train accuracy: {train_acc/100}\")\n",
    "    print(f\"Accuracy: {acc/100}\")\n",
    "    print(f\"{cfm[0]}\\n{cfm[1]}\")"
   ]
  },
  {
   "cell_type": "code",
   "execution_count": 43,
   "metadata": {},
   "outputs": [
    {
     "name": "stdout",
     "output_type": "stream",
     "text": [
      "1.710676908493042\n",
      "3.047036647796631\n"
     ]
    }
   ],
   "source": [
    "alpha = 1\n",
    "beta = 1\n",
    "\n",
    "def extract_signature(data):\n",
    "    x, y = data\n",
    "    sig = abus_classification.utils.features.boundary_signature_3d(x, resolution=(alpha,beta))\n",
    "    return sig, y\n",
    "\n",
    "s = time.time()\n",
    "_, x, y = dataset[0]\n",
    "print(time.time() - s)\n",
    "extract_signature((x, y))\n",
    "print(time.time()-s)"
   ]
  },
  {
   "cell_type": "code",
   "execution_count": 51,
   "metadata": {},
   "outputs": [
    {
     "data": {
      "application/vnd.jupyter.widget-view+json": {
       "model_id": "cf32fde5c1d14ec3969fb869cb26899b",
       "version_major": 2,
       "version_minor": 0
      },
      "text/plain": [
       "  0%|          | 0/10 [00:00<?, ?it/s]"
      ]
     },
     "metadata": {},
     "output_type": "display_data"
    },
    {
     "name": "stdout",
     "output_type": "stream",
     "text": [
      "Results with resolution (1, 1)\n",
      "Not normalized\n",
      "Train accuracy: 0.783636363636363\n",
      "Accuracy: 0.66\n",
      "[40, 18]\n",
      "[16, 26]\n",
      "Normalized\n",
      "Train accuracy: 0.9218181818181805\n",
      "Accuracy: 0.67\n",
      "[46, 12]\n",
      "[21, 21]\n"
     ]
    },
    {
     "data": {
      "application/vnd.jupyter.widget-view+json": {
       "model_id": "6dd24a6d316148f2a76971c30533db34",
       "version_major": 2,
       "version_minor": 0
      },
      "text/plain": [
       "  0%|          | 0/10 [00:00<?, ?it/s]"
      ]
     },
     "metadata": {},
     "output_type": "display_data"
    },
    {
     "name": "stdout",
     "output_type": "stream",
     "text": [
      "Results with resolution (1, 6)\n",
      "Not normalized\n",
      "Train accuracy: 0.8385858585858582\n",
      "Accuracy: 0.65\n",
      "[41, 17]\n",
      "[18, 24]\n",
      "Normalized\n",
      "Train accuracy: 0.9324242424242414\n",
      "Accuracy: 0.64\n",
      "[47, 11]\n",
      "[25, 17]\n"
     ]
    },
    {
     "data": {
      "application/vnd.jupyter.widget-view+json": {
       "model_id": "62e69f69d16a4a23b9f31b73f57b9557",
       "version_major": 2,
       "version_minor": 0
      },
      "text/plain": [
       "  0%|          | 0/10 [00:00<?, ?it/s]"
      ]
     },
     "metadata": {},
     "output_type": "display_data"
    },
    {
     "name": "stdout",
     "output_type": "stream",
     "text": [
      "Results with resolution (1, 11)\n",
      "Not normalized\n",
      "Train accuracy: 0.8295959595959591\n",
      "Accuracy: 0.66\n",
      "[43, 15]\n",
      "[19, 23]\n",
      "Normalized\n",
      "Train accuracy: 0.9099999999999985\n",
      "Accuracy: 0.63\n",
      "[47, 11]\n",
      "[26, 16]\n"
     ]
    },
    {
     "data": {
      "application/vnd.jupyter.widget-view+json": {
       "model_id": "90e79dad768349f2993877f42962c52c",
       "version_major": 2,
       "version_minor": 0
      },
      "text/plain": [
       "  0%|          | 0/10 [00:00<?, ?it/s]"
      ]
     },
     "metadata": {},
     "output_type": "display_data"
    },
    {
     "name": "stdout",
     "output_type": "stream",
     "text": [
      "Results with resolution (1, 16)\n",
      "Not normalized\n",
      "Train accuracy: 0.8040404040404038\n",
      "Accuracy: 0.66\n",
      "[44, 14]\n",
      "[20, 22]\n",
      "Normalized\n",
      "Train accuracy: 0.8675757575757573\n",
      "Accuracy: 0.61\n",
      "[50, 8]\n",
      "[31, 11]\n"
     ]
    },
    {
     "data": {
      "application/vnd.jupyter.widget-view+json": {
       "model_id": "c67a9f6e23184366aa473b75f80a75fc",
       "version_major": 2,
       "version_minor": 0
      },
      "text/plain": [
       "  0%|          | 0/10 [00:00<?, ?it/s]"
      ]
     },
     "metadata": {},
     "output_type": "display_data"
    },
    {
     "name": "stdout",
     "output_type": "stream",
     "text": [
      "Results with resolution (1, 21)\n",
      "Not normalized\n",
      "Train accuracy: 0.7765656565656559\n",
      "Accuracy: 0.66\n",
      "[44, 14]\n",
      "[20, 22]\n",
      "Normalized\n",
      "Train accuracy: 0.8497979797979797\n",
      "Accuracy: 0.6\n",
      "[50, 8]\n",
      "[32, 10]\n"
     ]
    },
    {
     "data": {
      "application/vnd.jupyter.widget-view+json": {
       "model_id": "769466573c2e4f58a1b1f0dcff757dde",
       "version_major": 2,
       "version_minor": 0
      },
      "text/plain": [
       "  0%|          | 0/10 [00:00<?, ?it/s]"
      ]
     },
     "metadata": {},
     "output_type": "display_data"
    },
    {
     "name": "stdout",
     "output_type": "stream",
     "text": [
      "Results with resolution (6, 1)\n",
      "Not normalized\n",
      "Train accuracy: 0.9149494949494935\n",
      "Accuracy: 0.65\n",
      "[42, 16]\n",
      "[19, 23]\n",
      "Normalized\n",
      "Train accuracy: 0.6658585858585852\n",
      "Accuracy: 0.64\n",
      "[47, 11]\n",
      "[25, 17]\n"
     ]
    },
    {
     "data": {
      "application/vnd.jupyter.widget-view+json": {
       "model_id": "c6d4de01a2e142adb740f6685f95509d",
       "version_major": 2,
       "version_minor": 0
      },
      "text/plain": [
       "  0%|          | 0/10 [00:00<?, ?it/s]"
      ]
     },
     "metadata": {},
     "output_type": "display_data"
    },
    {
     "name": "stdout",
     "output_type": "stream",
     "text": [
      "Results with resolution (6, 6)\n",
      "Not normalized\n",
      "Train accuracy: 0.7109090909090908\n",
      "Accuracy: 0.67\n",
      "[44, 14]\n",
      "[19, 23]\n",
      "Normalized\n",
      "Train accuracy: 0.72959595959596\n",
      "Accuracy: 0.65\n",
      "[49, 9]\n",
      "[26, 16]\n"
     ]
    },
    {
     "data": {
      "application/vnd.jupyter.widget-view+json": {
       "model_id": "96a7db8ccf5c4ab8bd05d84bceceeb41",
       "version_major": 2,
       "version_minor": 0
      },
      "text/plain": [
       "  0%|          | 0/10 [00:00<?, ?it/s]"
      ]
     },
     "metadata": {},
     "output_type": "display_data"
    },
    {
     "name": "stdout",
     "output_type": "stream",
     "text": [
      "Results with resolution (6, 11)\n",
      "Not normalized\n",
      "Train accuracy: 0.7063636363636361\n",
      "Accuracy: 0.67\n",
      "[44, 14]\n",
      "[19, 23]\n",
      "Normalized\n",
      "Train accuracy: 0.7273737373737377\n",
      "Accuracy: 0.66\n",
      "[50, 8]\n",
      "[26, 16]\n"
     ]
    },
    {
     "data": {
      "application/vnd.jupyter.widget-view+json": {
       "model_id": "03f8c7557646421aaf98e0f34e546ac8",
       "version_major": 2,
       "version_minor": 0
      },
      "text/plain": [
       "  0%|          | 0/10 [00:00<?, ?it/s]"
      ]
     },
     "metadata": {},
     "output_type": "display_data"
    },
    {
     "name": "stdout",
     "output_type": "stream",
     "text": [
      "Results with resolution (6, 16)\n",
      "Not normalized\n",
      "Train accuracy: 0.7083838383838382\n",
      "Accuracy: 0.67\n",
      "[44, 14]\n",
      "[19, 23]\n",
      "Normalized\n",
      "Train accuracy: 0.7338383838383844\n",
      "Accuracy: 0.65\n",
      "[49, 9]\n",
      "[26, 16]\n"
     ]
    },
    {
     "data": {
      "application/vnd.jupyter.widget-view+json": {
       "model_id": "0fc13d5ca1d6474d95557de25884f361",
       "version_major": 2,
       "version_minor": 0
      },
      "text/plain": [
       "  0%|          | 0/10 [00:00<?, ?it/s]"
      ]
     },
     "metadata": {},
     "output_type": "display_data"
    },
    {
     "name": "stdout",
     "output_type": "stream",
     "text": [
      "Results with resolution (6, 21)\n",
      "Not normalized\n",
      "Train accuracy: 0.7061616161616159\n",
      "Accuracy: 0.67\n",
      "[44, 14]\n",
      "[19, 23]\n",
      "Normalized\n",
      "Train accuracy: 0.6997979797979795\n",
      "Accuracy: 0.59\n",
      "[52, 6]\n",
      "[35, 7]\n"
     ]
    },
    {
     "data": {
      "application/vnd.jupyter.widget-view+json": {
       "model_id": "fb78b58f2a3e443f9c3cfc959ffa1809",
       "version_major": 2,
       "version_minor": 0
      },
      "text/plain": [
       "  0%|          | 0/10 [00:00<?, ?it/s]"
      ]
     },
     "metadata": {},
     "output_type": "display_data"
    },
    {
     "name": "stdout",
     "output_type": "stream",
     "text": [
      "Results with resolution (11, 1)\n",
      "Not normalized\n",
      "Train accuracy: 0.8266666666666663\n",
      "Accuracy: 0.65\n",
      "[44, 14]\n",
      "[21, 21]\n",
      "Normalized\n",
      "Train accuracy: 0.6342424242424233\n",
      "Accuracy: 0.58\n",
      "[42, 16]\n",
      "[26, 16]\n"
     ]
    },
    {
     "data": {
      "application/vnd.jupyter.widget-view+json": {
       "model_id": "38f992c8b4154f5d9247b1dac2b14c41",
       "version_major": 2,
       "version_minor": 0
      },
      "text/plain": [
       "  0%|          | 0/10 [00:00<?, ?it/s]"
      ]
     },
     "metadata": {},
     "output_type": "display_data"
    },
    {
     "name": "stdout",
     "output_type": "stream",
     "text": [
      "Results with resolution (11, 6)\n",
      "Not normalized\n",
      "Train accuracy: 0.718989898989899\n",
      "Accuracy: 0.66\n",
      "[44, 14]\n",
      "[20, 22]\n",
      "Normalized\n",
      "Train accuracy: 0.5797979797979806\n",
      "Accuracy: 0.4\n",
      "[40, 18]\n",
      "[42, 0]\n"
     ]
    },
    {
     "data": {
      "application/vnd.jupyter.widget-view+json": {
       "model_id": "c872904b5aa84d10b1d9d839e8879db9",
       "version_major": 2,
       "version_minor": 0
      },
      "text/plain": [
       "  0%|          | 0/10 [00:00<?, ?it/s]"
      ]
     },
     "metadata": {},
     "output_type": "display_data"
    },
    {
     "name": "stdout",
     "output_type": "stream",
     "text": [
      "Results with resolution (11, 11)\n",
      "Not normalized\n",
      "Train accuracy: 0.7096969696969694\n",
      "Accuracy: 0.66\n",
      "[44, 14]\n",
      "[20, 22]\n",
      "Normalized\n",
      "Train accuracy: 0.6921212121212115\n",
      "Accuracy: 0.61\n",
      "[52, 6]\n",
      "[33, 9]\n"
     ]
    },
    {
     "data": {
      "application/vnd.jupyter.widget-view+json": {
       "model_id": "2aa690025f524429b52ad544ea9686bd",
       "version_major": 2,
       "version_minor": 0
      },
      "text/plain": [
       "  0%|          | 0/10 [00:00<?, ?it/s]"
      ]
     },
     "metadata": {},
     "output_type": "display_data"
    },
    {
     "name": "stdout",
     "output_type": "stream",
     "text": [
      "Results with resolution (11, 16)\n",
      "Not normalized\n",
      "Train accuracy: 0.6971717171717167\n",
      "Accuracy: 0.66\n",
      "[44, 14]\n",
      "[20, 22]\n",
      "Normalized\n",
      "Train accuracy: 0.6857575757575752\n",
      "Accuracy: 0.63\n",
      "[52, 6]\n",
      "[31, 11]\n"
     ]
    },
    {
     "data": {
      "application/vnd.jupyter.widget-view+json": {
       "model_id": "71256633c7fa4bbf90abb4bda24cf80c",
       "version_major": 2,
       "version_minor": 0
      },
      "text/plain": [
       "  0%|          | 0/10 [00:00<?, ?it/s]"
      ]
     },
     "metadata": {},
     "output_type": "display_data"
    },
    {
     "name": "stdout",
     "output_type": "stream",
     "text": [
      "Results with resolution (11, 21)\n",
      "Not normalized\n",
      "Train accuracy: 0.6930303030303026\n",
      "Accuracy: 0.66\n",
      "[44, 14]\n",
      "[20, 22]\n",
      "Normalized\n",
      "Train accuracy: 0.6880808080808074\n",
      "Accuracy: 0.64\n",
      "[52, 6]\n",
      "[30, 12]\n"
     ]
    },
    {
     "data": {
      "application/vnd.jupyter.widget-view+json": {
       "model_id": "9a0dc80cbaf440469b5c7a6b458e1f67",
       "version_major": 2,
       "version_minor": 0
      },
      "text/plain": [
       "  0%|          | 0/10 [00:00<?, ?it/s]"
      ]
     },
     "metadata": {},
     "output_type": "display_data"
    },
    {
     "name": "stdout",
     "output_type": "stream",
     "text": [
      "Results with resolution (16, 1)\n",
      "Not normalized\n",
      "Train accuracy: 0.7424242424242429\n",
      "Accuracy: 0.62\n",
      "[42, 16]\n",
      "[22, 20]\n",
      "Normalized\n",
      "Train accuracy: 0.6007070707070717\n",
      "Accuracy: 0.48\n",
      "[32, 26]\n",
      "[26, 16]\n"
     ]
    },
    {
     "data": {
      "application/vnd.jupyter.widget-view+json": {
       "model_id": "a492f99b789e4f4b8dc871b7a2581b07",
       "version_major": 2,
       "version_minor": 0
      },
      "text/plain": [
       "  0%|          | 0/10 [00:00<?, ?it/s]"
      ]
     },
     "metadata": {},
     "output_type": "display_data"
    },
    {
     "name": "stdout",
     "output_type": "stream",
     "text": [
      "Results with resolution (16, 6)\n",
      "Not normalized\n",
      "Train accuracy: 0.6934343434343431\n",
      "Accuracy: 0.63\n",
      "[43, 15]\n",
      "[22, 20]\n",
      "Normalized\n",
      "Train accuracy: 0.6124242424242425\n",
      "Accuracy: 0.39\n",
      "[39, 19]\n",
      "[42, 0]\n"
     ]
    },
    {
     "data": {
      "application/vnd.jupyter.widget-view+json": {
       "model_id": "02fe0338146b404cb3d5243585699b92",
       "version_major": 2,
       "version_minor": 0
      },
      "text/plain": [
       "  0%|          | 0/10 [00:00<?, ?it/s]"
      ]
     },
     "metadata": {},
     "output_type": "display_data"
    },
    {
     "name": "stdout",
     "output_type": "stream",
     "text": [
      "Results with resolution (16, 11)\n",
      "Not normalized\n",
      "Train accuracy: 0.6720202020202014\n",
      "Accuracy: 0.64\n",
      "[43, 15]\n",
      "[21, 21]\n",
      "Normalized\n",
      "Train accuracy: 0.5800000000000007\n",
      "Accuracy: 0.58\n",
      "[58, 0]\n",
      "[42, 0]\n"
     ]
    },
    {
     "data": {
      "application/vnd.jupyter.widget-view+json": {
       "model_id": "996d4ca9dfe043fd968cd6e4a09eb136",
       "version_major": 2,
       "version_minor": 0
      },
      "text/plain": [
       "  0%|          | 0/10 [00:00<?, ?it/s]"
      ]
     },
     "metadata": {},
     "output_type": "display_data"
    },
    {
     "name": "stdout",
     "output_type": "stream",
     "text": [
      "Results with resolution (16, 16)\n",
      "Not normalized\n",
      "Train accuracy: 0.6706060606060601\n",
      "Accuracy: 0.65\n",
      "[44, 14]\n",
      "[21, 21]\n",
      "Normalized\n",
      "Train accuracy: 0.6583838383838375\n",
      "Accuracy: 0.55\n",
      "[54, 4]\n",
      "[41, 1]\n"
     ]
    },
    {
     "data": {
      "application/vnd.jupyter.widget-view+json": {
       "model_id": "cf6e05e7e69a4957a61f436dac85cd5f",
       "version_major": 2,
       "version_minor": 0
      },
      "text/plain": [
       "  0%|          | 0/10 [00:00<?, ?it/s]"
      ]
     },
     "metadata": {},
     "output_type": "display_data"
    },
    {
     "name": "stdout",
     "output_type": "stream",
     "text": [
      "Results with resolution (16, 21)\n",
      "Not normalized\n",
      "Train accuracy: 0.6675757575757568\n",
      "Accuracy: 0.65\n",
      "[44, 14]\n",
      "[21, 21]\n",
      "Normalized\n",
      "Train accuracy: 0.653838383838383\n",
      "Accuracy: 0.55\n",
      "[54, 4]\n",
      "[41, 1]\n"
     ]
    },
    {
     "data": {
      "application/vnd.jupyter.widget-view+json": {
       "model_id": "0d2793329bb94ae98a265ff8ccb35b66",
       "version_major": 2,
       "version_minor": 0
      },
      "text/plain": [
       "  0%|          | 0/10 [00:00<?, ?it/s]"
      ]
     },
     "metadata": {},
     "output_type": "display_data"
    },
    {
     "name": "stdout",
     "output_type": "stream",
     "text": [
      "Results with resolution (21, 1)\n",
      "Not normalized\n",
      "Train accuracy: 0.7411111111111114\n",
      "Accuracy: 0.62\n",
      "[40, 18]\n",
      "[20, 22]\n",
      "Normalized\n",
      "Train accuracy: 0.6836363636363632\n",
      "Accuracy: 0.66\n",
      "[46, 12]\n",
      "[22, 20]\n"
     ]
    },
    {
     "data": {
      "application/vnd.jupyter.widget-view+json": {
       "model_id": "12d187aa1ed14d3396def93f3eb0cdee",
       "version_major": 2,
       "version_minor": 0
      },
      "text/plain": [
       "  0%|          | 0/10 [00:00<?, ?it/s]"
      ]
     },
     "metadata": {},
     "output_type": "display_data"
    },
    {
     "name": "stdout",
     "output_type": "stream",
     "text": [
      "Results with resolution (21, 6)\n",
      "Not normalized\n",
      "Train accuracy: 0.6899999999999993\n",
      "Accuracy: 0.64\n",
      "[44, 14]\n",
      "[22, 20]\n",
      "Normalized\n",
      "Train accuracy: 0.621111111111112\n",
      "Accuracy: 0.58\n",
      "[45, 13]\n",
      "[29, 13]\n"
     ]
    },
    {
     "data": {
      "application/vnd.jupyter.widget-view+json": {
       "model_id": "8480c6d0f84147e79904570ec7ebdcb6",
       "version_major": 2,
       "version_minor": 0
      },
      "text/plain": [
       "  0%|          | 0/10 [00:00<?, ?it/s]"
      ]
     },
     "metadata": {},
     "output_type": "display_data"
    },
    {
     "name": "stdout",
     "output_type": "stream",
     "text": [
      "Results with resolution (21, 11)\n",
      "Not normalized\n",
      "Train accuracy: 0.6721212121212115\n",
      "Accuracy: 0.66\n",
      "[44, 14]\n",
      "[20, 22]\n",
      "Normalized\n",
      "Train accuracy: 0.5800000000000007\n",
      "Accuracy: 0.58\n",
      "[58, 0]\n",
      "[42, 0]\n"
     ]
    },
    {
     "data": {
      "application/vnd.jupyter.widget-view+json": {
       "model_id": "108b984a967c451896718bdf71d5bee6",
       "version_major": 2,
       "version_minor": 0
      },
      "text/plain": [
       "  0%|          | 0/10 [00:00<?, ?it/s]"
      ]
     },
     "metadata": {},
     "output_type": "display_data"
    },
    {
     "name": "stdout",
     "output_type": "stream",
     "text": [
      "Results with resolution (21, 16)\n",
      "Not normalized\n",
      "Train accuracy: 0.6650505050505043\n",
      "Accuracy: 0.66\n",
      "[44, 14]\n",
      "[20, 22]\n",
      "Normalized\n",
      "Train accuracy: 0.5800000000000007\n",
      "Accuracy: 0.58\n",
      "[58, 0]\n",
      "[42, 0]\n"
     ]
    },
    {
     "data": {
      "application/vnd.jupyter.widget-view+json": {
       "model_id": "6865a13790db472eb09ae5df41f1f569",
       "version_major": 2,
       "version_minor": 0
      },
      "text/plain": [
       "  0%|          | 0/10 [00:00<?, ?it/s]"
      ]
     },
     "metadata": {},
     "output_type": "display_data"
    },
    {
     "name": "stdout",
     "output_type": "stream",
     "text": [
      "Results with resolution (21, 21)\n",
      "Not normalized\n",
      "Train accuracy: 0.6627272727272719\n",
      "Accuracy: 0.66\n",
      "[44, 14]\n",
      "[20, 22]\n",
      "Normalized\n",
      "Train accuracy: 0.5953535353535364\n",
      "Accuracy: 0.58\n",
      "[58, 0]\n",
      "[42, 0]\n"
     ]
    }
   ],
   "source": [
    "num_processes = 10\n",
    "\n",
    "for a in range(0,25,5):\n",
    "    alpha = a+1\n",
    "    for b in range(0,25,5):\n",
    "        beta = b+1\n",
    "        loop = tqdm(range(0, 100, num_processes))\n",
    "        signature_dataset = []\n",
    "        for i in loop:\n",
    "            loop.set_postfix(processing=f\"{i} to {i+num_processes}\")\n",
    "            data_chunk = []\n",
    "            for j in range(i, i+num_processes):\n",
    "                _, x, y = dataset[j]\n",
    "                data_chunk.append((x,y))\n",
    "            with multiprocessing.Pool(processes=num_processes) as pool:\n",
    "                signature_dataset.append(pool.map(extract_signature, data_chunk))\n",
    "        \n",
    "        ds = [signature_dataset[i][j] for j in range(10) for i in range(10)]\n",
    "        X, Y = zip(*ds)\n",
    "        X = list(X)\n",
    "        Y = list(Y)\n",
    "        X = [x.flatten() for x in X]\n",
    "        print(f\"Results with resolution ({alpha}, {beta})\")\n",
    "        print(\"Not normalized\")\n",
    "        classify_with_svm(X,Y)\n",
    "        print(\"Normalized\")\n",
    "        X = normalize(X)\n",
    "        classify_with_svm(X,Y)"
   ]
  },
  {
   "cell_type": "code",
   "execution_count": null,
   "metadata": {},
   "outputs": [
    {
     "name": "stdout",
     "output_type": "stream",
     "text": [
      "Train accuracy: 0.7139393939393939\n",
      "Accuracy: 0.69\n",
      "[45, 13]\n",
      "[18, 24]\n",
      "Train accuracy: 0.7110101010101009\n",
      "Accuracy: 0.68\n",
      "[54, 4]\n",
      "[28, 14]\n"
     ]
    }
   ],
   "source": [
    "classify_with_svm(X,Y)\n",
    "X = normalize(X)\n",
    "classify_with_svm(X,Y)"
   ]
  }
 ],
 "metadata": {
  "kernelspec": {
   "display_name": "torch",
   "language": "python",
   "name": "python3"
  },
  "language_info": {
   "codemirror_mode": {
    "name": "ipython",
    "version": 3
   },
   "file_extension": ".py",
   "mimetype": "text/x-python",
   "name": "python",
   "nbconvert_exporter": "python",
   "pygments_lexer": "ipython3",
   "version": "3.11.9"
  }
 },
 "nbformat": 4,
 "nbformat_minor": 2
}
