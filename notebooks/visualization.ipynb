{
 "cells": [
  {
   "cell_type": "code",
   "execution_count": 1,
   "id": "fc4bd741",
   "metadata": {},
   "outputs": [],
   "source": [
    "import pandas as pd\n",
    "import numpy as np\n",
    "import matplotlib.pyplot as plt\n",
    "import sys\n",
    "sys.path.append(\"../\")\n",
    "\n",
    "from abus_classification.datasets import TDSC, TDSCTumors \n",
    "from abus_classification import datasets"
   ]
  },
  {
   "cell_type": "code",
   "execution_count": 4,
   "id": "90d15bd1",
   "metadata": {},
   "outputs": [],
   "source": [
    "train_data = TDSCTumors(path=\"../data/tdsc\", split=TDSCTumors.DataSplits.TRAIN)\n",
    "test_data = TDSCTumors(path=\"../data/tdsc\", split=TDSCTumors.DataSplits.TEST)\n",
    "validation_data = TDSCTumors(path=\"../data/tdsc\", split=TDSCTumors.DataSplits.VALIDATION)"
   ]
  },
  {
   "cell_type": "code",
   "execution_count": 6,
   "id": "921d630c",
   "metadata": {},
   "outputs": [
    {
     "name": "stdout",
     "output_type": "stream",
     "text": [
      "30\n"
     ]
    }
   ],
   "source": [
    "print(len(validation_data))"
   ]
  },
  {
   "cell_type": "code",
   "execution_count": 9,
   "id": "c0b95427",
   "metadata": {},
   "outputs": [
    {
     "name": "stdout",
     "output_type": "stream",
     "text": [
      "In the train set, there are 58 malignant and 42 benign cases\n",
      "In the test set, there are 40 malignant and 30 benign cases\n",
      "In the validation set, there are 17 malignant and 13 benign cases\n"
     ]
    }
   ],
   "source": [
    "def get_num_malignant_benign(data):\n",
    "    num_malignant = 0\n",
    "    num_benign = 0\n",
    "\n",
    "    for volume, mask, label in data:\n",
    "        if label == 0:\n",
    "            num_malignant += 1\n",
    "        else:\n",
    "            num_benign += 1\n",
    "\n",
    "    return num_malignant, num_benign\n",
    "\n",
    "datasets = {\n",
    "    \"train\": train_data,\n",
    "    \"test\": test_data,\n",
    "    \"validation\": validation_data\n",
    "}\n",
    "\n",
    "for name, data in datasets.items():\n",
    "    num_malignant, num_benign = get_num_malignant_benign(data)\n",
    "    print(f\"In the {name} set, there are {num_malignant} malignant and {num_benign} benign cases\")"
   ]
  },
  {
   "cell_type": "code",
   "execution_count": null,
   "id": "b05860ed",
   "metadata": {},
   "outputs": [
    {
     "ename": "IndexError",
     "evalue": "index 50 is out of bounds for axis 2 with size 35",
     "output_type": "error",
     "traceback": [
      "\u001b[0;31m---------------------------------------------------------------------------\u001b[0m",
      "\u001b[0;31mIndexError\u001b[0m                                Traceback (most recent call last)",
      "Cell \u001b[0;32mIn[11], line 1\u001b[0m\n\u001b[0;32m----> 1\u001b[0m train_data_sample \u001b[38;5;241m=\u001b[39m \u001b[43mtrain_data\u001b[49m\u001b[43m[\u001b[49m\u001b[38;5;241;43m0\u001b[39;49m\u001b[43m]\u001b[49m\u001b[43m[\u001b[49m\u001b[38;5;241;43m0\u001b[39;49m\u001b[43m]\u001b[49m\u001b[43m[\u001b[49m\u001b[43m:\u001b[49m\u001b[43m,\u001b[49m\u001b[43m:\u001b[49m\u001b[43m,\u001b[49m\u001b[38;5;241;43m50\u001b[39;49m\u001b[43m]\u001b[49m\n\u001b[1;32m      2\u001b[0m test_data_sample \u001b[38;5;241m=\u001b[39m test_data[\u001b[38;5;241m0\u001b[39m][\u001b[38;5;241m0\u001b[39m][:,:,\u001b[38;5;241m50\u001b[39m]\n\u001b[1;32m      3\u001b[0m validation_data_sample \u001b[38;5;241m=\u001b[39m validation_data[\u001b[38;5;241m0\u001b[39m][\u001b[38;5;241m0\u001b[39m][:,:,\u001b[38;5;241m50\u001b[39m]\n",
      "\u001b[0;31mIndexError\u001b[0m: index 50 is out of bounds for axis 2 with size 35"
     ]
    }
   ],
   "source": [
    "train_data_sample = train_data[0][0][:,:,15]\n",
    "test_data_sample = test_data[0][0][:,:,15]\n",
    "validation_data_sample = validation_data[0][0][:,:,15]\n",
    "\n",
    "plt.figure(figsize=(15, 15))\n",
    "plt.subplot(131)\n",
    "plt.imshow(train_data_sample, cmap=\"gray\")\n",
    "plt.title(\"Train data\")\n",
    "plt.subplot(132)\n",
    "plt.imshow(test_data_sample, cmap=\"gray\")\n",
    "plt.title(\"Test data\")\n",
    "plt.subplot(133)\n",
    "plt.imshow(validation_data_sample, cmap=\"gray\")\n",
    "plt.title(\"Validation data\")\n",
    "plt.show()\n",
    "\n"
   ]
  }
 ],
 "metadata": {
  "kernelspec": {
   "display_name": "ai",
   "language": "python",
   "name": "python3"
  },
  "language_info": {
   "codemirror_mode": {
    "name": "ipython",
    "version": 3
   },
   "file_extension": ".py",
   "mimetype": "text/x-python",
   "name": "python",
   "nbconvert_exporter": "python",
   "pygments_lexer": "ipython3",
   "version": "3.12.7"
  }
 },
 "nbformat": 4,
 "nbformat_minor": 5
}
