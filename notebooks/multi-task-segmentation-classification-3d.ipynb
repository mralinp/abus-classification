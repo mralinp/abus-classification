{
 "cells": [
  {
   "cell_type": "code",
   "execution_count": 1,
   "metadata": {},
   "outputs": [],
   "source": [
    "import cv2\n",
    "import sys\n",
    "import torch\n",
    "import random\n",
    "import numpy as np\n",
    "from tqdm.notebook import tqdm\n",
    "import matplotlib.pyplot as plt\n",
    "sys.path.append(\"../\")\n",
    "from abus_classification.datasets import TDSCTumors\n",
    "from abus_classification.models import MultiTaskSegmentationClassificationABUS3D"
   ]
  },
  {
   "cell_type": "code",
   "execution_count": 11,
   "metadata": {},
   "outputs": [],
   "source": [
    "class TransposeTransformer:\n",
    "    \n",
    "    def __init__(self, shape):\n",
    "        self.shape = shape\n",
    "        \n",
    "    def __call__(self, *inputs):\n",
    "        \n",
    "        res = []\n",
    "        \n",
    "        for i in inputs:\n",
    "            res.append(np.transpose(i, self.shape))\n",
    "            \n",
    "        return tuple(res) if len(res) > 1 else res[0]\n",
    "                \n",
    "class ResizeTransformer:\n",
    "    \n",
    "    def __init__(self, size):\n",
    "        self.size = size\n",
    "        \n",
    "    def __call__(self, *inputs):\n",
    "        outputs = []\n",
    "        for data in inputs:\n",
    "            resized_data = np.zeros((len(data),*self.size), dtype=np.float32)\n",
    "            for idx, sli in enumerate(data):\n",
    "                resized_data[idx] = cv2.resize(sli, self.size)\n",
    "            outputs.append(resized_data)\n",
    "        return tuple(outputs) if len(outputs) > 1 else outputs[0]\n",
    "\n",
    "class ToTensorTransformer:    \n",
    "    def __call__(self, data, mask):\n",
    "        return torch.from_numpy(data), torch.from_numpy(mask)\n",
    "\n",
    "\n",
    "tumors = TDSCTumors(path=\"../data/tdsc\", transforms=[\n",
    "    TransposeTransformer((1,0,2)), \n",
    "    ResizeTransformer((128,128)), \n",
    "    ToTensorTransformer()\n",
    "    ])        "
   ]
  },
  {
   "cell_type": "code",
   "execution_count": 12,
   "metadata": {},
   "outputs": [],
   "source": [
    "num_epochs = 100\n",
    "learning_rate = 10e-3\n",
    "alpha = .5\n",
    "device = 'cuda' if torch.cuda.is_available() else 'cpu'\n",
    "model = MultiTaskSegmentationClassificationABUS3D().to(device)\n",
    "optimizer = torch.optim.Adam(model.parameters(), lr=learning_rate)\n",
    "criterion = torch.nn.BCELoss()"
   ]
  },
  {
   "cell_type": "code",
   "execution_count": 15,
   "metadata": {},
   "outputs": [
    {
     "data": {
      "application/vnd.jupyter.widget-view+json": {
       "model_id": "218d0f90c10444458ee0a3c2a5279b3e",
       "version_major": 2,
       "version_minor": 0
      },
      "text/plain": [
       "  0%|          | 0/100 [00:00<?, ?it/s]"
      ]
     },
     "metadata": {},
     "output_type": "display_data"
    },
    {
     "ename": "KeyboardInterrupt",
     "evalue": "",
     "output_type": "error",
     "traceback": [
      "\u001b[0;31m---------------------------------------------------------------------------\u001b[0m",
      "\u001b[0;31mKeyboardInterrupt\u001b[0m                         Traceback (most recent call last)",
      "Cell \u001b[0;32mIn[15], line 43\u001b[0m\n\u001b[1;32m     41\u001b[0m train_list \u001b[38;5;241m=\u001b[39m [i \u001b[38;5;28;01mfor\u001b[39;00m i \u001b[38;5;129;01min\u001b[39;00m \u001b[38;5;28mrange\u001b[39m(\u001b[38;5;241m100\u001b[39m)]\n\u001b[1;32m     42\u001b[0m \u001b[38;5;66;03m# random.shuffle(train_list)\u001b[39;00m\n\u001b[0;32m---> 43\u001b[0m \u001b[43mtrain\u001b[49m\u001b[43m(\u001b[49m\u001b[43mmodel\u001b[49m\u001b[43m,\u001b[49m\u001b[43m \u001b[49m\u001b[43mtrain_list\u001b[49m\u001b[43m)\u001b[49m\n",
      "Cell \u001b[0;32mIn[15], line 34\u001b[0m, in \u001b[0;36mtrain\u001b[0;34m(model, train_dataset)\u001b[0m\n\u001b[1;32m     32\u001b[0m model\u001b[38;5;241m.\u001b[39meval()\n\u001b[1;32m     33\u001b[0m \u001b[38;5;28;01mwith\u001b[39;00m torch\u001b[38;5;241m.\u001b[39mno_grad():\n\u001b[0;32m---> 34\u001b[0m     train_acc \u001b[38;5;241m=\u001b[39m \u001b[43m(\u001b[49m\u001b[43m(\u001b[49m\u001b[43mprediction_cls\u001b[49m\u001b[43m \u001b[49m\u001b[38;5;241;43m>\u001b[39;49m\u001b[43m \u001b[49m\u001b[38;5;241;43m.5\u001b[39;49m\u001b[43m)\u001b[49m\u001b[38;5;241;43m.\u001b[39;49m\u001b[43mfloat\u001b[49m\u001b[43m(\u001b[49m\u001b[43m)\u001b[49m\u001b[43m \u001b[49m\u001b[38;5;241;43m==\u001b[39;49m\u001b[43m \u001b[49m\u001b[43my\u001b[49m\u001b[43m)\u001b[49m\u001b[38;5;241;43m.\u001b[39;49m\u001b[43mint\u001b[49m\u001b[43m(\u001b[49m\u001b[43m)\u001b[49m\u001b[38;5;241;43m.\u001b[39;49m\u001b[43msum\u001b[49m\u001b[43m(\u001b[49m\u001b[43m)\u001b[49m\u001b[38;5;241;43m.\u001b[39;49m\u001b[43mitem\u001b[49m\u001b[43m(\u001b[49m\u001b[43m)\u001b[49m\n\u001b[1;32m     35\u001b[0m loop\u001b[38;5;241m.\u001b[39mset_postfix(loss\u001b[38;5;241m=\u001b[39mloss\u001b[38;5;241m.\u001b[39mitem(), loss_seg\u001b[38;5;241m=\u001b[39mloss_seg\u001b[38;5;241m.\u001b[39mitem(), loss_cls\u001b[38;5;241m=\u001b[39mloss_cls\u001b[38;5;241m.\u001b[39mitem())   \n\u001b[1;32m     36\u001b[0m model\u001b[38;5;241m.\u001b[39mtrain()\n",
      "\u001b[0;31mKeyboardInterrupt\u001b[0m: "
     ]
    }
   ],
   "source": [
    "def train(model, train_dataset):\n",
    "    train_acc = 0\n",
    "    loop = tqdm(range(num_epochs))\n",
    "    for epoch in loop:\n",
    "        for idx in train_dataset:\n",
    "            volume, mask, label = tumors[idx]\n",
    "            for i in range(0,len(volume), 10):\n",
    "                x = volume[i:i+64] / 255\n",
    "                m = mask[i:i+64]\n",
    "                end = i + 64\n",
    "                if end > len(volume):\n",
    "                    len_ext = end - len(volume)\n",
    "                    ext_tensor = torch.zeros([len_ext, 128, 128], dtype=torch.float32)\n",
    "                    x = torch.cat((x, ext_tensor), dim=0)\n",
    "                    m = torch.cat((m, ext_tensor), dim=0)\n",
    "                x = x.unsqueeze(0).unsqueeze(0)\n",
    "                m = m.unsqueeze(0).unsqueeze(0)\n",
    "                y = torch.tensor([[label]], dtype=torch.float32)  \n",
    "                \n",
    "                x = x.to(device)\n",
    "                m = m.to(device)\n",
    "                y = y.to(device)\n",
    "                \n",
    "                prediction_seg, prediction_cls = model(x)\n",
    "                loss_seg = criterion(m, prediction_seg)\n",
    "                loss_cls = criterion(y, prediction_cls)\n",
    "                \n",
    "                loss = alpha*loss_seg + (1-alpha)*loss_cls\n",
    "\n",
    "                loss.backward()\n",
    "                optimizer.step()\n",
    "                model.eval()\n",
    "                with torch.no_grad():\n",
    "                    train_acc = ((prediction_cls > .5).float() == y).int().sum().item()\n",
    "                loop.set_postfix(loss=loss.item(), loss_seg=loss_seg.item(), loss_cls=loss_cls.item())   \n",
    "                model.train()\n",
    "                \n",
    "    print(f\"train accuracy:{train_acc/len(train_dataset)}\")\n",
    "\n",
    "random.seed(42)\n",
    "train_list = [i for i in range(100)]\n",
    "# random.shuffle(train_list)\n",
    "train(model, train_list)"
   ]
  },
  {
   "cell_type": "code",
   "execution_count": 6,
   "metadata": {},
   "outputs": [
    {
     "data": {
      "application/vnd.jupyter.widget-view+json": {
       "model_id": "f555a2292f3b4f98b0948265d69f634d",
       "version_major": 2,
       "version_minor": 0
      },
      "text/plain": [
       "  0%|          | 0/100 [00:00<?, ?it/s]"
      ]
     },
     "metadata": {},
     "output_type": "display_data"
    },
    {
     "name": "stdout",
     "output_type": "stream",
     "text": [
      "torch.Size([1, 64, 128, 128])\n",
      "torch.Size([1, 64, 128, 128])\n",
      "torch.Size([1, 1])\n"
     ]
    }
   ],
   "source": [
    "test_acc = 0\n",
    "\n",
    "for test_data_idx in len(tumors):\n",
    "    print(f\"Using data {test_data_idx} as test data...\")\n",
    "    \n",
    "    model.eval()\n",
    "    with torch.no_grad():\n",
    "        volume, mask, label = tumors[test_data_idx]\n",
    "        middle_sli = len(volume)//2\n",
    "        \n",
    "        x = volume[middle_sli-32:middle_sli+32]\n",
    "        m = volume[middle_sli-32:middle_sli+32]\n",
    "        y = torch.tensor([[label]], dtype=torch.float32)  \n",
    "\n",
    "        x = x.unsqueeze(0)\n",
    "        m = m.unsqueeze(0)\n",
    "        \n",
    "        x = x.to(device)\n",
    "        m = m.to(device)\n",
    "        y = y.to(device)\n",
    "        \n",
    "        prediction_seg, prediction_cls = model(x)\n",
    "        prediction_cls = (prediction_cls > .5).float()\n",
    "        prediction_seg = (prediction_seg > .5).float()\n",
    "        \n",
    "        prediction_seg = (m == prediction_seg).int()\n",
    "        prediction_cls = (y == prediction_cls).int()\n",
    "        \n",
    "        test_acc += prediction_cls.sum().item()\n",
    "        \n",
    "        \n",
    "    model.train()"
   ]
  }
 ],
 "metadata": {
  "kernelspec": {
   "display_name": "tf",
   "language": "python",
   "name": "python3"
  },
  "language_info": {
   "codemirror_mode": {
    "name": "ipython",
    "version": 3
   },
   "file_extension": ".py",
   "mimetype": "text/x-python",
   "name": "python",
   "nbconvert_exporter": "python",
   "pygments_lexer": "ipython3",
   "version": "3.9.16"
  }
 },
 "nbformat": 4,
 "nbformat_minor": 2
}
