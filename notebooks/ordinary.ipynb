{
 "cells": [
  {
   "cell_type": "code",
   "execution_count": 1,
   "id": "c3b8150f",
   "metadata": {},
   "outputs": [],
   "source": [
    "import sys\n",
    "sys.path.append(\"../\")\n",
    "import abus_classification"
   ]
  },
  {
   "cell_type": "code",
   "execution_count": null,
   "id": "bf5ea442",
   "metadata": {},
   "outputs": [],
   "source": [
    "base_path = \"../data/tdsc_2d\"\n",
    "\n",
    "tumors = abus_classification.datasets.TDSCTumors(path=\"../data/tdsc\")\n",
    "\n",
    "\n"
   ]
  },
  {
   "cell_type": "code",
   "execution_count": 1,
   "id": "5ad0695d-c2ab-4f72-ac1f-20be91de37de",
   "metadata": {},
   "outputs": [
    {
     "name": "stdout",
     "output_type": "stream",
     "text": [
      "3070\n"
     ]
    }
   ],
   "source": [
    "import json\n",
    "\n",
    "with open('data/tdsc_2d/labels.json', 'r') as file:\n",
    "    meta_data = json.load(file).get('tdsc_2d')\n",
    "\n",
    "print(len(meta_data))"
   ]
  },
  {
   "cell_type": "code",
   "execution_count": 4,
   "id": "6e1b37e7-457e-42eb-96d9-fa9f666bdae2",
   "metadata": {},
   "outputs": [
    {
     "name": "stdout",
     "output_type": "stream",
     "text": [
      "2047\n",
      "1023\n"
     ]
    }
   ],
   "source": [
    "malignant = []\n",
    "benign = []\n",
    "\n",
    "\n",
    "for meta in meta_data:\n",
    "    if meta.get('label') == 0:\n",
    "        malignant.append(meta)\n",
    "    else:\n",
    "        benign.append(meta)\n",
    "\n",
    "print(len(malignant))\n",
    "print(len(benign))"
   ]
  },
  {
   "cell_type": "code",
   "execution_count": 6,
   "id": "fa7b69b6",
   "metadata": {},
   "outputs": [
    {
     "name": "stdout",
     "output_type": "stream",
     "text": [
      "615\n",
      "2455\n"
     ]
    }
   ],
   "source": [
    "from sklearn.model_selection import train_test_split\n",
    "\n",
    "train_m, test_m = train_test_split(malignant, test_size=.2, random_state=42)\n",
    "train_b, test_b = train_test_split(benign, test_size=.2, random_state=42)\n",
    "\n",
    "\n",
    "train_meta = train_m + train_b\n",
    "test_meta = test_m + test_b\n",
    "\n",
    "print(len(test_meta))\n",
    "print(len(train_meta))"
   ]
  },
  {
   "cell_type": "code",
   "execution_count": 8,
   "id": "50874562",
   "metadata": {},
   "outputs": [
    {
     "name": "stdout",
     "output_type": "stream",
     "text": [
      "1637 818\n"
     ]
    }
   ],
   "source": [
    "mal = 0\n",
    "ben = 0\n",
    "\n",
    "for meta in train_meta:\n",
    "    if meta.get('label') == 0:\n",
    "        mal += 1\n",
    "    else:\n",
    "        ben += 1\n",
    "\n",
    "print(mal, ben)"
   ]
  },
  {
   "cell_type": "code",
   "execution_count": 11,
   "id": "0cc57330",
   "metadata": {},
   "outputs": [],
   "source": [
    "with open('./data/tdsc_2d/train_test_labels.json', 'w') as f:\n",
    "    json.dump({'train': train_meta, 'test': test_meta}, f)"
   ]
  }
 ],
 "metadata": {
  "kernelspec": {
   "display_name": "Python 3",
   "language": "python",
   "name": "python3"
  },
  "language_info": {
   "codemirror_mode": {
    "name": "ipython",
    "version": 3
   },
   "file_extension": ".py",
   "mimetype": "text/x-python",
   "name": "python",
   "nbconvert_exporter": "python",
   "pygments_lexer": "ipython3",
   "version": "3.11.9"
  }
 },
 "nbformat": 4,
 "nbformat_minor": 5
}
