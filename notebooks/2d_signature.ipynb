{
 "cells": [
  {
   "cell_type": "markdown",
   "metadata": {},
   "source": [
    "# 2D Boundary signature experiments\n",
    "This notebook presents experiments focusing solely on the 2D boundary signature feature for tumor classification. The experiments will explore two primary approaches: single-view and multi-view. In each step, we will utilize either single or multiple slices' features for classification.\n",
    "\n",
    "For the single-slice approach and the multi-view single-slice approach, we will employ a Support Vector Machine (SVM) classifier. For multi-slice classification, we will utilize SVM and/or Long Short-Term Memory (LSTM) networks as the classifiers.\n",
    "\n",
    "\n",
    "1. Single view\n",
    "    1. sagittal view\n",
    "    2. coronal view\n",
    "    3. axial view\n",
    "\n",
    "2. Multi view\n",
    "    1. sagittal + coronal\n",
    "    2. sagittal + axial\n",
    "    3. coronal + axial\n",
    "    4. sagittal + coronal + axial"
   ]
  },
  {
   "cell_type": "code",
   "execution_count": 12,
   "metadata": {},
   "outputs": [],
   "source": [
    "import numpy as np\n",
    "import matplotlib.pyplot as plt\n",
    "from sklearn.svm import SVC\n",
    "from sklearn.metrics import accuracy_score, confusion_matrix\n",
    "from tqdm.notebook import tqdm\n",
    "import sys\n",
    "\n",
    "sys.path.append(\"../\")\n",
    "\n",
    "from abus_classification import utils, datasets, transformers"
   ]
  },
  {
   "cell_type": "markdown",
   "metadata": {},
   "source": [
    "##  1. Single View\n",
    "### 1.1 Single Slice"
   ]
  },
  {
   "cell_type": "code",
   "execution_count": 13,
   "metadata": {},
   "outputs": [],
   "source": [
    "def get_largest_tumor_slice_number(mask):\n",
    "    \n",
    "    depth = mask.shape[2]\n",
    "    ret = 0\n",
    "    max_area = 0\n",
    "    for d in range(depth):\n",
    "        area = mask[:,:,d].sum()\n",
    "        if area > max_area:\n",
    "            max_area = area\n",
    "            ret = d\n",
    "            \n",
    "    return ret"
   ]
  },
  {
   "cell_type": "markdown",
   "metadata": {},
   "source": [
    "#### Normalized signature\n",
    "\n",
    "\n",
    "$$ X_{std} = (X - X_{min}) / (X_{max} - X_{min}) $$\n",
    "$$ X_{scaled} = X_{std} * (max - min) + min $$"
   ]
  },
  {
   "cell_type": "code",
   "execution_count": 14,
   "metadata": {},
   "outputs": [],
   "source": [
    "def normalize(x):\n",
    "    for i in range(100):\n",
    "        x[i] = utils.math.normalize(x[i])\n",
    "    return x"
   ]
  },
  {
   "cell_type": "code",
   "execution_count": 15,
   "metadata": {},
   "outputs": [],
   "source": [
    "def classify_with_svm(x, y):\n",
    "    \n",
    "    acc = 0\n",
    "    train_acc = 0\n",
    "    cfm = [[0,0],\n",
    "           [0,0]]\n",
    "\n",
    "    for i in range(100):\n",
    "        x_test, y_test = x[i], y[i]\n",
    "        X_train, Y_train = x[:i] + x[i+1:], y[:i] + y[i+1:]\n",
    "        clf = SVC()\n",
    "        clf.fit(X_train, Y_train)\n",
    "        P = clf.predict(X_train)\n",
    "        train_acc += accuracy_score(Y_train, P)\n",
    "        res = clf.predict([x_test])[0]\n",
    "        if res == y_test:\n",
    "            acc += 1\n",
    "            \n",
    "        cfm[y_test][res] += 1\n",
    "            \n",
    "    print(f\"Train accuracy: {train_acc/100}\")\n",
    "    print(f\"Accuracy: {acc/100}\")\n",
    "    print(f\"{cfm[0]}\\n{cfm[1]}\")"
   ]
  },
  {
   "cell_type": "code",
   "execution_count": 16,
   "metadata": {},
   "outputs": [],
   "source": [
    "def calculate_signature_dataset(dataset):\n",
    "    signature_dataset = []\n",
    "\n",
    "    for _, sample, label in tqdm(dataset):\n",
    "        largest_slice_idx = get_largest_tumor_slice_number(sample)\n",
    "        sample_slice = sample[:,:,largest_slice_idx]\n",
    "        sample_slice = utils.image.rotation_invariant(sample_slice)\n",
    "        boundary = utils.image.get_boundary(sample_slice)\n",
    "        signature = utils.features.boundary_signature_2d(boundary_image=boundary, resolution=1)\n",
    "        signature_dataset.append((signature, label))\n",
    "    \n",
    "    X, Y = zip(*signature_dataset)\n",
    "    X = list(X)\n",
    "    Y = list(Y)\n",
    "    \n",
    "    return X, Y "
   ]
  },
  {
   "cell_type": "code",
   "execution_count": 17,
   "metadata": {},
   "outputs": [],
   "source": [
    "x_axis = 2\n",
    "y_axis = 1\n",
    "z_axis = 0\n",
    "\n",
    "coronal_transformer = transformers.TransposeTransformer(shape=(x_axis, z_axis, y_axis))\n",
    "axial_transformer = transformers.TransposeTransformer(shape=(x_axis, y_axis, z_axis))\n",
    "\n",
    "dataset_list = {\n",
    "                \"sagittal\": datasets.TDSCTumors(\"../data/tdsc\"),\n",
    "                \"coronal\":  datasets.TDSCTumors(\"../data/tdsc\", transforms=[coronal_transformer]),\n",
    "                \"axial\":    datasets.TDSCTumors(\"../data/tdsc\", transforms=[axial_transformer])\n",
    "            } "
   ]
  },
  {
   "cell_type": "code",
   "execution_count": 19,
   "metadata": {},
   "outputs": [
    {
     "name": "stdout",
     "output_type": "stream",
     "text": [
      "Processing sagittal view...\n"
     ]
    },
    {
     "data": {
      "application/vnd.jupyter.widget-view+json": {
       "model_id": "2f849c129e63400bbf15cbb64216de9a",
       "version_major": 2,
       "version_minor": 0
      },
      "text/plain": [
       "  0%|          | 0/100 [00:00<?, ?it/s]"
      ]
     },
     "metadata": {},
     "output_type": "display_data"
    },
    {
     "name": "stdout",
     "output_type": "stream",
     "text": [
      "Not-Normalized:\n",
      "Train accuracy: 0.7294949494949499\n",
      "Accuracy: 0.61\n",
      "[39, 19]\n",
      "[20, 22]\n",
      "Normalized:\n",
      "Train accuracy: 0.7501010101010107\n",
      "Accuracy: 0.66\n",
      "[43, 15]\n",
      "[19, 23]\n",
      "Processing coronal view...\n"
     ]
    },
    {
     "data": {
      "application/vnd.jupyter.widget-view+json": {
       "model_id": "a784d4cb5f164086bd7ff9599b759e03",
       "version_major": 2,
       "version_minor": 0
      },
      "text/plain": [
       "  0%|          | 0/100 [00:00<?, ?it/s]"
      ]
     },
     "metadata": {},
     "output_type": "display_data"
    },
    {
     "name": "stdout",
     "output_type": "stream",
     "text": [
      "Not-Normalized:\n",
      "Train accuracy: 0.6852525252525247\n",
      "Accuracy: 0.61\n",
      "[41, 17]\n",
      "[22, 20]\n",
      "Normalized:\n",
      "Train accuracy: 0.6708080808080801\n",
      "Accuracy: 0.61\n",
      "[42, 16]\n",
      "[23, 19]\n",
      "Processing axial view...\n"
     ]
    },
    {
     "data": {
      "application/vnd.jupyter.widget-view+json": {
       "model_id": "1d84d5ce67064051bf7e686ef2e529a5",
       "version_major": 2,
       "version_minor": 0
      },
      "text/plain": [
       "  0%|          | 0/100 [00:00<?, ?it/s]"
      ]
     },
     "metadata": {},
     "output_type": "display_data"
    },
    {
     "name": "stdout",
     "output_type": "stream",
     "text": [
      "Not-Normalized:\n",
      "Train accuracy: 0.7359595959595966\n",
      "Accuracy: 0.68\n",
      "[42, 16]\n",
      "[16, 26]\n",
      "Normalized:\n",
      "Train accuracy: 0.7649494949494944\n",
      "Accuracy: 0.67\n",
      "[45, 13]\n",
      "[20, 22]\n"
     ]
    }
   ],
   "source": [
    "for name, dataset in dataset_list.items():\n",
    "    print(f\"Processing {name} view...\")\n",
    "    X, Y = calculate_signature_dataset(dataset)\n",
    "    print(\"Not-Normalized:\")\n",
    "    classify_with_svm(X,Y)\n",
    "    print(\"Normalized:\")\n",
    "    X = normalize(X)\n",
    "    classify_with_svm(X,Y)"
   ]
  }
 ],
 "metadata": {
  "kernelspec": {
   "display_name": "torch",
   "language": "python",
   "name": "python3"
  },
  "language_info": {
   "codemirror_mode": {
    "name": "ipython",
    "version": 3
   },
   "file_extension": ".py",
   "mimetype": "text/x-python",
   "name": "python",
   "nbconvert_exporter": "python",
   "pygments_lexer": "ipython3",
   "version": "3.9.16"
  }
 },
 "nbformat": 4,
 "nbformat_minor": 2
}
