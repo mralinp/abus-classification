{
 "cells": [
  {
   "cell_type": "code",
   "execution_count": 16,
   "metadata": {},
   "outputs": [],
   "source": [
    "import numpy as np\n",
    "import sys\n",
    "sys.path.append(\"../\")\n",
    "import abus_classification\n",
    "from abus_classification import features\n",
    "from sklearn.svm import SVC\n",
    "from sklearn.metrics import confusion_matrix, accuracy_score"
   ]
  },
  {
   "cell_type": "code",
   "execution_count": 8,
   "metadata": {},
   "outputs": [],
   "source": [
    "tumors = abus_classification.datasets.TDSCTumors(path=\"../data/tdsc\")"
   ]
  },
  {
   "cell_type": "code",
   "execution_count": 10,
   "metadata": {},
   "outputs": [],
   "source": [
    "def extract_features(volume, mask):\n",
    "\n",
    "    whr = features.radiology.height_to_width_ratio(mask)\n",
    "    h = features.radiology.entropy(volume*mask)\n",
    "    ai = features.radiology.average_intensity(volume*mask)\n",
    "    mc = features.radiology.margin_contrast(volume=volume, mask=mask)\n",
    "    vi = features.radiology.variance_of_intensities(volume*mask)\n",
    "    sh = features.radiology.sphericity(mask)\n",
    "    cp = features.radiology.compactness(mask)\n",
    "    # pab = features.radiology.posterior_acoustic_behavior(volume, mask)\n",
    "    \n",
    "    return np.array([whr, h,ai,mc,vi,sh,cp], dtype=np.float32)"
   ]
  },
  {
   "cell_type": "code",
   "execution_count": 12,
   "metadata": {},
   "outputs": [],
   "source": [
    "X = []\n",
    "Y = []\n",
    "for vol, mask, label in tumors:\n",
    "    X.append(extract_features(vol, mask))\n",
    "    Y.append(label)"
   ]
  },
  {
   "cell_type": "code",
   "execution_count": 17,
   "metadata": {},
   "outputs": [
    {
     "name": "stdout",
     "output_type": "stream",
     "text": [
      "Train accuracy: 0.6609090909090901\n",
      "Accuracy: 0.59\n",
      "[52, 6]\n",
      "[35, 7]\n"
     ]
    }
   ],
   "source": [
    "def classify_with_svm(x, y):\n",
    "    \n",
    "    acc = 0\n",
    "    train_acc = 0\n",
    "    cfm = [[0,0],\n",
    "           [0,0]]\n",
    "\n",
    "    for i in range(100):\n",
    "        x_test, y_test = x[i], y[i]\n",
    "        X_train, Y_train = x[:i] + x[i+1:], y[:i] + y[i+1:]\n",
    "        clf = SVC()\n",
    "        clf.fit(X_train, Y_train)\n",
    "        P = clf.predict(X_train)\n",
    "        train_acc += accuracy_score(Y_train, P)\n",
    "        res = clf.predict([x_test])[0]\n",
    "        if res == y_test:\n",
    "            acc += 1\n",
    "            \n",
    "        cfm[y_test][res] += 1\n",
    "            \n",
    "    print(f\"Train accuracy: {train_acc/100}\")\n",
    "    print(f\"Accuracy: {acc/100}\")\n",
    "    print(f\"{cfm[0]}\\n{cfm[1]}\")\n",
    "    \n",
    "classify_with_svm(X,Y)"
   ]
  },
  {
   "cell_type": "code",
   "execution_count": null,
   "metadata": {},
   "outputs": [],
   "source": []
  }
 ],
 "metadata": {
  "kernelspec": {
   "display_name": "tf",
   "language": "python",
   "name": "python3"
  },
  "language_info": {
   "codemirror_mode": {
    "name": "ipython",
    "version": 3
   },
   "file_extension": ".py",
   "mimetype": "text/x-python",
   "name": "python",
   "nbconvert_exporter": "python",
   "pygments_lexer": "ipython3",
   "version": "3.11.9"
  }
 },
 "nbformat": 4,
 "nbformat_minor": 2
}
