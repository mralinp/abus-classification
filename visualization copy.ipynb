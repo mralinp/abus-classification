{
 "cells": [
  {
   "cell_type": "code",
   "execution_count": 28,
   "id": "40e8f8c3-d38f-4598-b9d0-1cd1a0b67a19",
   "metadata": {},
   "outputs": [],
   "source": [
    "import pandas as pd\n",
    "import numpy as np\n",
    "import nrrd\n",
    "import shutil\n",
    "import os\n",
    "import matplotlib.pyplot as plt"
   ]
  },
  {
   "cell_type": "code",
   "execution_count": 3,
   "metadata": {},
   "outputs": [],
   "source": [
    "dataset = pd.read_csv(f\"./data/tdsc/bbx_labels.csv\", dtype={'Case_id': int, 'Label': str, 'Data_path': str, 'Mask_path': str}).set_index('id')"
   ]
  },
  {
   "cell_type": "code",
   "execution_count": 4,
   "metadata": {},
   "outputs": [
    {
     "data": {
      "text/html": [
       "<div>\n",
       "<style scoped>\n",
       "    .dataframe tbody tr th:only-of-type {\n",
       "        vertical-align: middle;\n",
       "    }\n",
       "\n",
       "    .dataframe tbody tr th {\n",
       "        vertical-align: top;\n",
       "    }\n",
       "\n",
       "    .dataframe thead th {\n",
       "        text-align: right;\n",
       "    }\n",
       "</style>\n",
       "<table border=\"1\" class=\"dataframe\">\n",
       "  <thead>\n",
       "    <tr style=\"text-align: right;\">\n",
       "      <th></th>\n",
       "      <th>c_x</th>\n",
       "      <th>c_y</th>\n",
       "      <th>c_z</th>\n",
       "      <th>len_x</th>\n",
       "      <th>len_y</th>\n",
       "      <th>len_z</th>\n",
       "    </tr>\n",
       "    <tr>\n",
       "      <th>id</th>\n",
       "      <th></th>\n",
       "      <th></th>\n",
       "      <th></th>\n",
       "      <th></th>\n",
       "      <th></th>\n",
       "      <th></th>\n",
       "    </tr>\n",
       "  </thead>\n",
       "  <tbody>\n",
       "    <tr>\n",
       "      <th>0</th>\n",
       "      <td>249.5</td>\n",
       "      <td>142.0</td>\n",
       "      <td>376.0</td>\n",
       "      <td>35</td>\n",
       "      <td>256</td>\n",
       "      <td>114</td>\n",
       "    </tr>\n",
       "    <tr>\n",
       "      <th>1</th>\n",
       "      <td>111.5</td>\n",
       "      <td>112.5</td>\n",
       "      <td>690.5</td>\n",
       "      <td>15</td>\n",
       "      <td>77</td>\n",
       "      <td>63</td>\n",
       "    </tr>\n",
       "    <tr>\n",
       "      <th>2</th>\n",
       "      <td>166.5</td>\n",
       "      <td>150.0</td>\n",
       "      <td>462.0</td>\n",
       "      <td>47</td>\n",
       "      <td>266</td>\n",
       "      <td>184</td>\n",
       "    </tr>\n",
       "    <tr>\n",
       "      <th>3</th>\n",
       "      <td>284.5</td>\n",
       "      <td>175.0</td>\n",
       "      <td>505.5</td>\n",
       "      <td>43</td>\n",
       "      <td>220</td>\n",
       "      <td>115</td>\n",
       "    </tr>\n",
       "    <tr>\n",
       "      <th>4</th>\n",
       "      <td>126.0</td>\n",
       "      <td>118.5</td>\n",
       "      <td>274.5</td>\n",
       "      <td>12</td>\n",
       "      <td>91</td>\n",
       "      <td>57</td>\n",
       "    </tr>\n",
       "  </tbody>\n",
       "</table>\n",
       "</div>"
      ],
      "text/plain": [
       "      c_x    c_y    c_z  len_x  len_y  len_z\n",
       "id                                          \n",
       "0   249.5  142.0  376.0     35    256    114\n",
       "1   111.5  112.5  690.5     15     77     63\n",
       "2   166.5  150.0  462.0     47    266    184\n",
       "3   284.5  175.0  505.5     43    220    115\n",
       "4   126.0  118.5  274.5     12     91     57"
      ]
     },
     "execution_count": 4,
     "metadata": {},
     "output_type": "execute_result"
    }
   ],
   "source": [
    "dataset.head()"
   ]
  },
  {
   "cell_type": "code",
   "execution_count": 33,
   "metadata": {},
   "outputs": [
    {
     "name": "stdout",
     "output_type": "stream",
     "text": [
      "c_x      126.0\n",
      "c_y      118.5\n",
      "c_z      274.5\n",
      "len_x     12.0\n",
      "len_y     91.0\n",
      "len_z     57.0\n",
      "Name: 4, dtype: float64\n",
      "12.0 91.0 57.0\n",
      "126.0 118.5 274.5\n"
     ]
    }
   ],
   "source": [
    "sample = dataset.loc[4,:]\n",
    "x, y, z = sample[\"c_x\"], sample[\"c_y\"], sample[\"c_z\"]\n",
    "xl, yl, zl = sample[\"len_x\"], sample[\"len_y\"], sample[\"len_z\"]\n",
    "print(sample)\n",
    "print(xl,yl, zl)\n",
    "print(x,y,z)"
   ]
  },
  {
   "cell_type": "code",
   "execution_count": 34,
   "metadata": {},
   "outputs": [],
   "source": [
    "x = int(x) - 10\n",
    "y = int(y) - 10\n",
    "z = int(z) - 10\n",
    "xl = int(xl) + 10\n",
    "yl = int(yl) + 10\n",
    "zl = int(zl)"
   ]
  },
  {
   "cell_type": "code",
   "execution_count": 38,
   "metadata": {},
   "outputs": [
    {
     "name": "stdout",
     "output_type": "stream",
     "text": [
      "(865, 608, 330)\n"
     ]
    }
   ],
   "source": [
    "vol, _ = nrrd.read(\"./data/tdsc/train/data/b/4.nrrd\")\n",
    "mask, _ = nrrd.read(\"./data/tdsc/train/mask/b/4.nrrd\")\n",
    "print(vol.shape)\n",
    "print(mask.shape)        "
   ]
  },
  {
   "cell_type": "code",
   "execution_count": 36,
   "metadata": {},
   "outputs": [
    {
     "name": "stdout",
     "output_type": "stream",
     "text": [
      "(22, 101, 57)\n"
     ]
    }
   ],
   "source": [
    "print(vol[x:x+xl,y:y+yl,z:z+zl].shape)"
   ]
  },
  {
   "cell_type": "code",
   "execution_count": 37,
   "metadata": {},
   "outputs": [
    {
     "ename": "TypeError",
     "evalue": "only integer scalar arrays can be converted to a scalar index",
     "output_type": "error",
     "traceback": [
      "\u001b[0;31m---------------------------------------------------------------------------\u001b[0m",
      "\u001b[0;31mTypeError\u001b[0m                                 Traceback (most recent call last)",
      "\u001b[1;32m/home/ozma/Source/abus-classification/visualization.ipynb Cell 8\u001b[0m line \u001b[0;36m2\n\u001b[1;32m      <a href='vscode-notebook-cell:/home/ozma/Source/abus-classification/visualization.ipynb#X16sZmlsZQ%3D%3D?line=0'>1</a>\u001b[0m x \u001b[39m=\u001b[39m vol[x:x\u001b[39m+\u001b[39mxl,y:y\u001b[39m+\u001b[39myl,z:z\u001b[39m+\u001b[39mzl]\n\u001b[0;32m----> <a href='vscode-notebook-cell:/home/ozma/Source/abus-classification/visualization.ipynb#X16sZmlsZQ%3D%3D?line=1'>2</a>\u001b[0m m \u001b[39m=\u001b[39m mask[x:x\u001b[39m+\u001b[39;49mxl,y:y\u001b[39m+\u001b[39;49myl,z:z\u001b[39m+\u001b[39;49mzl]\n",
      "\u001b[0;31mTypeError\u001b[0m: only integer scalar arrays can be converted to a scalar index"
     ]
    }
   ],
   "source": [
    "x = vol[x:x+xl,y:y+yl,z:z+zl]\n",
    "m = mask[x:x+xl,y:y+yl,z:z+zl]"
   ]
  },
  {
   "cell_type": "code",
   "execution_count": 31,
   "metadata": {},
   "outputs": [
    {
     "ename": "TypeError",
     "evalue": "'int' object is not subscriptable",
     "output_type": "error",
     "traceback": [
      "\u001b[0;31m---------------------------------------------------------------------------\u001b[0m",
      "\u001b[0;31mTypeError\u001b[0m                                 Traceback (most recent call last)",
      "\u001b[1;32m/home/ozma/Source/abus-classification/visualization.ipynb Cell 9\u001b[0m line \u001b[0;36m1\n\u001b[0;32m----> <a href='vscode-notebook-cell:/home/ozma/Source/abus-classification/visualization.ipynb#X15sZmlsZQ%3D%3D?line=0'>1</a>\u001b[0m plt\u001b[39m.\u001b[39mimshow(y[:,:,\u001b[39m0\u001b[39;49m])\n",
      "\u001b[0;31mTypeError\u001b[0m: 'int' object is not subscriptable"
     ]
    }
   ],
   "source": [
    "plt.imshow(y[:,:,0])"
   ]
  }
 ],
 "metadata": {
  "kernelspec": {
   "display_name": "Python 3 (ipykernel)",
   "language": "python",
   "name": "python3"
  },
  "language_info": {
   "codemirror_mode": {
    "name": "ipython",
    "version": 3
   },
   "file_extension": ".py",
   "mimetype": "text/x-python",
   "name": "python",
   "nbconvert_exporter": "python",
   "pygments_lexer": "ipython3",
   "version": "3.9.16"
  },
  "vscode": {
   "interpreter": {
    "hash": "02ecc31a93c92236bcb8a960226e7aeddb561ea97de1a7f613a0ebdcb11271c7"
   }
  }
 },
 "nbformat": 4,
 "nbformat_minor": 5
}
