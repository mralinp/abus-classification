{
 "cells": [
  {
   "cell_type": "code",
   "execution_count": 1,
   "metadata": {},
   "outputs": [],
   "source": [
    "import numpy as np\n",
    "import cv2\n",
    "import torch\n",
    "import matplotlib.pyplot as plt\n",
    "from tqdm.notebook import tqdm\n",
    "\n",
    "from signature import signature\n",
    "import datasets"
   ]
  },
  {
   "cell_type": "code",
   "execution_count": 2,
   "metadata": {},
   "outputs": [],
   "source": [
    "def find_maximum_dimensions(dataset):\n",
    "    w,h,d = 0, 0, 0\n",
    "    for sample in dataset:\n",
    "        v,m,y = sample\n",
    "        ws, hs, ds = v.shape\n",
    "        w = max(w, ws)\n",
    "        h = max(h, hs)\n",
    "        d = max(d, ds)\n",
    "    return w,h,d"
   ]
  },
  {
   "cell_type": "markdown",
   "metadata": {},
   "source": [
    "### Calculating signature for Sagittal tumors"
   ]
  },
  {
   "cell_type": "code",
   "execution_count": 6,
   "metadata": {},
   "outputs": [],
   "source": [
    "dataset_sagittal = datasets.Tumors(path=\"./data/tdsc/tumors_3d/z\")"
   ]
  },
  {
   "cell_type": "code",
   "execution_count": 7,
   "metadata": {},
   "outputs": [
    {
     "name": "stdout",
     "output_type": "stream",
     "text": [
      "(100, 180, 360)\n",
      "100\n"
     ]
    }
   ],
   "source": [
    "w,h,d = find_maximum_dimensions(dataset_sagittal)\n",
    "signature_data = []\n",
    "\n",
    "for sample in dataset_sagittal:\n",
    "    _, m, y = sample\n",
    "    depth = m.shape[2]\n",
    "    signatures = np.zeros([180,360])\n",
    "    for d in range(depth):\n",
    "        mask = m[:,:,d]\n",
    "        mask = cv2.resize(mask, (w,h))\n",
    "        signatures[d, :] = signature(mask, res=1)\n",
    "    signature_data += [signatures]\n",
    "    \n",
    "signature_data = np.array(signature_data)\n",
    "print(signature_data.shape)\n",
    "print(len(signature_data))\n",
    "np.save(\"./data/tdsc/tumors_3d/z/signatures\", signature_data)"
   ]
  },
  {
   "cell_type": "markdown",
   "metadata": {},
   "source": [
    "### Calculating signature for coronal tumors"
   ]
  },
  {
   "cell_type": "code",
   "execution_count": 4,
   "metadata": {},
   "outputs": [
    {
     "name": "stdout",
     "output_type": "stream",
     "text": [
      "(100, 481, 360)\n",
      "\n"
     ]
    }
   ],
   "source": [
    "dataset_coronal = datasets.Tumors(path=\"./data/tdsc/tumors_3d/y\")\n",
    "w,h,d = find_maximum_dimensions(dataset_coronal)\n",
    "\n",
    "coronal_signatures = []\n",
    "for sample in dataset_coronal:\n",
    "    _, m, y = sample\n",
    "    depth = m.shape[2]\n",
    "    signatures = np.zeros([d, 360])\n",
    "    for i in range(depth):\n",
    "        mask = m[:,:,i]\n",
    "        mask = cv2.resize(mask, (w,h))\n",
    "        signatures[i, :] = signature(mask, res=1)\n",
    "    coronal_signatures += [signatures]\n",
    "\n",
    "coronal_signatures = np.array(coronal_signatures)\n",
    "print(coronal_signatures.shape)\n",
    "print()\n",
    "np.save(\"./data/tdsc/tumors_3d/y/signatures\", coronal_signatures)"
   ]
  },
  {
   "cell_type": "code",
   "execution_count": 5,
   "metadata": {},
   "outputs": [],
   "source": [
    "np.save(\"./data/tdsc/tumors_3d/y/signatures\", coronal_signatures)"
   ]
  },
  {
   "cell_type": "markdown",
   "metadata": {},
   "source": [
    "### Calculating signature for axial tumors"
   ]
  },
  {
   "cell_type": "code",
   "execution_count": 7,
   "metadata": {},
   "outputs": [
    {
     "name": "stdout",
     "output_type": "stream",
     "text": [
      "(100, 481, 360)\n",
      "\n"
     ]
    }
   ],
   "source": [
    "dataset_axial = datasets.Tumors(path=\"./data/tdsc/tumors_3d/x\")\n",
    "w,h,d = find_maximum_dimensions(dataset_coronal)\n",
    "\n",
    "axial_signatures = []\n",
    "for sample in dataset_axial:\n",
    "    _, m, y = sample\n",
    "    depth = m.shape[2]\n",
    "    signatures = np.zeros([d, 360])\n",
    "    for i in range(depth):\n",
    "        mask = m[:,:,i]\n",
    "        mask = cv2.resize(mask, (w,h))\n",
    "        signatures[i, :] = signature(mask, res=1)\n",
    "    axial_signatures += [signatures]\n",
    "\n",
    "axial_signatures = np.array(axial_signatures)\n",
    "print(axial_signatures.shape)\n",
    "print()\n",
    "np.save(\"./data/tdsc/tumors_3d/x/signatures\", axial_signatures)"
   ]
  }
 ],
 "metadata": {
  "kernelspec": {
   "display_name": "torch",
   "language": "python",
   "name": "python3"
  },
  "language_info": {
   "codemirror_mode": {
    "name": "ipython",
    "version": 3
   },
   "file_extension": ".py",
   "mimetype": "text/x-python",
   "name": "python",
   "nbconvert_exporter": "python",
   "pygments_lexer": "ipython3",
   "version": "3.9.16"
  }
 },
 "nbformat": 4,
 "nbformat_minor": 2
}
