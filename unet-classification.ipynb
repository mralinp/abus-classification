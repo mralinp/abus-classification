{
 "cells": [
  {
   "cell_type": "code",
   "execution_count": 2,
   "metadata": {},
   "outputs": [],
   "source": [
    "from tqdm.notebook import tqdm\n",
    "import torch\n",
    "import datasets\n",
    "import albumentations as A\n",
    "from albumentations.pytorch import ToTensorV2\n",
    "import numpy as np\n",
    "import matplotlib.pyplot as plt\n",
    "from models import unet\n",
    "import torchvision"
   ]
  },
  {
   "cell_type": "code",
   "execution_count": 3,
   "metadata": {},
   "outputs": [],
   "source": [
    "train_transforms = A.Compose(\n",
    "        [\n",
    "            A.Resize(height=256, width=256),\n",
    "            A.Rotate(limit=35, p=1.0),\n",
    "            A.HorizontalFlip(p=0.5),\n",
    "            A.VerticalFlip(p=0.1),\n",
    "            A.Normalize(\n",
    "                mean=[0.0],\n",
    "                std=[1.0],\n",
    "                max_pixel_value=255.0,\n",
    "            ),\n",
    "            ToTensorV2(),\n",
    "        ],\n",
    "    )\n",
    "\n",
    "val_transforms = A.Compose(\n",
    "    [\n",
    "        A.Resize(height=256, width=256),\n",
    "        A.Normalize(\n",
    "            mean=[0.0],\n",
    "            std=[1.0],\n",
    "            max_pixel_value=255.0,\n",
    "        ),\n",
    "        ToTensorV2(),\n",
    "    ],\n",
    ")\n"
   ]
  },
  {
   "cell_type": "code",
   "execution_count": 4,
   "metadata": {},
   "outputs": [],
   "source": [
    "train_dataset = datasets.tdsc.TDSC(path_to_dataset=\"./data/tdsc/train\", transform=train_transforms)\n",
    "validation_dataset = datasets.tdsc.TDSC(path_to_dataset=\"./data/tdsc/validation\", transform=val_transforms)"
   ]
  },
  {
   "cell_type": "markdown",
   "metadata": {},
   "source": [
    "## Building the model"
   ]
  },
  {
   "cell_type": "code",
   "execution_count": 5,
   "metadata": {},
   "outputs": [],
   "source": [
    "model = unet.UNet(in_channels=1, out_channels=1)"
   ]
  },
  {
   "cell_type": "markdown",
   "metadata": {},
   "source": [
    "## Dice loss"
   ]
  },
  {
   "cell_type": "code",
   "execution_count": 6,
   "metadata": {},
   "outputs": [],
   "source": [
    "class DiceLoss(torch.nn.Module):\n",
    "    def __init__(self, smooth=1):\n",
    "        super(DiceLoss, self).__init__()\n",
    "        self.smooth = smooth\n",
    "\n",
    "    def forward(self, predictions, targets):\n",
    "        # Flatten predictions and targets\n",
    "        predictions = predictions.view(-1)\n",
    "        targets = targets.view(-1)\n",
    "\n",
    "        intersection = (predictions * targets).sum()\n",
    "        dice_coefficient = (2. * intersection + self.smooth) / (predictions.sum() + targets.sum() + self.smooth)\n",
    "\n",
    "        # The Dice Loss is the complement of the Dice Coefficient\n",
    "        dice_loss = 1 - dice_coefficient\n",
    "\n",
    "        return dice_loss"
   ]
  },
  {
   "cell_type": "markdown",
   "metadata": {},
   "source": [
    "## Training hyperparameters"
   ]
  },
  {
   "cell_type": "code",
   "execution_count": 7,
   "metadata": {},
   "outputs": [],
   "source": [
    "learning_rate = 1e-3\n",
    "device = \"cuda\" if torch.cuda.is_available() else \"cpu\"\n",
    "num_epochs = 20\n",
    "criterion = DiceLoss()\n",
    "optimizer = torch.optim.Adam(model.parameters(), lr=learning_rate)\n",
    "model = model.to(device=device)\n",
    "scaler = torch.cuda.amp.GradScaler()"
   ]
  },
  {
   "cell_type": "code",
   "execution_count": 8,
   "metadata": {},
   "outputs": [],
   "source": [
    "def train(model, dataset, optimizer, loss_fn, brighter=0):\n",
    "\n",
    "    model.train()\n",
    "    loop = tqdm(dataset)\n",
    "\n",
    "    for idx, data in enumerate(loop):\n",
    "        vol, mask, y = data\n",
    "        for i in range(vol.shape[1]):\n",
    "            x = vol[:,i,:,:]\n",
    "            m = mask[:,i,:,:]\n",
    "            if brighter != 0:\n",
    "                x = x + m*brighter\n",
    "            x = x.unsqueeze(0)\n",
    "            m = m.unsqueeze(0)\n",
    "            x = x.to(device)\n",
    "            m = m.to(device)\n",
    "            # forward\n",
    "            with torch.cuda.amp.autocast():\n",
    "                predictions = torch.sigmoid(model(x))\n",
    "                loss = loss_fn(predictions, m)\n",
    "\n",
    "            # backward\n",
    "            optimizer.zero_grad()\n",
    "            scaler.scale(loss).backward()\n",
    "            scaler.step(optimizer)\n",
    "            scaler.update()\n",
    "\n",
    "        # update tqdm loop\n",
    "        loop.set_postfix(loss=loss.item())"
   ]
  },
  {
   "cell_type": "code",
   "execution_count": 9,
   "metadata": {},
   "outputs": [],
   "source": [
    "def calculate_accuracy(dataset, model, device=\"cuda\"):\n",
    "    num_correct = 0\n",
    "    num_pixels = 0\n",
    "    dice_score = 0\n",
    "    \n",
    "    model.eval()\n",
    "\n",
    "    with torch.no_grad():\n",
    "        for vol, mask, l in dataset:\n",
    "            for i in range(vol.shape[1]):\n",
    "                x = vol[:,i,:,:]\n",
    "                y = mask[:,i,:,:]\n",
    "                x = x.unsqueeze(0)\n",
    "                y = y.unsqueeze(0)\n",
    "                x = x.to(device)\n",
    "                y = y.to(device).unsqueeze(1)\n",
    "                preds = torch.sigmoid(model(x))\n",
    "                preds = (preds > 0.5).float()\n",
    "                num_correct += (preds == y).sum()\n",
    "                num_pixels += torch.numel(preds)\n",
    "                dice_score += (2 * (preds * y).sum()) / (\n",
    "                    (preds + y).sum() + 1e-8\n",
    "                )\n",
    "\n",
    "    print(f\"Got {num_correct}/{num_pixels} with acc {num_correct/num_pixels*100:.2f}\")\n",
    "    print(f\"Dice score: {dice_score/len(dataset)}\")\n",
    "    \n",
    "    model.train()\n"
   ]
  },
  {
   "cell_type": "code",
   "execution_count": 16,
   "metadata": {},
   "outputs": [
    {
     "name": "stdout",
     "output_type": "stream",
     "text": [
      "torch.Size([37, 256, 256]) torch.Size([37, 256, 256])\n"
     ]
    }
   ],
   "source": [
    "x,m,y = train_dataset[10]\n",
    "x = x.squeeze(0)\n",
    "m = m.squeeze(0)\n",
    "print(x.shape, m.shape)"
   ]
  },
  {
   "cell_type": "code",
   "execution_count": null,
   "metadata": {},
   "outputs": [],
   "source": [
    "sx = x[10,:,:]\n",
    "sm = y[10,:,:]\n",
    "\n",
    "print(sx.shape, sm.shape)"
   ]
  },
  {
   "cell_type": "code",
   "execution_count": 10,
   "metadata": {},
   "outputs": [],
   "source": [
    "def save_results_as_imgs(model, dataset, path=\"./saved_images\"):\n",
    "    model.eval()\n",
    "    idx = np.random.randint(0,20)\n",
    "    vol, mask, label = dataset[idx]\n",
    "    with torch.no_grad():\n",
    "        for i in range(vol.shape[1]):\n",
    "            x = vol[:,i,:,:]\n",
    "            y = mask[:,i,:,:]\n",
    "            x = x.unsqueeze(0)\n",
    "            y = y.unsqueeze(0)\n",
    "            x = x.to(device)\n",
    "            y = y.to(device).unsqueeze(1)\n",
    "            y = y.squeeze(1)\n",
    "            preds = torch.sigmoid(model(x))\n",
    "            preds = (preds > 0.5).float()\n",
    "            torchvision.utils.save_image(preds, f\"{path}/pred_{i}.png\")\n",
    "            torchvision.utils.save_image(y.squeeze(1), f\"{path}/{i}.png\")\n",
    "    \n",
    "    model.train()"
   ]
  },
  {
   "cell_type": "code",
   "execution_count": 11,
   "metadata": {},
   "outputs": [
    {
     "data": {
      "application/vnd.jupyter.widget-view+json": {
       "model_id": "523f15e65d43411ca2926663d1a75826",
       "version_major": 2,
       "version_minor": 0
      },
      "text/plain": [
       "  0%|          | 0/79 [00:00<?, ?it/s]"
      ]
     },
     "metadata": {},
     "output_type": "display_data"
    },
    {
     "name": "stderr",
     "output_type": "stream",
     "text": [
      "/home/ozma/anaconda3/envs/torch/lib/python3.9/site-packages/torchvision/transforms/functional.py:1603: UserWarning: The default value of the antialias parameter of all the resizing transforms (Resize(), RandomResizedCrop(), etc.) will change from None to True in v0.17, in order to be consistent across the PIL and Tensor backends. To suppress this warning, directly pass antialias=True (recommended, future default), antialias=None (current default, which means False for Tensors and True for PIL), or antialias=False (only works on Tensors - PIL will still use antialiasing). This also applies if you are using the inference transforms from the models weights: update the call to weights.transforms(antialias=True).\n",
      "  warnings.warn(\n"
     ]
    },
    {
     "name": "stdout",
     "output_type": "stream",
     "text": [
      "Got 38786331/39780352 with acc 97.50\n",
      "Dice score: 0.0\n"
     ]
    },
    {
     "data": {
      "application/vnd.jupyter.widget-view+json": {
       "model_id": "9098fdf17adf41a6bf0efa93e558dbc3",
       "version_major": 2,
       "version_minor": 0
      },
      "text/plain": [
       "  0%|          | 0/79 [00:00<?, ?it/s]"
      ]
     },
     "metadata": {},
     "output_type": "display_data"
    },
    {
     "name": "stdout",
     "output_type": "stream",
     "text": [
      "Got 38786331/39780352 with acc 97.50\n",
      "Dice score: 0.0\n"
     ]
    },
    {
     "data": {
      "application/vnd.jupyter.widget-view+json": {
       "model_id": "35a760f3b19a4ff9867494790d775349",
       "version_major": 2,
       "version_minor": 0
      },
      "text/plain": [
       "  0%|          | 0/79 [00:00<?, ?it/s]"
      ]
     },
     "metadata": {},
     "output_type": "display_data"
    },
    {
     "name": "stdout",
     "output_type": "stream",
     "text": [
      "Got 38786331/39780352 with acc 97.50\n",
      "Dice score: 0.0\n"
     ]
    },
    {
     "data": {
      "application/vnd.jupyter.widget-view+json": {
       "model_id": "85b438c6809148c48922d16d84f63a74",
       "version_major": 2,
       "version_minor": 0
      },
      "text/plain": [
       "  0%|          | 0/79 [00:00<?, ?it/s]"
      ]
     },
     "metadata": {},
     "output_type": "display_data"
    },
    {
     "name": "stdout",
     "output_type": "stream",
     "text": [
      "Got 38786331/39780352 with acc 97.50\n",
      "Dice score: 0.0\n"
     ]
    },
    {
     "data": {
      "application/vnd.jupyter.widget-view+json": {
       "model_id": "49dd589bc8604e488b1535ffc1caa72c",
       "version_major": 2,
       "version_minor": 0
      },
      "text/plain": [
       "  0%|          | 0/79 [00:00<?, ?it/s]"
      ]
     },
     "metadata": {},
     "output_type": "display_data"
    },
    {
     "name": "stdout",
     "output_type": "stream",
     "text": [
      "Got 38786331/39780352 with acc 97.50\n",
      "Dice score: 0.0\n"
     ]
    },
    {
     "data": {
      "application/vnd.jupyter.widget-view+json": {
       "model_id": "4b8555e4798d4b799be2de5d332f6165",
       "version_major": 2,
       "version_minor": 0
      },
      "text/plain": [
       "  0%|          | 0/79 [00:00<?, ?it/s]"
      ]
     },
     "metadata": {},
     "output_type": "display_data"
    },
    {
     "name": "stdout",
     "output_type": "stream",
     "text": [
      "Got 38786331/39780352 with acc 97.50\n",
      "Dice score: 0.0\n"
     ]
    },
    {
     "data": {
      "application/vnd.jupyter.widget-view+json": {
       "model_id": "8d68bb6b288d4610a9233ac12e013bb8",
       "version_major": 2,
       "version_minor": 0
      },
      "text/plain": [
       "  0%|          | 0/79 [00:00<?, ?it/s]"
      ]
     },
     "metadata": {},
     "output_type": "display_data"
    },
    {
     "name": "stdout",
     "output_type": "stream",
     "text": [
      "Got 38786331/39780352 with acc 97.50\n",
      "Dice score: 0.0\n"
     ]
    },
    {
     "data": {
      "application/vnd.jupyter.widget-view+json": {
       "model_id": "f23579041b024154a42b1c70aed1658a",
       "version_major": 2,
       "version_minor": 0
      },
      "text/plain": [
       "  0%|          | 0/79 [00:00<?, ?it/s]"
      ]
     },
     "metadata": {},
     "output_type": "display_data"
    },
    {
     "name": "stdout",
     "output_type": "stream",
     "text": [
      "Got 38786331/39780352 with acc 97.50\n",
      "Dice score: 0.0\n"
     ]
    },
    {
     "data": {
      "application/vnd.jupyter.widget-view+json": {
       "model_id": "2443d54a2d274752ae943cd7a174073e",
       "version_major": 2,
       "version_minor": 0
      },
      "text/plain": [
       "  0%|          | 0/79 [00:00<?, ?it/s]"
      ]
     },
     "metadata": {},
     "output_type": "display_data"
    },
    {
     "name": "stdout",
     "output_type": "stream",
     "text": [
      "Got 38786331/39780352 with acc 97.50\n",
      "Dice score: 0.0\n"
     ]
    },
    {
     "data": {
      "application/vnd.jupyter.widget-view+json": {
       "model_id": "50649e3c37d54a3fa34a93cc9fd907c0",
       "version_major": 2,
       "version_minor": 0
      },
      "text/plain": [
       "  0%|          | 0/79 [00:00<?, ?it/s]"
      ]
     },
     "metadata": {},
     "output_type": "display_data"
    },
    {
     "name": "stdout",
     "output_type": "stream",
     "text": [
      "Got 38786331/39780352 with acc 97.50\n",
      "Dice score: 0.0\n"
     ]
    },
    {
     "data": {
      "application/vnd.jupyter.widget-view+json": {
       "model_id": "ef7708721de44f668c1d1670c1ed601b",
       "version_major": 2,
       "version_minor": 0
      },
      "text/plain": [
       "  0%|          | 0/79 [00:00<?, ?it/s]"
      ]
     },
     "metadata": {},
     "output_type": "display_data"
    },
    {
     "name": "stdout",
     "output_type": "stream",
     "text": [
      "Got 38786331/39780352 with acc 97.50\n",
      "Dice score: 0.0\n"
     ]
    },
    {
     "data": {
      "application/vnd.jupyter.widget-view+json": {
       "model_id": "594e51e5d3554523809719b72df7a80e",
       "version_major": 2,
       "version_minor": 0
      },
      "text/plain": [
       "  0%|          | 0/79 [00:00<?, ?it/s]"
      ]
     },
     "metadata": {},
     "output_type": "display_data"
    },
    {
     "name": "stdout",
     "output_type": "stream",
     "text": [
      "Got 38786331/39780352 with acc 97.50\n",
      "Dice score: 0.0\n"
     ]
    },
    {
     "data": {
      "application/vnd.jupyter.widget-view+json": {
       "model_id": "ae5101f8c6344b859ba90a2c44a25e16",
       "version_major": 2,
       "version_minor": 0
      },
      "text/plain": [
       "  0%|          | 0/79 [00:00<?, ?it/s]"
      ]
     },
     "metadata": {},
     "output_type": "display_data"
    },
    {
     "name": "stdout",
     "output_type": "stream",
     "text": [
      "Got 38786331/39780352 with acc 97.50\n",
      "Dice score: 0.0\n"
     ]
    },
    {
     "data": {
      "application/vnd.jupyter.widget-view+json": {
       "model_id": "11bc78ca02ba41918e381fae328f0a4b",
       "version_major": 2,
       "version_minor": 0
      },
      "text/plain": [
       "  0%|          | 0/79 [00:00<?, ?it/s]"
      ]
     },
     "metadata": {},
     "output_type": "display_data"
    },
    {
     "ename": "KeyboardInterrupt",
     "evalue": "",
     "output_type": "error",
     "traceback": [
      "\u001b[0;31m---------------------------------------------------------------------------\u001b[0m",
      "\u001b[0;31mKeyboardInterrupt\u001b[0m                         Traceback (most recent call last)",
      "\u001b[1;32m/home/ozma/Source/abus-classification/unet-classification.ipynb Cell 13\u001b[0m line \u001b[0;36m3\n\u001b[1;32m      <a href='vscode-notebook-cell:/home/ozma/Source/abus-classification/unet-classification.ipynb#X15sZmlsZQ%3D%3D?line=0'>1</a>\u001b[0m \u001b[39mfor\u001b[39;00m i \u001b[39min\u001b[39;00m \u001b[39mrange\u001b[39m(num_epochs):\n\u001b[1;32m      <a href='vscode-notebook-cell:/home/ozma/Source/abus-classification/unet-classification.ipynb#X15sZmlsZQ%3D%3D?line=1'>2</a>\u001b[0m     train(model, train_dataset, optimizer, criterion)\n\u001b[0;32m----> <a href='vscode-notebook-cell:/home/ozma/Source/abus-classification/unet-classification.ipynb#X15sZmlsZQ%3D%3D?line=2'>3</a>\u001b[0m     calculate_accuracy(validation_dataset, model)\n\u001b[1;32m      <a href='vscode-notebook-cell:/home/ozma/Source/abus-classification/unet-classification.ipynb#X15sZmlsZQ%3D%3D?line=3'>4</a>\u001b[0m     save_results_as_imgs(model, validation_dataset)\n",
      "\u001b[1;32m/home/ozma/Source/abus-classification/unet-classification.ipynb Cell 13\u001b[0m line \u001b[0;36m9\n\u001b[1;32m      <a href='vscode-notebook-cell:/home/ozma/Source/abus-classification/unet-classification.ipynb#X15sZmlsZQ%3D%3D?line=5'>6</a>\u001b[0m model\u001b[39m.\u001b[39meval()\n\u001b[1;32m      <a href='vscode-notebook-cell:/home/ozma/Source/abus-classification/unet-classification.ipynb#X15sZmlsZQ%3D%3D?line=7'>8</a>\u001b[0m \u001b[39mwith\u001b[39;00m torch\u001b[39m.\u001b[39mno_grad():\n\u001b[0;32m----> <a href='vscode-notebook-cell:/home/ozma/Source/abus-classification/unet-classification.ipynb#X15sZmlsZQ%3D%3D?line=8'>9</a>\u001b[0m     \u001b[39mfor\u001b[39;00m vol, mask, l \u001b[39min\u001b[39;00m dataset:\n\u001b[1;32m     <a href='vscode-notebook-cell:/home/ozma/Source/abus-classification/unet-classification.ipynb#X15sZmlsZQ%3D%3D?line=9'>10</a>\u001b[0m         \u001b[39mfor\u001b[39;00m i \u001b[39min\u001b[39;00m \u001b[39mrange\u001b[39m(vol\u001b[39m.\u001b[39mshape[\u001b[39m1\u001b[39m]):\n\u001b[1;32m     <a href='vscode-notebook-cell:/home/ozma/Source/abus-classification/unet-classification.ipynb#X15sZmlsZQ%3D%3D?line=10'>11</a>\u001b[0m             x \u001b[39m=\u001b[39m vol[:,i,:,:]\n",
      "File \u001b[0;32m~/Source/abus-classification/datasets/tdsc.py:198\u001b[0m, in \u001b[0;36mTDSC.__getitem__\u001b[0;34m(self, index)\u001b[0m\n\u001b[1;32m    194\u001b[0m \u001b[39mglobal\u001b[39;00m tumor_locals\n\u001b[1;32m    196\u001b[0m label, path \u001b[39m=\u001b[39m \u001b[39mself\u001b[39m\u001b[39m.\u001b[39mdata[index]\n\u001b[0;32m--> 198\u001b[0m vol, _ \u001b[39m=\u001b[39m nrrd\u001b[39m.\u001b[39;49mread(\u001b[39mf\u001b[39;49m\u001b[39m\"\u001b[39;49m\u001b[39m{\u001b[39;49;00m\u001b[39mself\u001b[39;49m\u001b[39m.\u001b[39;49mpath_to_dataset\u001b[39m}\u001b[39;49;00m\u001b[39m/data/\u001b[39;49m\u001b[39m{\u001b[39;49;00mpath\u001b[39m}\u001b[39;49;00m\u001b[39m\"\u001b[39;49m)\n\u001b[1;32m    199\u001b[0m mask, _ \u001b[39m=\u001b[39m nrrd\u001b[39m.\u001b[39mread(\u001b[39mf\u001b[39m\u001b[39m\"\u001b[39m\u001b[39m{\u001b[39;00m\u001b[39mself\u001b[39m\u001b[39m.\u001b[39mpath_to_dataset\u001b[39m}\u001b[39;00m\u001b[39m/mask/\u001b[39m\u001b[39m{\u001b[39;00mpath\u001b[39m}\u001b[39;00m\u001b[39m\"\u001b[39m)        \n\u001b[1;32m    200\u001b[0m tumor_local_idx \u001b[39m=\u001b[39m (\u001b[39mint\u001b[39m(path\u001b[39m.\u001b[39mreplace(\u001b[39m'\u001b[39m\u001b[39m.nrrd\u001b[39m\u001b[39m'\u001b[39m, \u001b[39m'\u001b[39m\u001b[39m'\u001b[39m)\u001b[39m.\u001b[39mreplace(\u001b[39m'\u001b[39m\u001b[39m/m/\u001b[39m\u001b[39m'\u001b[39m, \u001b[39m'\u001b[39m\u001b[39m'\u001b[39m)\u001b[39m.\u001b[39mreplace(\u001b[39m'\u001b[39m\u001b[39m/b/\u001b[39m\u001b[39m'\u001b[39m, \u001b[39m'\u001b[39m\u001b[39m'\u001b[39m)))\n",
      "File \u001b[0;32m~/anaconda3/envs/torch/lib/python3.9/site-packages/nrrd/reader.py:517\u001b[0m, in \u001b[0;36mread\u001b[0;34m(filename, custom_field_map, index_order)\u001b[0m\n\u001b[1;32m    515\u001b[0m \u001b[39mwith\u001b[39;00m \u001b[39mopen\u001b[39m(filename, \u001b[39m'\u001b[39m\u001b[39mrb\u001b[39m\u001b[39m'\u001b[39m) \u001b[39mas\u001b[39;00m fh:\n\u001b[1;32m    516\u001b[0m     header \u001b[39m=\u001b[39m read_header(fh, custom_field_map)\n\u001b[0;32m--> 517\u001b[0m     data \u001b[39m=\u001b[39m read_data(header, fh, filename, index_order)\n\u001b[1;32m    519\u001b[0m \u001b[39mreturn\u001b[39;00m data, header\n",
      "File \u001b[0;32m~/anaconda3/envs/torch/lib/python3.9/site-packages/nrrd/reader.py:446\u001b[0m, in \u001b[0;36mread_data\u001b[0;34m(header, fh, filename, index_order)\u001b[0m\n\u001b[1;32m    443\u001b[0m end_index \u001b[39m=\u001b[39m \u001b[39mmin\u001b[39m(start_index \u001b[39m+\u001b[39m _READ_CHUNKSIZE, compressed_data_len)\n\u001b[1;32m    445\u001b[0m \u001b[39m# Decompress and append data\u001b[39;00m\n\u001b[0;32m--> 446\u001b[0m decompressed_data \u001b[39m+\u001b[39m\u001b[39m=\u001b[39m decompobj\u001b[39m.\u001b[39;49mdecompress(compressed_data[start_index:end_index])\n\u001b[1;32m    448\u001b[0m \u001b[39m# Update start index\u001b[39;00m\n\u001b[1;32m    449\u001b[0m start_index \u001b[39m=\u001b[39m end_index\n",
      "\u001b[0;31mKeyboardInterrupt\u001b[0m: "
     ]
    }
   ],
   "source": [
    "for i in range(num_epochs):\n",
    "    train(model, train_dataset, optimizer, criterion)\n",
    "    calculate_accuracy(validation_dataset, model)\n",
    "    save_results_as_imgs(model, validation_dataset)\n"
   ]
  },
  {
   "cell_type": "code",
   "execution_count": 11,
   "metadata": {},
   "outputs": [
    {
     "name": "stdout",
     "output_type": "stream",
     "text": [
      "torch.Size([1, 1, 256, 256])\n",
      "(256, 256) (256, 256)\n"
     ]
    },
    {
     "data": {
      "image/png": "[encoded data removed]",
      "text/plain": [
       "<Figure size 640x480 with 2 Axes>"
      ]
     },
     "metadata": {},
     "output_type": "display_data"
    }
   ],
   "source": [
    "model.eval()\n",
    "\n",
    "x, m, y = validation_dataset[10]\n",
    "prediction = torch.sigmoid(model(x[:,14:15,:,:].to(device)))\n",
    "prediction = (prediction > 0.5).float()\n",
    "print (prediction.shape)\n",
    "pred = prediction.squeeze()\n",
    "m = m[:,14:15,:,:]\n",
    "m = m.squeeze()\n",
    "pred = pred.to('cpu').detach().numpy()\n",
    "m = m.to('cpu').detach().numpy()\n",
    "print (m.shape, pred.shape)\n",
    "\n",
    "plt.subplot(1,2,1)\n",
    "plt.imshow(pred)\n",
    "plt.subplot(1,2,2)\n",
    "plt.imshow(m)\n",
    "plt.show()"
   ]
  }
 ],
 "metadata": {
  "kernelspec": {
   "display_name": "torch",
   "language": "python",
   "name": "python3"
  },
  "language_info": {
   "codemirror_mode": {
    "name": "ipython",
    "version": 3
   },
   "file_extension": ".py",
   "mimetype": "text/x-python",
   "name": "python",
   "nbconvert_exporter": "python",
   "pygments_lexer": "ipython3",
   "version": "3.9.16"
  },
  "orig_nbformat": 4
 },
 "nbformat": 4,
 "nbformat_minor": 2
}
