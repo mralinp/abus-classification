{
 "cells": [
  {
   "cell_type": "code",
   "execution_count": 1,
   "metadata": {},
   "outputs": [],
   "source": [
    "from tqdm.notebook import tqdm\n",
    "import torch\n",
    "import datasets\n",
    "import albumentations as A\n",
    "import numpy as np\n",
    "import matplotlib.pyplot as plt\n",
    "from models import unet\n",
    "import torchvision\n",
    "from transformers import ToTensorTransformer"
   ]
  },
  {
   "cell_type": "code",
   "execution_count": 2,
   "metadata": {},
   "outputs": [],
   "source": [
    "# train_transforms = A.Compose(\n",
    "#         [\n",
    "#             # A.Rotate(limit=35, p=1.0),\n",
    "#             # A.HorizontalFlip(p=0.5),\n",
    "#             # A.VerticalFlip(p=0.1),\n",
    "#             A.Normalize(\n",
    "#                 mean=[0.0],\n",
    "#                 std=[1.0],\n",
    "#                 max_pixel_value=255.0,\n",
    "#             ),\n",
    "#         ],\n",
    "#     )\n",
    "\n",
    "# val_transforms = A.Compose(\n",
    "#     [\n",
    "#         A.Normalize(\n",
    "#             mean=[0.0],\n",
    "#             std=[1.0],\n",
    "#             max_pixel_value=255.0,\n",
    "#         ),\n",
    "#     ],\n",
    "# )\n",
    "\n",
    "to_tensor = ToTensorTransformer()\n"
   ]
  },
  {
   "cell_type": "code",
   "execution_count": 3,
   "metadata": {},
   "outputs": [],
   "source": [
    "train_dataset = datasets.tdsc.TDSC(path_to_dataset=\"./data/tdsc\", train=True)\n",
    "validation_dataset = datasets.tdsc.TDSC(path_to_dataset=\"./data/tdsc\", train=False)"
   ]
  },
  {
   "cell_type": "code",
   "execution_count": 29,
   "metadata": {},
   "outputs": [
    {
     "name": "stdout",
     "output_type": "stream",
     "text": [
      "(128, 128, 15)\n"
     ]
    }
   ],
   "source": [
    "x,y,l = train_dataset[0]\n",
    "x = x - x*y*0.5\n",
    "print(x.shape)"
   ]
  },
  {
   "cell_type": "code",
   "execution_count": 30,
   "metadata": {},
   "outputs": [
    {
     "data": {
      "text/plain": [
       "<matplotlib.image.AxesImage at 0x7f797daa43a0>"
      ]
     },
     "execution_count": 30,
     "metadata": {},
     "output_type": "execute_result"
    },
    {
     "data": {
      "image/png": "[encoded data removed]",
      "text/plain": [
       "<Figure size 640x480 with 1 Axes>"
      ]
     },
     "metadata": {},
     "output_type": "display_data"
    }
   ],
   "source": [
    "plt.imshow(x[:,:,7])"
   ]
  },
  {
   "cell_type": "code",
   "execution_count": 5,
   "metadata": {},
   "outputs": [
    {
     "name": "stdout",
     "output_type": "stream",
     "text": [
      "(128, 128, 15) (128, 128, 15)\n",
      "torch.Size([15, 1, 128, 128])\n"
     ]
    }
   ],
   "source": [
    "\n",
    "print(x.shape, y.shape)\n",
    "x,y = to_tensor((x,y))\n",
    "print(x.shape)"
   ]
  },
  {
   "cell_type": "markdown",
   "metadata": {},
   "source": [
    "## Building the model"
   ]
  },
  {
   "cell_type": "code",
   "execution_count": 4,
   "metadata": {},
   "outputs": [],
   "source": [
    "model = unet.UNet(in_channels=1, out_channels=1)"
   ]
  },
  {
   "cell_type": "markdown",
   "metadata": {},
   "source": [
    "## Dice loss"
   ]
  },
  {
   "cell_type": "code",
   "execution_count": 5,
   "metadata": {},
   "outputs": [],
   "source": [
    "class DiceLoss(torch.nn.Module):\n",
    "    def __init__(self, smooth=1):\n",
    "        super(DiceLoss, self).__init__()\n",
    "        self.smooth = smooth\n",
    "\n",
    "    def forward(self, predictions, targets):\n",
    "        # Flatten predictions and targets\n",
    "        predictions = predictions.view(-1)\n",
    "        targets = targets.view(-1)\n",
    "\n",
    "        intersection = (predictions * targets).sum()\n",
    "        dice_coefficient = (2. * intersection + self.smooth) / (predictions.sum() + targets.sum() + self.smooth)\n",
    "\n",
    "        # The Dice Loss is the complement of the Dice Coefficient\n",
    "        dice_loss = 1 - dice_coefficient\n",
    "\n",
    "        return dice_loss"
   ]
  },
  {
   "cell_type": "markdown",
   "metadata": {},
   "source": [
    "## Training hyperparameters"
   ]
  },
  {
   "cell_type": "code",
   "execution_count": 6,
   "metadata": {},
   "outputs": [],
   "source": [
    "learning_rate = 1e-3\n",
    "device = \"cuda\" if torch.cuda.is_available() else \"cpu\"\n",
    "num_epochs = 20\n",
    "# criterion = DiceLoss()\n",
    "criterion = torch.nn.BCEWithLogitsLoss()\n",
    "optimizer = torch.optim.Adam(model.parameters(), lr=learning_rate)\n",
    "model = model.to(device=device)\n",
    "scaler = torch.cuda.amp.GradScaler()"
   ]
  },
  {
   "cell_type": "code",
   "execution_count": 9,
   "metadata": {},
   "outputs": [
    {
     "name": "stdout",
     "output_type": "stream",
     "text": [
      "training model...\n"
     ]
    },
    {
     "data": {
      "application/vnd.jupyter.widget-view+json": {
       "model_id": "eb80df0c8c4a4491881d2e3ee2413f4e",
       "version_major": 2,
       "version_minor": 0
      },
      "text/plain": [
       "  0%|          | 0/80 [00:00<?, ?it/s]"
      ]
     },
     "metadata": {},
     "output_type": "display_data"
    },
    {
     "name": "stdout",
     "output_type": "stream",
     "text": [
      "torch.Size([15, 1, 128, 128]) torch.Size([15, 1, 128, 128]) torch.Size([15, 1, 128, 128])\n"
     ]
    },
    {
     "name": "stderr",
     "output_type": "stream",
     "text": [
      "/home/ozma/anaconda3/envs/torch/lib/python3.9/site-packages/torchvision/transforms/functional.py:1603: UserWarning: The default value of the antialias parameter of all the resizing transforms (Resize(), RandomResizedCrop(), etc.) will change from None to True in v0.17, in order to be consistent across the PIL and Tensor backends. To suppress this warning, directly pass antialias=True (recommended, future default), antialias=None (current default, which means False for Tensors and True for PIL), or antialias=False (only works on Tensors - PIL will still use antialiasing). This also applies if you are using the inference transforms from the models weights: update the call to weights.transforms(antialias=True).\n",
      "  warnings.warn(\n"
     ]
    },
    {
     "ename": "RuntimeError",
     "evalue": "view size is not compatible with input tensor's size and stride (at least one dimension spans across two contiguous subspaces). Use .reshape(...) instead.",
     "output_type": "error",
     "traceback": [
      "\u001b[0;31m---------------------------------------------------------------------------\u001b[0m",
      "\u001b[0;31mRuntimeError\u001b[0m                              Traceback (most recent call last)",
      "\u001b[1;32m/home/ozma/Source/abus-classification/unet-classification.ipynb Cell 13\u001b[0m line \u001b[0;36m3\n\u001b[1;32m     <a href='vscode-notebook-cell:/home/ozma/Source/abus-classification/unet-classification.ipynb#X14sZmlsZQ%3D%3D?line=26'>27</a>\u001b[0m         \u001b[39m# update tqdm loop\u001b[39;00m\n\u001b[1;32m     <a href='vscode-notebook-cell:/home/ozma/Source/abus-classification/unet-classification.ipynb#X14sZmlsZQ%3D%3D?line=27'>28</a>\u001b[0m         loop\u001b[39m.\u001b[39mset_postfix(loss\u001b[39m=\u001b[39mloss\u001b[39m.\u001b[39mitem())\n\u001b[0;32m---> <a href='vscode-notebook-cell:/home/ozma/Source/abus-classification/unet-classification.ipynb#X14sZmlsZQ%3D%3D?line=30'>31</a>\u001b[0m train(model, train_dataset, optimizer, criterion)\n",
      "\u001b[1;32m/home/ozma/Source/abus-classification/unet-classification.ipynb Cell 13\u001b[0m line \u001b[0;36m2\n\u001b[1;32m     <a href='vscode-notebook-cell:/home/ozma/Source/abus-classification/unet-classification.ipynb#X14sZmlsZQ%3D%3D?line=18'>19</a>\u001b[0m     \u001b[39m# predictions = torch.sigmoid(predictions)\u001b[39;00m\n\u001b[1;32m     <a href='vscode-notebook-cell:/home/ozma/Source/abus-classification/unet-classification.ipynb#X14sZmlsZQ%3D%3D?line=19'>20</a>\u001b[0m     \u001b[39mprint\u001b[39m(predictions\u001b[39m.\u001b[39mshape, inputs\u001b[39m.\u001b[39mshape, targets\u001b[39m.\u001b[39mshape)\n\u001b[0;32m---> <a href='vscode-notebook-cell:/home/ozma/Source/abus-classification/unet-classification.ipynb#X14sZmlsZQ%3D%3D?line=20'>21</a>\u001b[0m     loss \u001b[39m=\u001b[39m loss_fn(predictions, targets)\n\u001b[1;32m     <a href='vscode-notebook-cell:/home/ozma/Source/abus-classification/unet-classification.ipynb#X14sZmlsZQ%3D%3D?line=21'>22</a>\u001b[0m \u001b[39m# backward\u001b[39;00m\n\u001b[1;32m     <a href='vscode-notebook-cell:/home/ozma/Source/abus-classification/unet-classification.ipynb#X14sZmlsZQ%3D%3D?line=22'>23</a>\u001b[0m optimizer\u001b[39m.\u001b[39mzero_grad()\n",
      "File \u001b[0;32m~/anaconda3/envs/torch/lib/python3.9/site-packages/torch/nn/modules/module.py:1501\u001b[0m, in \u001b[0;36mModule._call_impl\u001b[0;34m(self, *args, **kwargs)\u001b[0m\n\u001b[1;32m   1496\u001b[0m \u001b[39m# If we don't have any hooks, we want to skip the rest of the logic in\u001b[39;00m\n\u001b[1;32m   1497\u001b[0m \u001b[39m# this function, and just call forward.\u001b[39;00m\n\u001b[1;32m   1498\u001b[0m \u001b[39mif\u001b[39;00m \u001b[39mnot\u001b[39;00m (\u001b[39mself\u001b[39m\u001b[39m.\u001b[39m_backward_hooks \u001b[39mor\u001b[39;00m \u001b[39mself\u001b[39m\u001b[39m.\u001b[39m_backward_pre_hooks \u001b[39mor\u001b[39;00m \u001b[39mself\u001b[39m\u001b[39m.\u001b[39m_forward_hooks \u001b[39mor\u001b[39;00m \u001b[39mself\u001b[39m\u001b[39m.\u001b[39m_forward_pre_hooks\n\u001b[1;32m   1499\u001b[0m         \u001b[39mor\u001b[39;00m _global_backward_pre_hooks \u001b[39mor\u001b[39;00m _global_backward_hooks\n\u001b[1;32m   1500\u001b[0m         \u001b[39mor\u001b[39;00m _global_forward_hooks \u001b[39mor\u001b[39;00m _global_forward_pre_hooks):\n\u001b[0;32m-> 1501\u001b[0m     \u001b[39mreturn\u001b[39;00m forward_call(\u001b[39m*\u001b[39;49margs, \u001b[39m*\u001b[39;49m\u001b[39m*\u001b[39;49mkwargs)\n\u001b[1;32m   1502\u001b[0m \u001b[39m# Do not call functions when jit is used\u001b[39;00m\n\u001b[1;32m   1503\u001b[0m full_backward_hooks, non_full_backward_hooks \u001b[39m=\u001b[39m [], []\n",
      "\u001b[1;32m/home/ozma/Source/abus-classification/unet-classification.ipynb Cell 13\u001b[0m line \u001b[0;36m9\n\u001b[1;32m      <a href='vscode-notebook-cell:/home/ozma/Source/abus-classification/unet-classification.ipynb#X14sZmlsZQ%3D%3D?line=5'>6</a>\u001b[0m \u001b[39mdef\u001b[39;00m \u001b[39mforward\u001b[39m(\u001b[39mself\u001b[39m, predictions, targets):\n\u001b[1;32m      <a href='vscode-notebook-cell:/home/ozma/Source/abus-classification/unet-classification.ipynb#X14sZmlsZQ%3D%3D?line=6'>7</a>\u001b[0m     \u001b[39m# Flatten predictions and targets\u001b[39;00m\n\u001b[1;32m      <a href='vscode-notebook-cell:/home/ozma/Source/abus-classification/unet-classification.ipynb#X14sZmlsZQ%3D%3D?line=7'>8</a>\u001b[0m     predictions \u001b[39m=\u001b[39m predictions\u001b[39m.\u001b[39mview(\u001b[39m-\u001b[39m\u001b[39m1\u001b[39m)\n\u001b[0;32m----> <a href='vscode-notebook-cell:/home/ozma/Source/abus-classification/unet-classification.ipynb#X14sZmlsZQ%3D%3D?line=8'>9</a>\u001b[0m     targets \u001b[39m=\u001b[39m targets\u001b[39m.\u001b[39;49mview(\u001b[39m-\u001b[39;49m\u001b[39m1\u001b[39;49m)\n\u001b[1;32m     <a href='vscode-notebook-cell:/home/ozma/Source/abus-classification/unet-classification.ipynb#X14sZmlsZQ%3D%3D?line=10'>11</a>\u001b[0m     intersection \u001b[39m=\u001b[39m (predictions \u001b[39m*\u001b[39m targets)\u001b[39m.\u001b[39msum()\n\u001b[1;32m     <a href='vscode-notebook-cell:/home/ozma/Source/abus-classification/unet-classification.ipynb#X14sZmlsZQ%3D%3D?line=11'>12</a>\u001b[0m     dice_coefficient \u001b[39m=\u001b[39m (\u001b[39m2.\u001b[39m \u001b[39m*\u001b[39m intersection \u001b[39m+\u001b[39m \u001b[39mself\u001b[39m\u001b[39m.\u001b[39msmooth) \u001b[39m/\u001b[39m (predictions\u001b[39m.\u001b[39msum() \u001b[39m+\u001b[39m targets\u001b[39m.\u001b[39msum() \u001b[39m+\u001b[39m \u001b[39mself\u001b[39m\u001b[39m.\u001b[39msmooth)\n",
      "\u001b[0;31mRuntimeError\u001b[0m: view size is not compatible with input tensor's size and stride (at least one dimension spans across two contiguous subspaces). Use .reshape(...) instead."
     ]
    }
   ],
   "source": [
    "def train(model, dataset, optimizer, loss_fn):\n",
    "    print(\"training model...\")\n",
    "    model.train()\n",
    "    loop = tqdm(dataset)\n",
    "    for data in loop:\n",
    "        x, y, l = data\n",
    "        # Make tumors obvious...\n",
    "        x = x - x*y*0.6\n",
    "        for i in range(0, x.shape[2], 32):\n",
    "            inputs = x[:,:,i:i+32]\n",
    "            targets = y[:,:,i:i+32]\n",
    "            # make the tumors obviously visible\n",
    "            inputs, targets = to_tensor((inputs, targets))\n",
    "            inputs = inputs.to(device)\n",
    "            targets = targets.to(device)            \n",
    "            # forward\n",
    "            with torch.cuda.amp.autocast():\n",
    "                predictions = model(inputs)\n",
    "                # predictions = torch.sigmoid(predictions)\n",
    "                print(predictions.shape, inputs.shape, targets.shape)\n",
    "                loss = loss_fn(predictions, targets)\n",
    "            # backward\n",
    "            optimizer.zero_grad()\n",
    "            scaler.scale(loss).backward()\n",
    "            scaler.step(optimizer)\n",
    "            scaler.update()\n",
    "        # update tqdm loop\n",
    "        loop.set_postfix(loss=loss.item())\n",
    "\n",
    "\n",
    "train(model, train_dataset, optimizer, criterion)"
   ]
  },
  {
   "cell_type": "code",
   "execution_count": 10,
   "metadata": {},
   "outputs": [],
   "source": [
    "def calculate_accuracy(dataset, model, device=\"cuda\"):\n",
    "    \n",
    "    print(\"calculating model accuracy...\")\n",
    "\n",
    "    num_correct = 0\n",
    "    num_pixels = 0\n",
    "    dice_score = 0\n",
    "    \n",
    "    model.eval()\n",
    "    loop = tqdm(dataset)\n",
    "\n",
    "    with torch.no_grad():\n",
    "        for vol, mask, l in loop:\n",
    "            \n",
    "            # Make tumors obvious...\n",
    "            vol = vol-vol*mask\n",
    "            vol, mask = to_tensor((vol, mask))\n",
    "            \n",
    "            for i in range(0, vol.shape[2], 32):\n",
    "                x = vol[:,:,i:i+32]\n",
    "                y = mask[:,:,i:i+32]\n",
    "                x = x.to(device)\n",
    "                y = y.to(device)\n",
    "                preds = torch.sigmoid(model(x))\n",
    "                preds = (preds > 0.5).float()\n",
    "                num_correct += (preds == y).sum()\n",
    "                num_pixels += torch.numel(preds)\n",
    "                dice_score += (2 * (preds * y).sum()) / (\n",
    "                    (preds + y).sum() + 1e-8\n",
    "                )\n",
    "                \n",
    "            loop.set_postfix(dice_score=dice_score)\n",
    "\n",
    "    print(f\"Got {num_correct}/{num_pixels} with acc {num_correct/num_pixels*100:.2f}\")\n",
    "    print(f\"Dice score: {dice_score/len(dataset)}\")\n",
    "    \n",
    "    model.train()"
   ]
  },
  {
   "cell_type": "code",
   "execution_count": 37,
   "metadata": {},
   "outputs": [
    {
     "name": "stdout",
     "output_type": "stream",
     "text": [
      "Saving the results as images...\n",
      "torch.Size([35, 1, 128, 128]) torch.Size([35, 1, 128, 128])\n"
     ]
    }
   ],
   "source": [
    "def save_results_as_imgs(model, dataset, path=\"./saved_images\"):\n",
    "    print(\"Saving the results as images...\")\n",
    "    model.eval()\n",
    "    idx = 0\n",
    "    vol, mask, label = dataset[idx]\n",
    "    vol = vol - vol*mask*0.6\n",
    "    vol, mask = to_tensor((vol, mask))\n",
    "    vol = vol.to(device)\n",
    "    mask = mask.to(device)\n",
    "    print(vol.shape, mask.shape)\n",
    "    \n",
    "    with torch.no_grad():\n",
    "        preds = torch.sigmoid(model(vol))\n",
    "        preds = (preds > 0.5).float()\n",
    "        torchvision.utils.save_image(preds, f\"{path}/prediction.png\")\n",
    "        torchvision.utils.save_image(mask, f\"{path}/ground_truth.png\")\n",
    "    model.train()\n",
    "    \n",
    "save_results_as_imgs(model, validation_dataset)"
   ]
  },
  {
   "cell_type": "code",
   "execution_count": 38,
   "metadata": {},
   "outputs": [
    {
     "name": "stdout",
     "output_type": "stream",
     "text": [
      "training model...\n"
     ]
    },
    {
     "data": {
      "application/vnd.jupyter.widget-view+json": {
       "model_id": "49a5d8543cd74a4db89a269e9faf3e52",
       "version_major": 2,
       "version_minor": 0
      },
      "text/plain": [
       "  0%|          | 0/80 [00:00<?, ?it/s]"
      ]
     },
     "metadata": {},
     "output_type": "display_data"
    },
    {
     "name": "stdout",
     "output_type": "stream",
     "text": [
      "Saving the results as images...\n",
      "torch.Size([15, 1, 128, 128]) torch.Size([15, 1, 128, 128])\n",
      "training model...\n"
     ]
    },
    {
     "data": {
      "application/vnd.jupyter.widget-view+json": {
       "model_id": "3c8d791c9eea438e97cdad33ae3acf88",
       "version_major": 2,
       "version_minor": 0
      },
      "text/plain": [
       "  0%|          | 0/80 [00:00<?, ?it/s]"
      ]
     },
     "metadata": {},
     "output_type": "display_data"
    },
    {
     "name": "stdout",
     "output_type": "stream",
     "text": [
      "Saving the results as images...\n",
      "torch.Size([15, 1, 128, 128]) torch.Size([15, 1, 128, 128])\n",
      "training model...\n"
     ]
    },
    {
     "data": {
      "application/vnd.jupyter.widget-view+json": {
       "model_id": "f2accc160fb54621b44b985e79fd2b48",
       "version_major": 2,
       "version_minor": 0
      },
      "text/plain": [
       "  0%|          | 0/80 [00:00<?, ?it/s]"
      ]
     },
     "metadata": {},
     "output_type": "display_data"
    },
    {
     "ename": "KeyboardInterrupt",
     "evalue": "",
     "output_type": "error",
     "traceback": [
      "\u001b[0;31m---------------------------------------------------------------------------\u001b[0m",
      "\u001b[0;31mKeyboardInterrupt\u001b[0m                         Traceback (most recent call last)",
      "\u001b[1;32m/home/ozma/Source/abus-classification/unet-classification.ipynb Cell 16\u001b[0m line \u001b[0;36m2\n\u001b[1;32m      <a href='vscode-notebook-cell:/home/ozma/Source/abus-classification/unet-classification.ipynb#X20sZmlsZQ%3D%3D?line=0'>1</a>\u001b[0m \u001b[39mfor\u001b[39;00m i \u001b[39min\u001b[39;00m \u001b[39mrange\u001b[39m(num_epochs):\n\u001b[0;32m----> <a href='vscode-notebook-cell:/home/ozma/Source/abus-classification/unet-classification.ipynb#X20sZmlsZQ%3D%3D?line=1'>2</a>\u001b[0m     train(model, train_dataset, optimizer, criterion)\n\u001b[1;32m      <a href='vscode-notebook-cell:/home/ozma/Source/abus-classification/unet-classification.ipynb#X20sZmlsZQ%3D%3D?line=2'>3</a>\u001b[0m     \u001b[39m# calculate_accuracy(train_dataset, model)\u001b[39;00m\n\u001b[1;32m      <a href='vscode-notebook-cell:/home/ozma/Source/abus-classification/unet-classification.ipynb#X20sZmlsZQ%3D%3D?line=3'>4</a>\u001b[0m     save_results_as_imgs(model, train_dataset)\n",
      "\u001b[1;32m/home/ozma/Source/abus-classification/unet-classification.ipynb Cell 16\u001b[0m line \u001b[0;36m5\n\u001b[1;32m      <a href='vscode-notebook-cell:/home/ozma/Source/abus-classification/unet-classification.ipynb#X20sZmlsZQ%3D%3D?line=2'>3</a>\u001b[0m model\u001b[39m.\u001b[39mtrain()\n\u001b[1;32m      <a href='vscode-notebook-cell:/home/ozma/Source/abus-classification/unet-classification.ipynb#X20sZmlsZQ%3D%3D?line=3'>4</a>\u001b[0m loop \u001b[39m=\u001b[39m tqdm(dataset)\n\u001b[0;32m----> <a href='vscode-notebook-cell:/home/ozma/Source/abus-classification/unet-classification.ipynb#X20sZmlsZQ%3D%3D?line=4'>5</a>\u001b[0m \u001b[39mfor\u001b[39;00m data \u001b[39min\u001b[39;00m loop:\n\u001b[1;32m      <a href='vscode-notebook-cell:/home/ozma/Source/abus-classification/unet-classification.ipynb#X20sZmlsZQ%3D%3D?line=5'>6</a>\u001b[0m     x, y, l \u001b[39m=\u001b[39m data\n\u001b[1;32m      <a href='vscode-notebook-cell:/home/ozma/Source/abus-classification/unet-classification.ipynb#X20sZmlsZQ%3D%3D?line=6'>7</a>\u001b[0m     \u001b[39m# Make tumors obvious...\u001b[39;00m\n",
      "File \u001b[0;32m~/anaconda3/envs/torch/lib/python3.9/site-packages/tqdm/notebook.py:254\u001b[0m, in \u001b[0;36mtqdm_notebook.__iter__\u001b[0;34m(self)\u001b[0m\n\u001b[1;32m    252\u001b[0m \u001b[39mtry\u001b[39;00m:\n\u001b[1;32m    253\u001b[0m     it \u001b[39m=\u001b[39m \u001b[39msuper\u001b[39m(tqdm_notebook, \u001b[39mself\u001b[39m)\u001b[39m.\u001b[39m\u001b[39m__iter__\u001b[39m()\n\u001b[0;32m--> 254\u001b[0m     \u001b[39mfor\u001b[39;00m obj \u001b[39min\u001b[39;00m it:\n\u001b[1;32m    255\u001b[0m         \u001b[39m# return super(tqdm...) will not catch exception\u001b[39;00m\n\u001b[1;32m    256\u001b[0m         \u001b[39myield\u001b[39;00m obj\n\u001b[1;32m    257\u001b[0m \u001b[39m# NB: except ... [ as ...] breaks IPython async KeyboardInterrupt\u001b[39;00m\n",
      "File \u001b[0;32m~/anaconda3/envs/torch/lib/python3.9/site-packages/tqdm/std.py:1178\u001b[0m, in \u001b[0;36mtqdm.__iter__\u001b[0;34m(self)\u001b[0m\n\u001b[1;32m   1175\u001b[0m time \u001b[39m=\u001b[39m \u001b[39mself\u001b[39m\u001b[39m.\u001b[39m_time\n\u001b[1;32m   1177\u001b[0m \u001b[39mtry\u001b[39;00m:\n\u001b[0;32m-> 1178\u001b[0m     \u001b[39mfor\u001b[39;00m obj \u001b[39min\u001b[39;00m iterable:\n\u001b[1;32m   1179\u001b[0m         \u001b[39myield\u001b[39;00m obj\n\u001b[1;32m   1180\u001b[0m         \u001b[39m# Update and possibly print the progressbar.\u001b[39;00m\n\u001b[1;32m   1181\u001b[0m         \u001b[39m# Note: does not call self.update(1) for speed optimisation.\u001b[39;00m\n",
      "File \u001b[0;32m~/Source/abus-classification/datasets/tdsc.py:50\u001b[0m, in \u001b[0;36mTDSC.__getitem__\u001b[0;34m(self, index)\u001b[0m\n\u001b[1;32m     46\u001b[0m mask_path \u001b[39m=\u001b[39m mask_path\u001b[39m.\u001b[39mreplace(\u001b[39m'\u001b[39m\u001b[39m\\\\\u001b[39;00m\u001b[39m'\u001b[39m, \u001b[39m'\u001b[39m\u001b[39m/\u001b[39m\u001b[39m'\u001b[39m)\n\u001b[1;32m     47\u001b[0m label \u001b[39m=\u001b[39m \u001b[39m0\u001b[39m \u001b[39mif\u001b[39;00m label \u001b[39m==\u001b[39m \u001b[39m'\u001b[39m\u001b[39mM\u001b[39m\u001b[39m'\u001b[39m \u001b[39melse\u001b[39;00m \u001b[39m1\u001b[39m\n\u001b[0;32m---> 50\u001b[0m vol, _ \u001b[39m=\u001b[39m nrrd\u001b[39m.\u001b[39;49mread(\u001b[39mf\u001b[39;49m\u001b[39m\"\u001b[39;49m\u001b[39m{\u001b[39;49;00m\u001b[39mself\u001b[39;49m\u001b[39m.\u001b[39;49mpath_to_dataset\u001b[39m}\u001b[39;49;00m\u001b[39m/\u001b[39;49m\u001b[39m{\u001b[39;49;00mvol_path\u001b[39m}\u001b[39;49;00m\u001b[39m\"\u001b[39;49m)\n\u001b[1;32m     51\u001b[0m mask, _ \u001b[39m=\u001b[39m nrrd\u001b[39m.\u001b[39mread(\u001b[39mf\u001b[39m\u001b[39m\"\u001b[39m\u001b[39m{\u001b[39;00m\u001b[39mself\u001b[39m\u001b[39m.\u001b[39mpath_to_dataset\u001b[39m}\u001b[39;00m\u001b[39m/\u001b[39m\u001b[39m{\u001b[39;00mmask_path\u001b[39m}\u001b[39;00m\u001b[39m\"\u001b[39m) \n\u001b[1;32m     53\u001b[0m \u001b[39m# # extracting tumors\u001b[39;00m\n",
      "File \u001b[0;32m~/anaconda3/envs/torch/lib/python3.9/site-packages/nrrd/reader.py:517\u001b[0m, in \u001b[0;36mread\u001b[0;34m(filename, custom_field_map, index_order)\u001b[0m\n\u001b[1;32m    515\u001b[0m \u001b[39mwith\u001b[39;00m \u001b[39mopen\u001b[39m(filename, \u001b[39m'\u001b[39m\u001b[39mrb\u001b[39m\u001b[39m'\u001b[39m) \u001b[39mas\u001b[39;00m fh:\n\u001b[1;32m    516\u001b[0m     header \u001b[39m=\u001b[39m read_header(fh, custom_field_map)\n\u001b[0;32m--> 517\u001b[0m     data \u001b[39m=\u001b[39m read_data(header, fh, filename, index_order)\n\u001b[1;32m    519\u001b[0m \u001b[39mreturn\u001b[39;00m data, header\n",
      "File \u001b[0;32m~/anaconda3/envs/torch/lib/python3.9/site-packages/nrrd/reader.py:446\u001b[0m, in \u001b[0;36mread_data\u001b[0;34m(header, fh, filename, index_order)\u001b[0m\n\u001b[1;32m    443\u001b[0m end_index \u001b[39m=\u001b[39m \u001b[39mmin\u001b[39m(start_index \u001b[39m+\u001b[39m _READ_CHUNKSIZE, compressed_data_len)\n\u001b[1;32m    445\u001b[0m \u001b[39m# Decompress and append data\u001b[39;00m\n\u001b[0;32m--> 446\u001b[0m decompressed_data \u001b[39m+\u001b[39m\u001b[39m=\u001b[39m decompobj\u001b[39m.\u001b[39;49mdecompress(compressed_data[start_index:end_index])\n\u001b[1;32m    448\u001b[0m \u001b[39m# Update start index\u001b[39;00m\n\u001b[1;32m    449\u001b[0m start_index \u001b[39m=\u001b[39m end_index\n",
      "\u001b[0;31mKeyboardInterrupt\u001b[0m: "
     ]
    }
   ],
   "source": [
    "for i in range(num_epochs):\n",
    "    train(model, train_dataset, optimizer, criterion)\n",
    "    # calculate_accuracy(train_dataset, model)\n",
    "    save_results_as_imgs(model, train_dataset)\n"
   ]
  },
  {
   "cell_type": "code",
   "execution_count": 11,
   "metadata": {},
   "outputs": [
    {
     "name": "stdout",
     "output_type": "stream",
     "text": [
      "torch.Size([23, 1, 128, 128])\n"
     ]
    },
    {
     "ename": "IndexError",
     "evalue": "index 10 is out of bounds for dimension 1 with size 1",
     "output_type": "error",
     "traceback": [
      "\u001b[0;31m---------------------------------------------------------------------------\u001b[0m",
      "\u001b[0;31mIndexError\u001b[0m                                Traceback (most recent call last)",
      "\u001b[1;32m/home/ozma/Source/abus-classification/unet-classification.ipynb Cell 16\u001b[0m line \u001b[0;36m6\n\u001b[1;32m      <a href='vscode-notebook-cell:/home/ozma/Source/abus-classification/unet-classification.ipynb#X16sZmlsZQ%3D%3D?line=3'>4</a>\u001b[0m x, m \u001b[39m=\u001b[39m to_tensor((x,m))\n\u001b[1;32m      <a href='vscode-notebook-cell:/home/ozma/Source/abus-classification/unet-classification.ipynb#X16sZmlsZQ%3D%3D?line=4'>5</a>\u001b[0m \u001b[39mprint\u001b[39m(x\u001b[39m.\u001b[39mshape)\n\u001b[0;32m----> <a href='vscode-notebook-cell:/home/ozma/Source/abus-classification/unet-classification.ipynb#X16sZmlsZQ%3D%3D?line=5'>6</a>\u001b[0m x \u001b[39m=\u001b[39m x[:,\u001b[39m10\u001b[39;49m,:,:]\n\u001b[1;32m      <a href='vscode-notebook-cell:/home/ozma/Source/abus-classification/unet-classification.ipynb#X16sZmlsZQ%3D%3D?line=6'>7</a>\u001b[0m \u001b[39mprint\u001b[39m(x\u001b[39m.\u001b[39mshape)\n\u001b[1;32m      <a href='vscode-notebook-cell:/home/ozma/Source/abus-classification/unet-classification.ipynb#X16sZmlsZQ%3D%3D?line=7'>8</a>\u001b[0m m \u001b[39m=\u001b[39m m[:,\u001b[39m10\u001b[39m,:,:]\n",
      "\u001b[0;31mIndexError\u001b[0m: index 10 is out of bounds for dimension 1 with size 1"
     ]
    }
   ],
   "source": [
    "model.eval()\n",
    "\n",
    "x, m, y = validation_dataset[10]\n",
    "x, m = to_tensor((x,m))\n",
    "print(x.shape)\n",
    "x = x[:,10,:,:]\n",
    "print(x.shape)\n",
    "m = m[:,10,:,:]\n",
    "x = x.unsqueeze(0)\n",
    "print(x.shape)\n",
    "print(m.shape)\n",
    "x = x.to(device)\n",
    "prediction = torch.sigmoid(model(x))\n",
    "prediction = (prediction > 0.5).float()\n",
    "print (prediction.shape)\n",
    "pred = prediction.squeeze()\n",
    "m = m.squeeze()\n",
    "pred = pred.to('cpu').detach().numpy()\n",
    "m = m.to('cpu').detach().numpy()\n",
    "print (m.shape, pred.shape)\n",
    "plt.subplot(1,2,1)\n",
    "plt.imshow(pred)\n",
    "plt.subplot(1,2,2)\n",
    "plt.imshow(m)\n",
    "plt.show()\n",
    "\n",
    "model.train()"
   ]
  }
 ],
 "metadata": {
  "kernelspec": {
   "display_name": "torch",
   "language": "python",
   "name": "python3"
  },
  "language_info": {
   "codemirror_mode": {
    "name": "ipython",
    "version": 3
   },
   "file_extension": ".py",
   "mimetype": "text/x-python",
   "name": "python",
   "nbconvert_exporter": "python",
   "pygments_lexer": "ipython3",
   "version": "3.9.16"
  },
  "orig_nbformat": 4
 },
 "nbformat": 4,
 "nbformat_minor": 2
}
