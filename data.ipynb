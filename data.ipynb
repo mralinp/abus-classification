{
 "cells": [
  {
   "cell_type": "code",
   "execution_count": 15,
   "metadata": {},
   "outputs": [],
   "source": [
    "import cv2\n",
    "import numpy as np\n",
    "import matplotlib.pyplot as plt\n",
    "from tqdm.notebook import tqdm\n",
    "\n",
    "import datasets\n",
    "import utils\n",
    "import shutil\n",
    "import os"
   ]
  },
  {
   "cell_type": "code",
   "execution_count": 2,
   "metadata": {},
   "outputs": [
    {
     "name": "stdout",
     "output_type": "stream",
     "text": [
      "100\n"
     ]
    }
   ],
   "source": [
    "data = datasets.TDSC()\n",
    "print(len(data))"
   ]
  },
  {
   "cell_type": "code",
   "execution_count": 3,
   "metadata": {},
   "outputs": [],
   "source": [
    "root_path = \"./data/tdsc/tumors\""
   ]
  },
  {
   "cell_type": "code",
   "execution_count": 9,
   "metadata": {},
   "outputs": [],
   "source": [
    "def find_tumors(mask: np) -> np:\n",
    "    '''\n",
    "    Finds all bounding boxes in volume containing tumors\n",
    "    \n",
    "    parameters:\n",
    "    - mask: numpy array with shape (x,y,d)\n",
    "    \n",
    "    returns:\n",
    "    - numpy array with (None, [x,y,w,h,d])\n",
    "    '''\n",
    "    \n",
    "    _, _, depth = mask.shape\n",
    "    bbxs = []\n",
    "    for d in range(depth):\n",
    "        sli = mask[:,:,d]\n",
    "        if sli.max() != 0:\n",
    "            *bbx, = utils.image.find_bbx(sli)\n",
    "            bbx.append(d)\n",
    "            bbxs += [bbx]\n",
    "    return np.array(bbxs)"
   ]
  },
  {
   "cell_type": "code",
   "execution_count": 25,
   "metadata": {},
   "outputs": [
    {
     "data": {
      "application/vnd.jupyter.widget-view+json": {
       "model_id": "18af1a5f034948b2bfe48215ee444dd2",
       "version_major": 2,
       "version_minor": 0
      },
      "text/plain": [
       "0it [00:00, ?it/s]"
      ]
     },
     "metadata": {},
     "output_type": "display_data"
    }
   ],
   "source": [
    "for idx, sample in tqdm(enumerate(data)):\n",
    "    v,m,l = sample\n",
    "    m = m*255\n",
    "    bbxs = find_tumors(m)\n",
    "    for bbx in bbxs:\n",
    "        y,x,h,w,d = bbx\n",
    "        img = v[x:x+w, y:y+h,d]\n",
    "        msk = m[x:x+w, y:y+h,d]\n",
    "        os.makedirs(f\"{root_path}/data/{l}/{idx}\", exist_ok=True)\n",
    "        os.makedirs(f\"{root_path}/mask/{l}/{idx}\", exist_ok=True)\n",
    "        cv2.imwrite(f\"{root_path}/data/{l}/{idx}/{d}.png\", img)\n",
    "        cv2.imwrite(f\"{root_path}/mask/{l}/{idx}/{d}.png\", msk)"
   ]
  },
  {
   "cell_type": "code",
   "execution_count": 13,
   "metadata": {},
   "outputs": [
    {
     "name": "stdout",
     "output_type": "stream",
     "text": [
      "('10', 'ali', 21, 'jakesh') {'ali': 10, 'text': 'hassan', 'flag': True}\n",
      "1 2 2 3 4 5\n"
     ]
    }
   ],
   "source": [
    "def fun(*numbers, **options):\n",
    "    print(numbers, options)\n",
    "    type(options)\n",
    "    \n",
    "\n",
    "fun('10', 'ali', 21, 'jakesh', ali=10, text=\"hassan\", flag=True)\n",
    "\n",
    "a = [1,2,2,3,4,5]\n",
    "b = {\"ali\" : 10}\n",
    "print(*a)"
   ]
  }
 ],
 "metadata": {
  "kernelspec": {
   "display_name": "torch",
   "language": "python",
   "name": "python3"
  },
  "language_info": {
   "codemirror_mode": {
    "name": "ipython",
    "version": 3
   },
   "file_extension": ".py",
   "mimetype": "text/x-python",
   "name": "python",
   "nbconvert_exporter": "python",
   "pygments_lexer": "ipython3",
   "version": "3.9.16"
  }
 },
 "nbformat": 4,
 "nbformat_minor": 2
}
