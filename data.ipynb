{
 "cells": [
  {
   "cell_type": "code",
   "execution_count": 16,
   "metadata": {},
   "outputs": [],
   "source": [
    "import cv2\n",
    "import numpy as np\n",
    "import matplotlib.pyplot as plt\n",
    "from tqdm.notebook import tqdm\n",
    "\n",
    "import datasets\n",
    "import utils\n",
    "import shutil\n",
    "import os"
   ]
  },
  {
   "cell_type": "code",
   "execution_count": 17,
   "metadata": {},
   "outputs": [
    {
     "name": "stdout",
     "output_type": "stream",
     "text": [
      "100\n"
     ]
    }
   ],
   "source": [
    "root_path = \"./data/tdsc/tumors_3d\"\n",
    "transpose_shapes = [((0,1,2), 'z'), ((2,0,1), 'y'), ((1,2,0), 'x')]\n",
    "data = datasets.TDSC()\n",
    "print(len(data))"
   ]
  },
  {
   "cell_type": "code",
   "execution_count": 18,
   "metadata": {},
   "outputs": [],
   "source": [
    "def find_tumors(mask: np) -> np:\n",
    "    '''\n",
    "    Finds all bounding boxes in volume containing tumors\n",
    "    \n",
    "    parameters:\n",
    "    - mask: numpy array with shape (x,y,d)\n",
    "    \n",
    "    returns:\n",
    "    - numpy array with (None, [x,y,w,h,d])\n",
    "    '''\n",
    "    \n",
    "    _, _, depth = mask.shape\n",
    "    bbxs = []\n",
    "    for d in range(depth):\n",
    "        sli = mask[:,:,d]\n",
    "        if sli.max() != 0:\n",
    "            *bbx, = utils.image.find_bbx(sli)\n",
    "            bbx.append(d)\n",
    "            bbxs += [bbx]\n",
    "    return np.array(bbxs)"
   ]
  },
  {
   "cell_type": "code",
   "execution_count": 19,
   "metadata": {},
   "outputs": [],
   "source": [
    "def find_largest_bounding_box(bbxs: list):\n",
    "    \n",
    "    xl,yl = 1000, 1000\n",
    "    xh,yh = 0, 0\n",
    "    \n",
    "    for bbx in bbxs:\n",
    "        \n",
    "        x,y,w,h,_ = bbx\n",
    "        xl = min(xl, x)\n",
    "        yl = min(yl, y)\n",
    "        xh = max(xh, x+w)\n",
    "        yh = max(yh, y+h)\n",
    "        \n",
    "    return (xl,yl), (xh,yh)"
   ]
  },
  {
   "cell_type": "code",
   "execution_count": 20,
   "metadata": {},
   "outputs": [],
   "source": [
    "for shape, cat in transpose_shapes:    \n",
    "    for index, sample in enumerate(data):\n",
    "        \n",
    "        v,m,y = sample\n",
    "        v = np.transpose(v, shape)\n",
    "        m = np.transpose(m, shape)\n",
    "        bbxs = find_tumors(m)\n",
    "        l,h = find_largest_bounding_box(bbxs)\n",
    "        tumor = np.zeros([h[1]-l[1], h[0]-l[0], len(bbxs)])\n",
    "        mask = np.zeros([h[1]-l[1], h[0]-l[0], len(bbxs)])\n",
    "        \n",
    "        for idx, bbx in enumerate(bbxs):    \n",
    "            _, _, _, _, d = bbx\n",
    "            tumor[:,:,idx] = v[l[1]:h[1], l[0]:h[0], d]\n",
    "            mask[:,:,idx] = m[l[1]:h[1], l[0]:h[0], d]\n",
    "            \n",
    "        np.save(f\"./data/tdsc/tumors_3d/{cat}/data/{y}/{index}\", tumor)\n",
    "        np.save(f\"./data/tdsc/tumors_3d/{cat}/mask/{y}/{index}\", mask)"
   ]
  }
 ],
 "metadata": {
  "kernelspec": {
   "display_name": "torch",
   "language": "python",
   "name": "python3"
  },
  "language_info": {
   "codemirror_mode": {
    "name": "ipython",
    "version": 3
   },
   "file_extension": ".py",
   "mimetype": "text/x-python",
   "name": "python",
   "nbconvert_exporter": "python",
   "pygments_lexer": "ipython3",
   "version": "3.9.0"
  }
 },
 "nbformat": 4,
 "nbformat_minor": 2
}
