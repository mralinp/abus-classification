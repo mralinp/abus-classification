{
 "cells": [
  {
   "cell_type": "code",
   "execution_count": 12,
   "metadata": {},
   "outputs": [],
   "source": [
    "import cv2\n",
    "import torch\n",
    "import numpy as np\n",
    "import matplotlib.pyplot as plt\n",
    "from tqdm.notebook import tqdm\n",
    "\n",
    "import datasets\n",
    "import utils"
   ]
  },
  {
   "cell_type": "code",
   "execution_count": 3,
   "metadata": {},
   "outputs": [
    {
     "name": "stdout",
     "output_type": "stream",
     "text": [
      "(20, 20, 3) 1\n",
      "100\n"
     ]
    }
   ],
   "source": [
    "dataset = datasets.TDSCTexture()\n",
    "x, y = dataset[99]\n",
    "print(x.shape, y)\n",
    "print(len(dataset))"
   ]
  },
  {
   "cell_type": "code",
   "execution_count": 4,
   "metadata": {},
   "outputs": [
    {
     "data": {
      "image/png": "[encoded data removed]",
      "text/plain": [
       "<Figure size 640x480 with 1 Axes>"
      ]
     },
     "metadata": {},
     "output_type": "display_data"
    }
   ],
   "source": [
    "plt.imshow(x[:,:,0], cmap=\"gray\")\n",
    "plt.show()"
   ]
  },
  {
   "cell_type": "code",
   "execution_count": 5,
   "metadata": {},
   "outputs": [
    {
     "name": "stdout",
     "output_type": "stream",
     "text": [
      "[[ 57.533337   131.06648     93.177185   ...   0.719143     0.5201475\n",
      "    0.74693304]\n",
      " [ 16.295614    41.454296    30.669298   ...   0.6761821    0.5638431\n",
      "    0.71009517]\n",
      " [ 28.630701    68.84672     47.895615   ...   0.6827176    0.53249174\n",
      "    0.71816444]\n",
      " ...\n",
      " [ 11.327193    19.357342    14.441228   ...   0.8230541    0.71999127\n",
      "    0.79907733]\n",
      " [ 37.574562   110.45614     78.64912    ...   0.84938115   0.7604809\n",
      "    0.870869  ]\n",
      " [ 65.34649    140.68605     97.42544    ...   0.7185736    0.6126752\n",
      "    0.7497123 ]]\n"
     ]
    }
   ],
   "source": [
    "distances = [1, 2]\n",
    "angles = [0, np.pi/4, np.pi/2, 3*np.pi/4]\n",
    "glcm_dataset = np.zeros((100, 40), dtype=np.float32)\n",
    "\n",
    "for idx, data in enumerate(dataset):\n",
    "    x, y = data\n",
    "    glcm_features = np.zeros((5,8), dtype=np.float32)\n",
    "    for i in range(3):\n",
    "        glcm = utils.features.glcm(x[:,:,i], distances=distances, angles=angles)\n",
    "        cnt = 0\n",
    "        for feature_name, value in glcm.items():\n",
    "            value = value.astype(np.float32).flatten()\n",
    "            glcm_features[cnt] += value\n",
    "            cnt += 1\n",
    "    glcm_features = glcm_features.flatten()/3\n",
    "    glcm_dataset[idx] = glcm_features\n",
    "\n",
    "print(glcm_dataset)"
   ]
  },
  {
   "cell_type": "code",
   "execution_count": 19,
   "metadata": {},
   "outputs": [
    {
     "name": "stdout",
     "output_type": "stream",
     "text": [
      "42\n"
     ]
    }
   ],
   "source": [
    "features_dataset = []\n",
    "s = 0\n",
    "for i in range(glcm_dataset.shape[0]):\n",
    "    _, y = dataset[i]\n",
    "    x = np.array(glcm_dataset[i])\n",
    "    features_dataset.append((x,y))\n",
    "    s+=y\n",
    "print(s)"
   ]
  },
  {
   "cell_type": "code",
   "execution_count": 7,
   "metadata": {},
   "outputs": [],
   "source": [
    "class Classifier(torch.nn.Module):\n",
    "    \n",
    "    def __init__(self, num_input, num_hidden, num_classes) -> None:\n",
    "        super(Classifier, self).__init__()\n",
    "        self.fc = torch.nn.Sequential(\n",
    "            torch.nn.Linear(num_input, num_hidden),\n",
    "            torch.nn.ReLU(),\n",
    "            torch.nn.Linear(num_hidden, num_hidden),\n",
    "            torch.nn.ReLU(),\n",
    "            torch.nn.Linear(num_hidden, num_classes),\n",
    "            torch.nn.Softmax()\n",
    "        )\n",
    "        \n",
    "    def forward(self, x):\n",
    "        return self.fc(x)"
   ]
  },
  {
   "cell_type": "code",
   "execution_count": 14,
   "metadata": {},
   "outputs": [],
   "source": [
    "num_epochs = 50\n",
    "learning_rate = 10e-3\n",
    "device = 'cuda'\n",
    "criterion = torch.nn.CrossEntropyLoss()"
   ]
  },
  {
   "cell_type": "code",
   "execution_count": 18,
   "metadata": {},
   "outputs": [
    {
     "name": "stdout",
     "output_type": "stream",
     "text": [
      "Testing sample #0: train acc is: 42.0/99\n",
      "Testing sample #1: train acc is: 55.0/99\n",
      "Testing sample #2: train acc is: 43.0/99\n",
      "Testing sample #3: train acc is: 57.0/99\n",
      "Testing sample #4: train acc is: 57.0/99\n",
      "Testing sample #5: train acc is: 56.0/99\n",
      "Testing sample #6: train acc is: 57.0/99\n"
     ]
    },
    {
     "name": "stderr",
     "output_type": "stream",
     "text": [
      "Exception ignored in: <function _MultiProcessingDataLoaderIter.__del__ at 0x7f74896e1550>\n",
      "Traceback (most recent call last):\n",
      "  File \"/home/ozma/anaconda3/envs/torch/lib/python3.9/site-packages/torch/utils/data/dataloader.py\", line 1479, in __del__\n",
      "    self._shutdown_workers()\n",
      "  File \"/home/ozma/anaconda3/envs/torch/lib/python3.9/site-packages/torch/utils/data/dataloader.py\", line 1437, in _shutdown_workers\n",
      "    if self._persistent_workers or self._workers_status[worker_id]:\n",
      "AttributeError: '_MultiProcessingDataLoaderIter' object has no attribute '_workers_status'\n"
     ]
    },
    {
     "name": "stdout",
     "output_type": "stream",
     "text": [
      "Testing sample #7: train acc is: 57.0/99\n",
      "Testing sample #8: train acc is: 57.0/99\n",
      "Testing sample #9: train acc is: 57.0/99\n",
      "Testing sample #10: train acc is: 57.0/99\n",
      "Testing sample #11: train acc is: 57.0/99\n",
      "Testing sample #12: train acc is: 42.0/99\n",
      "Testing sample #13: train acc is: 57.0/99\n",
      "Testing sample #14: train acc is: 57.0/99\n",
      "Testing sample #15: train acc is: 57.0/99\n",
      "Testing sample #16: train acc is: 42.0/99\n",
      "Testing sample #17: train acc is: 57.0/99\n",
      "Testing sample #18: train acc is: 57.0/99\n",
      "Testing sample #19: train acc is: 42.0/99\n",
      "Testing sample #20: train acc is: 57.0/99\n",
      "Testing sample #21: train acc is: 57.0/99\n",
      "Testing sample #22: train acc is: 57.0/99\n",
      "Testing sample #23: train acc is: 57.0/99\n",
      "Testing sample #24: train acc is: 57.0/99\n",
      "Testing sample #25: train acc is: 57.0/99\n",
      "Testing sample #26: train acc is: 57.0/99\n",
      "Testing sample #27: train acc is: 57.0/99\n",
      "Testing sample #28: train acc is: 52.0/99\n",
      "Testing sample #29: train acc is: 57.0/99\n",
      "Testing sample #30: train acc is: 57.0/99\n",
      "Testing sample #31: train acc is: 42.0/99\n",
      "Testing sample #32: train acc is: 57.0/99\n",
      "Testing sample #33: train acc is: 57.0/99\n",
      "Testing sample #34: train acc is: 57.0/99\n",
      "Testing sample #35: train acc is: 57.0/99\n",
      "Testing sample #36: train acc is: 57.0/99\n",
      "Testing sample #37: train acc is: 57.0/99\n",
      "Testing sample #38: train acc is: 57.0/99\n",
      "Testing sample #39: train acc is: 59.0/99\n",
      "Testing sample #40: train acc is: 57.0/99\n",
      "Testing sample #41: train acc is: 57.0/99\n",
      "Testing sample #42: train acc is: 57.0/99\n",
      "Testing sample #43: train acc is: 57.0/99\n",
      "Testing sample #44: train acc is: 57.0/99\n",
      "Testing sample #45: train acc is: 57.0/99\n",
      "Testing sample #46: train acc is: 57.0/99\n",
      "Testing sample #47: train acc is: 57.0/99\n",
      "Testing sample #48: train acc is: 57.0/99\n",
      "Testing sample #49: train acc is: 57.0/99\n",
      "Testing sample #50: train acc is: 57.0/99\n",
      "Testing sample #51: train acc is: 57.0/99\n",
      "Testing sample #52: train acc is: 57.0/99\n",
      "Testing sample #53: train acc is: 57.0/99\n",
      "Testing sample #54: train acc is: 61.0/99\n",
      "Testing sample #55: train acc is: 57.0/99\n",
      "Testing sample #56: train acc is: 57.0/99\n",
      "Testing sample #57: train acc is: 42.0/99\n",
      "Testing sample #58: train acc is: 58.0/99\n",
      "Testing sample #59: train acc is: 58.0/99\n",
      "Testing sample #60: train acc is: 58.0/99\n",
      "Testing sample #61: train acc is: 58.0/99\n",
      "Testing sample #62: train acc is: 58.0/99\n",
      "Testing sample #63: train acc is: 58.0/99\n",
      "Testing sample #64: train acc is: 58.0/99\n",
      "Testing sample #65: train acc is: 58.0/99\n",
      "Testing sample #66: train acc is: 58.0/99\n",
      "Testing sample #67: train acc is: 58.0/99\n",
      "Testing sample #68: train acc is: 58.0/99\n",
      "Testing sample #69: train acc is: 58.0/99\n",
      "Testing sample #70: train acc is: 58.0/99\n",
      "Testing sample #71: train acc is: 58.0/99\n",
      "Testing sample #72: train acc is: 58.0/99\n",
      "Testing sample #73: train acc is: 58.0/99\n",
      "Testing sample #74: train acc is: 41.0/99\n",
      "Testing sample #75: train acc is: 58.0/99\n",
      "Testing sample #76: train acc is: 58.0/99\n",
      "Testing sample #77: train acc is: 58.0/99\n",
      "Testing sample #78: train acc is: 63.0/99\n",
      "Testing sample #79: train acc is: 58.0/99\n",
      "Testing sample #80: train acc is: 61.0/99\n",
      "Testing sample #81: train acc is: 58.0/99\n",
      "Testing sample #82: train acc is: 41.0/99\n",
      "Testing sample #83: train acc is: 58.0/99\n",
      "Testing sample #84: train acc is: 55.0/99\n",
      "Testing sample #85: train acc is: 41.0/99\n",
      "Testing sample #86: train acc is: 41.0/99\n",
      "Testing sample #87: train acc is: 58.0/99\n",
      "Testing sample #88: train acc is: 58.0/99\n",
      "Testing sample #89: train acc is: 58.0/99\n",
      "Testing sample #90: train acc is: 58.0/99\n",
      "Testing sample #91: train acc is: 58.0/99\n",
      "Testing sample #92: train acc is: 58.0/99\n",
      "Testing sample #93: train acc is: 41.0/99\n",
      "Testing sample #94: train acc is: 58.0/99\n",
      "Testing sample #95: train acc is: 58.0/99\n",
      "Testing sample #96: train acc is: 58.0/99\n",
      "Testing sample #97: train acc is: 58.0/99\n",
      "Testing sample #98: train acc is: 58.0/99\n",
      "Testing sample #99: train acc is: 58.0/99\n",
      "Finished: test acc is: 55.0/100\n"
     ]
    }
   ],
   "source": [
    "num_correct_predictions = 0\n",
    "num_samples = 100\n",
    "\n",
    "for idx in range(len(features_dataset)):\n",
    "    train_data = features_dataset[:idx] + features_dataset[idx+1:]\n",
    "    model = Classifier(40, 20, 2).to(device)\n",
    "    optimizer = torch.optim.Adam(model.parameters(), lr=learning_rate) \n",
    "    test_sample = features_dataset[idx]\n",
    "    train_loader = torch.utils.data.DataLoader(train_data, batch_size=32, num_workers=8, shuffle=True, pin_memory=True)\n",
    "    for epoch in range(num_epochs):\n",
    "        for data in train_loader:\n",
    "            \n",
    "            x, y = data\n",
    "            x = x.to(device)\n",
    "            y = y.to(device).long()  \n",
    "            \n",
    "            predictions = model(x)\n",
    "            loss = criterion(predictions, y)\n",
    "            optimizer.zero_grad()\n",
    "            loss.backward()\n",
    "            optimizer.step()\n",
    "                \n",
    "        total = 0\n",
    "        num_corrects = 0\n",
    "        \n",
    "    for data in train_loader:\n",
    "        \n",
    "        x, y = data\n",
    "        x = x.to(device)\n",
    "        y = y.to(device).long()  \n",
    "        \n",
    "        model.eval()\n",
    "        \n",
    "        with torch.no_grad():\n",
    "        \n",
    "            predictions = model(x)\n",
    "            _, predictions = predictions.max(1)\n",
    "            num_corrects += (predictions == y).float().sum()\n",
    "            total += predictions.size(0)\n",
    "        \n",
    "        model.train()\n",
    "        \n",
    "    print(f\"Testing sample #{idx}: train acc is: {num_corrects}/{total}\")\n",
    "                        \n",
    "    x, y = test_sample\n",
    "    \n",
    "    x = torch.from_numpy(x).unsqueeze(0)\n",
    "    y = torch.tensor(y).unsqueeze(0)\n",
    "    \n",
    "    x = x.to(device)\n",
    "    y = y.to(device).long()  \n",
    "\n",
    "    model.eval()\n",
    "\n",
    "    with torch.no_grad():\n",
    "\n",
    "        predictions = model(x)\n",
    "        _, predictions = predictions.max(1)\n",
    "        num_correct_predictions += (predictions == y).float().sum()\n",
    "        \n",
    "    model.train()  \n",
    "        \n",
    "print(f\"Finished: test acc is: {num_correct_predictions}/{num_samples}\")"
   ]
  }
 ],
 "metadata": {
  "kernelspec": {
   "display_name": "torch",
   "language": "python",
   "name": "python3"
  },
  "language_info": {
   "codemirror_mode": {
    "name": "ipython",
    "version": 3
   },
   "file_extension": ".py",
   "mimetype": "text/x-python",
   "name": "python",
   "nbconvert_exporter": "python",
   "pygments_lexer": "ipython3",
   "version": "3.9.16"
  }
 },
 "nbformat": 4,
 "nbformat_minor": 2
}
